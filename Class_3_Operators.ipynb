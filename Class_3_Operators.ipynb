{
 "cells": [
  {
   "cell_type": "markdown",
   "id": "372ff4f4",
   "metadata": {
    "id": "1a4eec1e-7381-4990-b0ad-f64e43fadde1"
   },
   "source": [
    "\n",
    "# Logical Operator\n",
    "\n",
    "##### and\n",
    "##### or\n",
    "##### not\n"
   ]
  },
  {
   "cell_type": "raw",
   "id": "bd4774c8",
   "metadata": {},
   "source": [
    "# and\n",
    "\n",
    "True True = True\n",
    "True False = False\n",
    "False False = False\n",
    "False True = False"
   ]
  },
  {
   "cell_type": "raw",
   "id": "823ceed1",
   "metadata": {},
   "source": [
    "# or\n",
    "\n",
    "\n",
    "True True = True\n",
    "True False = True\n",
    "False False = False\n",
    "False True = True"
   ]
  },
  {
   "cell_type": "markdown",
   "id": "21eefabc",
   "metadata": {},
   "source": [
    ">\tGreater than\tx > y\t\n",
    "<\tLess than\tx < y\t\n"
   ]
  },
  {
   "cell_type": "code",
   "execution_count": 1,
   "id": "2b5af212-78a5-4395-917c-6afcc28a1aa7",
   "metadata": {
    "id": "2b5af212-78a5-4395-917c-6afcc28a1aa7"
   },
   "outputs": [],
   "source": [
    "a=10\n",
    "b=20"
   ]
  },
  {
   "cell_type": "code",
   "execution_count": 2,
   "id": "f923344b",
   "metadata": {
    "scrolled": true
   },
   "outputs": [
    {
     "data": {
      "text/plain": [
       "True"
      ]
     },
     "execution_count": 2,
     "metadata": {},
     "output_type": "execute_result"
    }
   ],
   "source": [
    "(a>6)"
   ]
  },
  {
   "cell_type": "code",
   "execution_count": 4,
   "id": "5b298ec1-ddad-42b5-810a-1624ca182f46",
   "metadata": {
    "id": "5b298ec1-ddad-42b5-810a-1624ca182f46",
    "outputId": "d2f22271-7983-461c-ac86-dd28060827f5"
   },
   "outputs": [
    {
     "data": {
      "text/plain": [
       "True"
      ]
     },
     "execution_count": 4,
     "metadata": {},
     "output_type": "execute_result"
    }
   ],
   "source": [
    "((a>10) or (b>7))"
   ]
  },
  {
   "cell_type": "code",
   "execution_count": 5,
   "id": "4fec6833-34ce-4dfe-9c3f-d2953c371ddd",
   "metadata": {
    "id": "4fec6833-34ce-4dfe-9c3f-d2953c371ddd",
    "outputId": "d3037425-7900-4e8b-9961-cc21e972d4d1"
   },
   "outputs": [
    {
     "name": "stdout",
     "output_type": "stream",
     "text": [
      "True\n"
     ]
    }
   ],
   "source": [
    "print( True and True)"
   ]
  },
  {
   "cell_type": "code",
   "execution_count": 7,
   "id": "a0bd0835-ce0a-4b5c-bd29-ab52c9c743fe",
   "metadata": {
    "id": "a0bd0835-ce0a-4b5c-bd29-ab52c9c743fe",
    "outputId": "7d7e1eda-4018-46f8-c93c-1e0680e635b6"
   },
   "outputs": [
    {
     "name": "stdout",
     "output_type": "stream",
     "text": [
      "True\n"
     ]
    }
   ],
   "source": [
    "print(False or True)"
   ]
  },
  {
   "cell_type": "code",
   "execution_count": 8,
   "id": "58a3221f-012b-4382-b5a1-77ddd2711334",
   "metadata": {
    "id": "58a3221f-012b-4382-b5a1-77ddd2711334"
   },
   "outputs": [],
   "source": [
    "a = False"
   ]
  },
  {
   "cell_type": "code",
   "execution_count": 9,
   "id": "87fc91f9-a0ff-497d-a2be-e536a80d7843",
   "metadata": {
    "id": "87fc91f9-a0ff-497d-a2be-e536a80d7843",
    "outputId": "a9fdc2b0-704a-4f66-b709-10bdf1ece546"
   },
   "outputs": [
    {
     "data": {
      "text/plain": [
       "True"
      ]
     },
     "execution_count": 9,
     "metadata": {},
     "output_type": "execute_result"
    }
   ],
   "source": [
    "not(a)"
   ]
  },
  {
   "cell_type": "markdown",
   "id": "2074861f",
   "metadata": {
    "id": "4fdb489f-b102-4ae9-a097-5217314e5e31"
   },
   "source": [
    "& --- and\n",
    "\n",
    "| --- or"
   ]
  },
  {
   "cell_type": "code",
   "execution_count": 10,
   "id": "ec1bad23-ac7a-4fb1-a411-a41f40ceac8f",
   "metadata": {
    "id": "ec1bad23-ac7a-4fb1-a411-a41f40ceac8f"
   },
   "outputs": [],
   "source": [
    "a= 50\n",
    "b= 4"
   ]
  },
  {
   "cell_type": "code",
   "execution_count": 11,
   "id": "d3bea730-f7a8-4c14-9561-632134d883b0",
   "metadata": {
    "id": "d3bea730-f7a8-4c14-9561-632134d883b0"
   },
   "outputs": [],
   "source": [
    "x=[1,2,3,4,5]"
   ]
  },
  {
   "cell_type": "code",
   "execution_count": 12,
   "id": "261fcb73-8bf5-4a22-9c1e-60df1e1e56e2",
   "metadata": {
    "id": "261fcb73-8bf5-4a22-9c1e-60df1e1e56e2",
    "outputId": "a1ecb946-2dbe-4d30-f542-cf8a2768563a"
   },
   "outputs": [
    {
     "data": {
      "text/plain": [
       "False"
      ]
     },
     "execution_count": 12,
     "metadata": {},
     "output_type": "execute_result"
    }
   ],
   "source": [
    "a in x"
   ]
  },
  {
   "cell_type": "code",
   "execution_count": 13,
   "id": "a3b80927-b199-424d-9a84-7f4cd5adb0f3",
   "metadata": {
    "id": "a3b80927-b199-424d-9a84-7f4cd5adb0f3",
    "outputId": "8056acbf-e172-4e42-f7db-6ad0f20c23e6"
   },
   "outputs": [
    {
     "data": {
      "text/plain": [
       "True"
      ]
     },
     "execution_count": 13,
     "metadata": {},
     "output_type": "execute_result"
    }
   ],
   "source": [
    "4 in x"
   ]
  },
  {
   "cell_type": "raw",
   "id": "c2dc291a",
   "metadata": {
    "id": "d51ff6c2-54d4-4e52-8efe-39571cf4e4aa"
   },
   "source": [
    "+\tAddition\tx + y\t\n",
    "-\tSubtraction\tx - y\t\n",
    "*\tMultiplication\tx * y\t\n",
    "/\tDivision\tx / y\t\n",
    "%\tModulus\tx % y\t\n",
    "**\tExponentiation\tx ** y\t\n",
    "//\tFloor division\tx // y"
   ]
  },
  {
   "cell_type": "code",
   "execution_count": 14,
   "id": "9186bc43",
   "metadata": {
    "scrolled": true
   },
   "outputs": [
    {
     "data": {
      "text/plain": [
       "1.8"
      ]
     },
     "execution_count": 14,
     "metadata": {},
     "output_type": "execute_result"
    }
   ],
   "source": [
    "9/5"
   ]
  },
  {
   "cell_type": "code",
   "execution_count": 16,
   "id": "61873450",
   "metadata": {},
   "outputs": [
    {
     "data": {
      "text/plain": [
       "4"
      ]
     },
     "execution_count": 16,
     "metadata": {},
     "output_type": "execute_result"
    }
   ],
   "source": [
    "9%5        # remainder"
   ]
  },
  {
   "cell_type": "code",
   "execution_count": 17,
   "id": "72d7a74b",
   "metadata": {},
   "outputs": [
    {
     "data": {
      "text/plain": [
       "1"
      ]
     },
     "execution_count": 17,
     "metadata": {},
     "output_type": "execute_result"
    }
   ],
   "source": [
    "9//5"
   ]
  },
  {
   "cell_type": "code",
   "execution_count": 22,
   "id": "c7778449",
   "metadata": {},
   "outputs": [
    {
     "data": {
      "text/plain": [
       "16"
      ]
     },
     "execution_count": 22,
     "metadata": {},
     "output_type": "execute_result"
    }
   ],
   "source": [
    "2**4"
   ]
  },
  {
   "cell_type": "code",
   "execution_count": 23,
   "id": "709d3988",
   "metadata": {},
   "outputs": [
    {
     "data": {
      "text/plain": [
       "17"
      ]
     },
     "execution_count": 23,
     "metadata": {},
     "output_type": "execute_result"
    }
   ],
   "source": [
    "89//5"
   ]
  },
  {
   "cell_type": "code",
   "execution_count": 24,
   "id": "faeb7350",
   "metadata": {
    "scrolled": true
   },
   "outputs": [
    {
     "data": {
      "text/plain": [
       "17.8"
      ]
     },
     "execution_count": 24,
     "metadata": {},
     "output_type": "execute_result"
    }
   ],
   "source": [
    "89/5"
   ]
  },
  {
   "cell_type": "raw",
   "id": "21bd112e",
   "metadata": {},
   "source": [
    "=\t                 x = 5  ->\tx = 5\t\n",
    "+=\t                 x += 3 ->   x = x + 3\t\n",
    "-=\t                 x -= 3 ->\tx = x - 3\t\n",
    "*=\t                 x *= 3 ->\tx = x * 3\t\n",
    "/=\t                 x /= 3 ->\tx = x / 3\t\n",
    "%=\t                 x %= 3 ->\tx = x % 3\t\n",
    "//=                  x //= 3 ->\tx = x // 3\t\n",
    "**=\t                 x **= 3 ->\tx = x ** 3\t\n"
   ]
  },
  {
   "cell_type": "code",
   "execution_count": 29,
   "id": "7868e426",
   "metadata": {},
   "outputs": [],
   "source": [
    "a = 5"
   ]
  },
  {
   "cell_type": "code",
   "execution_count": 30,
   "id": "bffff0c0",
   "metadata": {},
   "outputs": [
    {
     "data": {
      "text/plain": [
       "10"
      ]
     },
     "execution_count": 30,
     "metadata": {},
     "output_type": "execute_result"
    }
   ],
   "source": [
    "a = a + 5      # a += 5\n",
    "a"
   ]
  },
  {
   "cell_type": "code",
   "execution_count": 31,
   "id": "1e22d41a",
   "metadata": {},
   "outputs": [],
   "source": [
    "a += 10  # a = a + 10"
   ]
  },
  {
   "cell_type": "code",
   "execution_count": 32,
   "id": "21961543",
   "metadata": {},
   "outputs": [
    {
     "data": {
      "text/plain": [
       "20"
      ]
     },
     "execution_count": 32,
     "metadata": {},
     "output_type": "execute_result"
    }
   ],
   "source": [
    "a"
   ]
  },
  {
   "cell_type": "code",
   "execution_count": 33,
   "id": "4138152d",
   "metadata": {},
   "outputs": [
    {
     "data": {
      "text/plain": [
       "4"
      ]
     },
     "execution_count": 33,
     "metadata": {},
     "output_type": "execute_result"
    }
   ],
   "source": [
    "b"
   ]
  },
  {
   "cell_type": "code",
   "execution_count": 34,
   "id": "55ea8e4f",
   "metadata": {},
   "outputs": [
    {
     "data": {
      "text/plain": [
       "[1, 2, 3, 4, 5]"
      ]
     },
     "execution_count": 34,
     "metadata": {},
     "output_type": "execute_result"
    }
   ],
   "source": [
    "x"
   ]
  },
  {
   "cell_type": "code",
   "execution_count": 35,
   "id": "065bccec",
   "metadata": {},
   "outputs": [],
   "source": [
    "q = 2"
   ]
  },
  {
   "cell_type": "code",
   "execution_count": 36,
   "id": "f03d56db",
   "metadata": {},
   "outputs": [
    {
     "data": {
      "text/plain": [
       "8"
      ]
     },
     "execution_count": 36,
     "metadata": {},
     "output_type": "execute_result"
    }
   ],
   "source": [
    "q += 6     # q = q+6\n",
    "q"
   ]
  },
  {
   "cell_type": "code",
   "execution_count": 37,
   "id": "146b1043",
   "metadata": {},
   "outputs": [
    {
     "data": {
      "text/plain": [
       "20"
      ]
     },
     "execution_count": 37,
     "metadata": {},
     "output_type": "execute_result"
    }
   ],
   "source": [
    "a"
   ]
  },
  {
   "cell_type": "code",
   "execution_count": 40,
   "id": "3d27d451",
   "metadata": {},
   "outputs": [],
   "source": [
    "a -= 1  # a = a - 1"
   ]
  },
  {
   "cell_type": "code",
   "execution_count": 41,
   "id": "ba1c8eb5",
   "metadata": {},
   "outputs": [
    {
     "data": {
      "text/plain": [
       "18"
      ]
     },
     "execution_count": 41,
     "metadata": {},
     "output_type": "execute_result"
    }
   ],
   "source": [
    "a"
   ]
  },
  {
   "cell_type": "code",
   "execution_count": 42,
   "id": "b5e4bb30",
   "metadata": {},
   "outputs": [
    {
     "data": {
      "text/plain": [
       "36"
      ]
     },
     "execution_count": 42,
     "metadata": {},
     "output_type": "execute_result"
    }
   ],
   "source": [
    "a *= 2\n",
    "a"
   ]
  },
  {
   "cell_type": "code",
   "execution_count": 43,
   "id": "68ec7ca0",
   "metadata": {},
   "outputs": [
    {
     "data": {
      "text/plain": [
       "36"
      ]
     },
     "execution_count": 43,
     "metadata": {},
     "output_type": "execute_result"
    }
   ],
   "source": [
    "a"
   ]
  },
  {
   "cell_type": "code",
   "execution_count": 44,
   "id": "0aff1653",
   "metadata": {},
   "outputs": [],
   "source": [
    "a /= 2"
   ]
  },
  {
   "cell_type": "code",
   "execution_count": 45,
   "id": "e1652e1d",
   "metadata": {},
   "outputs": [
    {
     "data": {
      "text/plain": [
       "18.0"
      ]
     },
     "execution_count": 45,
     "metadata": {},
     "output_type": "execute_result"
    }
   ],
   "source": [
    "a"
   ]
  },
  {
   "cell_type": "code",
   "execution_count": 46,
   "id": "cc90e6fb",
   "metadata": {},
   "outputs": [],
   "source": [
    "a //= 2"
   ]
  },
  {
   "cell_type": "code",
   "execution_count": 47,
   "id": "37178b4a",
   "metadata": {},
   "outputs": [
    {
     "data": {
      "text/plain": [
       "9.0"
      ]
     },
     "execution_count": 47,
     "metadata": {},
     "output_type": "execute_result"
    }
   ],
   "source": [
    "a"
   ]
  },
  {
   "cell_type": "code",
   "execution_count": 48,
   "id": "ed572364",
   "metadata": {},
   "outputs": [],
   "source": [
    "a = 2"
   ]
  },
  {
   "cell_type": "code",
   "execution_count": 49,
   "id": "eccf463a",
   "metadata": {},
   "outputs": [],
   "source": [
    "a **= 5      #power"
   ]
  },
  {
   "cell_type": "code",
   "execution_count": 50,
   "id": "e8d31b99",
   "metadata": {
    "scrolled": true
   },
   "outputs": [
    {
     "data": {
      "text/plain": [
       "32"
      ]
     },
     "execution_count": 50,
     "metadata": {},
     "output_type": "execute_result"
    }
   ],
   "source": [
    "a"
   ]
  },
  {
   "cell_type": "markdown",
   "id": "63299588",
   "metadata": {},
   "source": [
    "==\tEqual\tx == y\t\n",
    "!=\tNot equal\tx != y\t\n",
    ">\tGreater than\tx > y\t\n",
    "<\tLess than\tx < y\t\n",
    ">=\tGreater than or equal to\tx >= y\t\n",
    "<="
   ]
  },
  {
   "cell_type": "code",
   "execution_count": 60,
   "id": "f2966928",
   "metadata": {},
   "outputs": [
    {
     "data": {
      "text/plain": [
       "False"
      ]
     },
     "execution_count": 60,
     "metadata": {},
     "output_type": "execute_result"
    }
   ],
   "source": [
    "a == 4"
   ]
  },
  {
   "cell_type": "code",
   "execution_count": 61,
   "id": "4780e3c7",
   "metadata": {},
   "outputs": [
    {
     "data": {
      "text/plain": [
       "True"
      ]
     },
     "execution_count": 61,
     "metadata": {},
     "output_type": "execute_result"
    }
   ],
   "source": [
    "2 * 10 == 20"
   ]
  },
  {
   "cell_type": "code",
   "execution_count": 62,
   "id": "93ce5f11",
   "metadata": {},
   "outputs": [
    {
     "data": {
      "text/plain": [
       "True"
      ]
     },
     "execution_count": 62,
     "metadata": {},
     "output_type": "execute_result"
    }
   ],
   "source": [
    "5 != 6"
   ]
  },
  {
   "cell_type": "code",
   "execution_count": 63,
   "id": "cef2f32a",
   "metadata": {},
   "outputs": [
    {
     "data": {
      "text/plain": [
       "32"
      ]
     },
     "execution_count": 63,
     "metadata": {},
     "output_type": "execute_result"
    }
   ],
   "source": [
    "a"
   ]
  },
  {
   "cell_type": "code",
   "execution_count": 64,
   "id": "87babd37",
   "metadata": {},
   "outputs": [
    {
     "data": {
      "text/plain": [
       "True"
      ]
     },
     "execution_count": 64,
     "metadata": {},
     "output_type": "execute_result"
    }
   ],
   "source": [
    "5 >= 5"
   ]
  },
  {
   "cell_type": "code",
   "execution_count": 65,
   "id": "bd46bd4f",
   "metadata": {},
   "outputs": [
    {
     "data": {
      "text/plain": [
       "False"
      ]
     },
     "execution_count": 65,
     "metadata": {},
     "output_type": "execute_result"
    }
   ],
   "source": [
    "10 <= 5"
   ]
  },
  {
   "cell_type": "code",
   "execution_count": 66,
   "id": "55dd3d4f",
   "metadata": {},
   "outputs": [
    {
     "data": {
      "text/plain": [
       "[1, 2, 3, 4, 5]"
      ]
     },
     "execution_count": 66,
     "metadata": {},
     "output_type": "execute_result"
    }
   ],
   "source": [
    "x = [1, 2, 3, 4, 5]\n",
    "x"
   ]
  },
  {
   "cell_type": "code",
   "execution_count": 67,
   "id": "7a737356",
   "metadata": {},
   "outputs": [
    {
     "data": {
      "text/plain": [
       "True"
      ]
     },
     "execution_count": 67,
     "metadata": {},
     "output_type": "execute_result"
    }
   ],
   "source": [
    "9 not in x"
   ]
  },
  {
   "cell_type": "code",
   "execution_count": null,
   "id": "688ec61e",
   "metadata": {},
   "outputs": [],
   "source": []
  }
 ],
 "metadata": {
  "colab": {
   "provenance": []
  },
  "kernelspec": {
   "display_name": "Python 3 (ipykernel)",
   "language": "python",
   "name": "python3"
  },
  "language_info": {
   "codemirror_mode": {
    "name": "ipython",
    "version": 3
   },
   "file_extension": ".py",
   "mimetype": "text/x-python",
   "name": "python",
   "nbconvert_exporter": "python",
   "pygments_lexer": "ipython3",
   "version": "3.9.13"
  }
 },
 "nbformat": 4,
 "nbformat_minor": 5
}
