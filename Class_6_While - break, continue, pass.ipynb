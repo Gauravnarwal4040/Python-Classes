{
 "cells": [
  {
   "cell_type": "code",
   "execution_count": 11,
   "id": "52c40eac-3821-4ede-bb47-3465f6fe113a",
   "metadata": {},
   "outputs": [
    {
     "name": "stdout",
     "output_type": "stream",
     "text": [
      "1\n",
      "2\n",
      "3\n",
      "4\n",
      "5\n",
      "6\n",
      "7\n",
      "8\n",
      "9\n",
      "10\n"
     ]
    }
   ],
   "source": [
    "a = 1\n",
    "while a<=10:\n",
    "    print(a)\n",
    "    a += 1  # a = a + 1\n"
   ]
  },
  {
   "cell_type": "code",
   "execution_count": 12,
   "id": "c064e805",
   "metadata": {},
   "outputs": [
    {
     "data": {
      "text/plain": [
       "11"
      ]
     },
     "execution_count": 12,
     "metadata": {},
     "output_type": "execute_result"
    }
   ],
   "source": [
    "a"
   ]
  },
  {
   "cell_type": "code",
   "execution_count": 15,
   "id": "34aa7abf-adf2-4b5e-9992-d07176167ab7",
   "metadata": {},
   "outputs": [
    {
     "name": "stdout",
     "output_type": "stream",
     "text": [
      "enter a number for which you are looking for table 8\n",
      " 8 * 1 = 8 \n",
      " 8 * 2 = 16 \n",
      " 8 * 3 = 24 \n",
      " 8 * 4 = 32 \n",
      " 8 * 5 = 40 \n",
      " 8 * 6 = 48 \n",
      " 8 * 7 = 56 \n",
      " 8 * 8 = 64 \n",
      " 8 * 9 = 72 \n",
      " 8 * 10 = 80 \n"
     ]
    }
   ],
   "source": [
    "n = int(input(\"enter a number for which you are looking for table \"))\n",
    "i = 1\n",
    "while i <= 10 :\n",
    "    product = n * i\n",
    "    print(f' {n} * {i} = {product} ')\n",
    "    i = i + 1"
   ]
  },
  {
   "cell_type": "code",
   "execution_count": 21,
   "id": "7bb5e471",
   "metadata": {
    "scrolled": true
   },
   "outputs": [
    {
     "name": "stdout",
     "output_type": "stream",
     "text": [
      "10\n",
      "9\n",
      "8\n",
      "7\n",
      "6\n"
     ]
    }
   ],
   "source": [
    "i = 10\n",
    "while i >= 0:\n",
    "    if i == 5:\n",
    "        break\n",
    "    print(i)\n",
    "    i -= 1"
   ]
  },
  {
   "cell_type": "code",
   "execution_count": 23,
   "id": "60867a58",
   "metadata": {},
   "outputs": [
    {
     "name": "stdout",
     "output_type": "stream",
     "text": [
      "10\n",
      "9\n",
      "8\n",
      "7\n",
      "6\n",
      "5\n",
      "3\n",
      "2\n",
      "1\n"
     ]
    }
   ],
   "source": [
    "i = 10\n",
    "while i > 0:\n",
    "    \n",
    "    if i == 4:\n",
    "        i -= 1\n",
    "        continue\n",
    "    print(i)\n",
    "    i -= 1\n"
   ]
  },
  {
   "cell_type": "code",
   "execution_count": 27,
   "id": "be4955d6",
   "metadata": {},
   "outputs": [
    {
     "ename": "KeyboardInterrupt",
     "evalue": "",
     "output_type": "error",
     "traceback": [
      "\u001b[1;31m---------------------------------------------------------------------------\u001b[0m",
      "\u001b[1;31mKeyboardInterrupt\u001b[0m                         Traceback (most recent call last)",
      "\u001b[1;32m~\\AppData\\Local\\Temp\\ipykernel_7796\\2044646855.py\u001b[0m in \u001b[0;36m<module>\u001b[1;34m\u001b[0m\n\u001b[0;32m      1\u001b[0m \u001b[1;32mwhile\u001b[0m \u001b[1;32mTrue\u001b[0m\u001b[1;33m:\u001b[0m\u001b[1;33m\u001b[0m\u001b[1;33m\u001b[0m\u001b[0m\n\u001b[1;32m----> 2\u001b[1;33m     \u001b[1;32mpass\u001b[0m\u001b[1;33m\u001b[0m\u001b[1;33m\u001b[0m\u001b[0m\n\u001b[0m",
      "\u001b[1;31mKeyboardInterrupt\u001b[0m: "
     ]
    }
   ],
   "source": [
    "while True:\n",
    "    pass"
   ]
  },
  {
   "cell_type": "code",
   "execution_count": 29,
   "id": "8acb3da2",
   "metadata": {},
   "outputs": [],
   "source": [
    "i = True\n",
    "while not i:\n",
    "    print(i)"
   ]
  },
  {
   "cell_type": "code",
   "execution_count": 33,
   "id": "01a58651-afb5-4172-9169-ca30b764cb01",
   "metadata": {
    "scrolled": false
   },
   "outputs": [
    {
     "name": "stdout",
     "output_type": "stream",
     "text": [
      "How much money you have:- 4\n",
      "4\n",
      "enter your choice(1.biscuit , 2.chips , 3.snacks 4.burger)4\n",
      "take your burger\n",
      "you don't have enough balance in you wallet\n"
     ]
    }
   ],
   "source": [
    "money_in_hand = int(input(\"How much money you have:- \"))\n",
    "while money_in_hand >= 4 :\n",
    "    print(money_in_hand)\n",
    "    choice = int(input(\"enter your choice(1.biscuit , 2.chips , 3.snacks 4.burger)\"))\n",
    "    if choice == 1 :\n",
    "        print(\"take your biscuit\")\n",
    "        money_in_hand = money_in_hand - 4 \n",
    "    elif choice == 2 :\n",
    "        print(\"take your chips\")\n",
    "        money_in_hand = money_in_hand - 5\n",
    "        \n",
    "    elif choice == 3 :\n",
    "        print(\"take your snacks\")\n",
    "        money_in_hand = money_in_hand - 10 \n",
    "    elif choice == 4 :\n",
    "        print(\"take your burger\")\n",
    "        money_in_hand = money_in_hand - 8 \n",
    "    else :\n",
    "        print(\"you have not entered the correct choice\")\n",
    "        \n",
    "print(\"you don't have enough balance in you wallet\")\n"
   ]
  },
  {
   "cell_type": "code",
   "execution_count": null,
   "id": "56cb3ad1",
   "metadata": {},
   "outputs": [],
   "source": []
  },
  {
   "cell_type": "code",
   "execution_count": null,
   "id": "a368783b",
   "metadata": {},
   "outputs": [],
   "source": []
  },
  {
   "cell_type": "code",
   "execution_count": null,
   "id": "441ad055",
   "metadata": {},
   "outputs": [],
   "source": [
    "user_id = \"gaurav\"\n",
    "password = \"gaurav@123\"\n",
    "counter = 1\n",
    "user_id_check = False\n",
    "user_input = ''\n",
    "while counter <=3 :\n",
    "    if user_id != user_input:\n",
    "        user_input = input(\"enter your user id for account :- \").lower()\n",
    "\n",
    "    \n",
    "    if user_input == user_id :\n",
    "        user_id_check = True\n",
    "    else :\n",
    "        print(\"your user id is incorrect try again\")\n",
    "    if user_id_check == True :\n",
    "        pswd = input(\"enter your password for respective user id :- \").lower()\n",
    "        if pswd == password :\n",
    "            print(\"you have logged in succefully\")\n",
    "            break\n",
    "    counter = counter + 1\n",
    "if counter > 3 :\n",
    "    print()\n",
    "    print(\"you have attempted maximum times and your account is locked \") "
   ]
  },
  {
   "cell_type": "code",
   "execution_count": null,
   "id": "90bc1e5d",
   "metadata": {},
   "outputs": [],
   "source": []
  },
  {
   "cell_type": "code",
   "execution_count": 12,
   "id": "8a049b6d-c2cd-41ad-b832-291138440870",
   "metadata": {},
   "outputs": [
    {
     "name": "stdout",
     "output_type": "stream",
     "text": [
      "enter your todo taskclass\n",
      "enter n id you want to add in todo list or enter y if you dont want to addasd\n",
      "enter your todo taskfood\n",
      "enter n id you want to add in todo list or enter y if you dont want to addn\n",
      "enter your todo taskbook\n",
      "enter n id you want to add in todo list or enter y if you dont want to addy\n",
      "my todo list is  ['class', 'food', 'book']\n"
     ]
    }
   ],
   "source": [
    "todo_list = []\n",
    "end_of_todo = 'n'\n",
    "while end_of_todo != 'y':\n",
    "    todo_item = input(\"enter your todo task:- \")\n",
    "    todo_list.append(todo_item)\n",
    "    end_of_todo = input(\"enter n id you want to add in todo list or enter y if you dont want to add:- \")\n",
    "print(\"my todo list is \" , todo_list)"
   ]
  },
  {
   "cell_type": "code",
   "execution_count": 8,
   "id": "3f3bb218",
   "metadata": {},
   "outputs": [
    {
     "name": "stdout",
     "output_type": "stream",
     "text": [
      "not hii\n"
     ]
    }
   ],
   "source": [
    "i = 0\n",
    "while i > 10:\n",
    "    print('hii')\n",
    "else:\n",
    "    print('not hii')"
   ]
  },
  {
   "cell_type": "code",
   "execution_count": null,
   "id": "4b847b05",
   "metadata": {},
   "outputs": [],
   "source": []
  }
 ],
 "metadata": {
  "kernelspec": {
   "display_name": "Python 3 (ipykernel)",
   "language": "python",
   "name": "python3"
  },
  "language_info": {
   "codemirror_mode": {
    "name": "ipython",
    "version": 3
   },
   "file_extension": ".py",
   "mimetype": "text/x-python",
   "name": "python",
   "nbconvert_exporter": "python",
   "pygments_lexer": "ipython3",
   "version": "3.9.13"
  }
 },
 "nbformat": 4,
 "nbformat_minor": 5
}
