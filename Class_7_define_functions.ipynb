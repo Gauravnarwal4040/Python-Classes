{
 "cells": [
  {
   "cell_type": "code",
   "execution_count": 35,
   "id": "50c3791d",
   "metadata": {},
   "outputs": [],
   "source": [
    "def calculator():\n",
    "    Continue = \"yes\"\n",
    "    \n",
    "    while Continue == 'yes' :\n",
    "        \n",
    "        a = int(input(\"Enter 1st Number = \"))\n",
    "        operator = input((\"Enter operator (+,-,*,/,%)  = \"))\n",
    "        b = int(input(\"Enter 2nd Number =\"))\n",
    "        \n",
    "        if operator == \"+\":\n",
    "            print(a+b)\n",
    "        elif operator == '-':\n",
    "            print(a-b)\n",
    "        elif operator == '*':\n",
    "            print(a*b)\n",
    "        elif operator == '/':\n",
    "            print(a/b)\n",
    "        elif operator == '%':\n",
    "            print(a%b)\n",
    "        else :\n",
    "            print(\"This operator is not in the calculator\")\n",
    "            \n",
    "        Continue = input(\"You want to continue YES or NO :- \").lower()\n",
    "        if Continue == 'no':\n",
    "            print('Thank you for using our calculator')\n",
    "            break\n",
    "        \n",
    "        \n",
    "    else:\n",
    "        print(\"Wrong Input\")"
   ]
  },
  {
   "cell_type": "code",
   "execution_count": 36,
   "id": "45985aeb",
   "metadata": {},
   "outputs": [
    {
     "name": "stdout",
     "output_type": "stream",
     "text": [
      "Enter 1st Number = 7\n",
      "Enter operator (+,-,*,/,%)  = +\n",
      "Enter 2nd Number =5\n",
      "12\n",
      "You want to continue YES or NO :- asdf\n",
      "Wrong Input\n"
     ]
    }
   ],
   "source": [
    "calculator()"
   ]
  },
  {
   "cell_type": "code",
   "execution_count": null,
   "id": "694f6ba5",
   "metadata": {},
   "outputs": [],
   "source": []
  },
  {
   "cell_type": "code",
   "execution_count": null,
   "id": "b30dabec",
   "metadata": {},
   "outputs": [],
   "source": []
  },
  {
   "cell_type": "raw",
   "id": "9f335ca6",
   "metadata": {},
   "source": [
    "print\n",
    "type\n",
    "len\n",
    "str\n",
    "int\n",
    "float\n",
    "list"
   ]
  },
  {
   "cell_type": "code",
   "execution_count": 5,
   "id": "7ac80897",
   "metadata": {},
   "outputs": [],
   "source": [
    "def return_name(name):\n",
    "    return name"
   ]
  },
  {
   "cell_type": "code",
   "execution_count": 6,
   "id": "3347a2ea",
   "metadata": {},
   "outputs": [
    {
     "data": {
      "text/plain": [
       "'aman'"
      ]
     },
     "execution_count": 6,
     "metadata": {},
     "output_type": "execute_result"
    }
   ],
   "source": [
    "return_name('aman')"
   ]
  },
  {
   "cell_type": "code",
   "execution_count": null,
   "id": "5a7b630f",
   "metadata": {},
   "outputs": [],
   "source": []
  },
  {
   "cell_type": "code",
   "execution_count": 7,
   "id": "b2a2614e",
   "metadata": {},
   "outputs": [],
   "source": [
    "def name(n):\n",
    "#     return 2\n",
    "    print(2)"
   ]
  },
  {
   "cell_type": "code",
   "execution_count": 8,
   "id": "38eb93b9",
   "metadata": {},
   "outputs": [
    {
     "name": "stdout",
     "output_type": "stream",
     "text": [
      "2\n"
     ]
    }
   ],
   "source": [
    "name('Dhariya')"
   ]
  },
  {
   "cell_type": "code",
   "execution_count": 2,
   "id": "a4a898da",
   "metadata": {},
   "outputs": [
    {
     "data": {
      "text/plain": [
       "13"
      ]
     },
     "execution_count": 2,
     "metadata": {},
     "output_type": "execute_result"
    }
   ],
   "source": [
    "s = 'Gaurav Narwal'\n",
    "len(s)"
   ]
  },
  {
   "cell_type": "code",
   "execution_count": 3,
   "id": "05a7c7f1",
   "metadata": {
    "scrolled": true
   },
   "outputs": [
    {
     "name": "stdout",
     "output_type": "stream",
     "text": [
      "8\n"
     ]
    }
   ],
   "source": [
    "count = 0\n",
    "s = 'Abhishek'\n",
    "for i in s:\n",
    "    count += 1\n",
    "print(count)"
   ]
  },
  {
   "cell_type": "code",
   "execution_count": 11,
   "id": "5bd3b772",
   "metadata": {},
   "outputs": [
    {
     "name": "stdout",
     "output_type": "stream",
     "text": [
      "gaurav\n"
     ]
    }
   ],
   "source": [
    "print('gaurav')"
   ]
  },
  {
   "cell_type": "code",
   "execution_count": null,
   "id": "ce3f3ef9",
   "metadata": {},
   "outputs": [],
   "source": []
  },
  {
   "cell_type": "code",
   "execution_count": 51,
   "id": "65f60c48",
   "metadata": {},
   "outputs": [
    {
     "name": "stdout",
     "output_type": "stream",
     "text": [
      "adsf\n"
     ]
    }
   ],
   "source": [
    "def count_len(n):        # n is my parameter\n",
    "    count = 0\n",
    "    for i in n:\n",
    "        count += 1\n",
    "        \n",
    "    return count\n",
    "    print(\"count\")\n",
    "print('adsf')"
   ]
  },
  {
   "cell_type": "code",
   "execution_count": 50,
   "id": "4c51dfe0",
   "metadata": {},
   "outputs": [
    {
     "name": "stdout",
     "output_type": "stream",
     "text": [
      "count\n",
      "adsf\n"
     ]
    },
    {
     "data": {
      "text/plain": [
       "7"
      ]
     },
     "execution_count": 50,
     "metadata": {},
     "output_type": "execute_result"
    }
   ],
   "source": [
    "count_len(\"Dhariya\")"
   ]
  },
  {
   "cell_type": "code",
   "execution_count": 20,
   "id": "e1f377b7",
   "metadata": {},
   "outputs": [
    {
     "data": {
      "text/plain": [
       "6"
      ]
     },
     "execution_count": 20,
     "metadata": {},
     "output_type": "execute_result"
    }
   ],
   "source": [
    "len('gaurav')"
   ]
  },
  {
   "cell_type": "code",
   "execution_count": 15,
   "id": "fbc64280",
   "metadata": {},
   "outputs": [
    {
     "data": {
      "text/plain": [
       "[0, 1, 2, 3, 4, 5]"
      ]
     },
     "execution_count": 15,
     "metadata": {},
     "output_type": "execute_result"
    }
   ],
   "source": [
    "list(range(count_len('gaurav')))"
   ]
  },
  {
   "cell_type": "code",
   "execution_count": 16,
   "id": "90fb8741",
   "metadata": {},
   "outputs": [
    {
     "data": {
      "text/plain": [
       "3"
      ]
     },
     "execution_count": 16,
     "metadata": {},
     "output_type": "execute_result"
    }
   ],
   "source": [
    "count_len(\"abc\")"
   ]
  },
  {
   "cell_type": "code",
   "execution_count": 17,
   "id": "f7183d98",
   "metadata": {},
   "outputs": [],
   "source": [
    "def count_l(n):\n",
    "    count = 0\n",
    "    for i in n:\n",
    "        count += 1\n",
    "    return count"
   ]
  },
  {
   "cell_type": "code",
   "execution_count": 18,
   "id": "4e56a3d0",
   "metadata": {},
   "outputs": [
    {
     "data": {
      "text/plain": [
       "4"
      ]
     },
     "execution_count": 18,
     "metadata": {},
     "output_type": "execute_result"
    }
   ],
   "source": [
    "count_l('asdf')"
   ]
  },
  {
   "cell_type": "code",
   "execution_count": 19,
   "id": "defcbef2",
   "metadata": {
    "scrolled": true
   },
   "outputs": [
    {
     "ename": "TypeError",
     "evalue": "count_len() takes 1 positional argument but 2 were given",
     "output_type": "error",
     "traceback": [
      "\u001b[1;31m---------------------------------------------------------------------------\u001b[0m",
      "\u001b[1;31mTypeError\u001b[0m                                 Traceback (most recent call last)",
      "\u001b[1;32m~\\AppData\\Local\\Temp\\ipykernel_13012\\2417430848.py\u001b[0m in \u001b[0;36m<module>\u001b[1;34m\u001b[0m\n\u001b[1;32m----> 1\u001b[1;33m \u001b[0mcount_len\u001b[0m\u001b[1;33m(\u001b[0m\u001b[1;34m'Dhariya'\u001b[0m\u001b[1;33m,\u001b[0m\u001b[1;34m'adsf'\u001b[0m\u001b[1;33m)\u001b[0m\u001b[1;33m\u001b[0m\u001b[1;33m\u001b[0m\u001b[0m\n\u001b[0m",
      "\u001b[1;31mTypeError\u001b[0m: count_len() takes 1 positional argument but 2 were given"
     ]
    }
   ],
   "source": [
    "count_len('Dhariya','adsf')"
   ]
  },
  {
   "cell_type": "code",
   "execution_count": null,
   "id": "b549bc0b",
   "metadata": {},
   "outputs": [],
   "source": [
    "for i in range(count_len(\"Dhariya\")):\n",
    "    print(i)"
   ]
  },
  {
   "cell_type": "code",
   "execution_count": 20,
   "id": "9a050707",
   "metadata": {
    "scrolled": false
   },
   "outputs": [
    {
     "data": {
      "text/plain": [
       "4"
      ]
     },
     "execution_count": 20,
     "metadata": {},
     "output_type": "execute_result"
    }
   ],
   "source": [
    "len('asdf')"
   ]
  },
  {
   "cell_type": "code",
   "execution_count": 21,
   "id": "857135ba",
   "metadata": {
    "scrolled": true
   },
   "outputs": [
    {
     "data": {
      "text/plain": [
       "6"
      ]
     },
     "execution_count": 21,
     "metadata": {},
     "output_type": "execute_result"
    }
   ],
   "source": [
    "count_len('Vikash')     # Now s is arguments"
   ]
  },
  {
   "cell_type": "code",
   "execution_count": 22,
   "id": "3859ce7e",
   "metadata": {
    "scrolled": true
   },
   "outputs": [
    {
     "data": {
      "text/plain": [
       "int"
      ]
     },
     "execution_count": 22,
     "metadata": {},
     "output_type": "execute_result"
    }
   ],
   "source": [
    "type(count_len('nikhilkumar'))"
   ]
  },
  {
   "cell_type": "code",
   "execution_count": 23,
   "id": "010feccf-e451-480b-a7bc-efe4602e9f6d",
   "metadata": {},
   "outputs": [
    {
     "data": {
      "text/plain": [
       "'Prince'"
      ]
     },
     "execution_count": 23,
     "metadata": {},
     "output_type": "execute_result"
    }
   ],
   "source": [
    "s"
   ]
  },
  {
   "cell_type": "code",
   "execution_count": 24,
   "id": "1df92397",
   "metadata": {},
   "outputs": [
    {
     "data": {
      "text/plain": [
       "'n'"
      ]
     },
     "execution_count": 24,
     "metadata": {},
     "output_type": "execute_result"
    }
   ],
   "source": [
    "s[3]"
   ]
  },
  {
   "cell_type": "code",
   "execution_count": 25,
   "id": "caadfaeb",
   "metadata": {},
   "outputs": [],
   "source": [
    "def reverse(string):\n",
    "    for i in range(count_len(string) - 1,-1,-1):\n",
    "#         print(i)\n",
    "        print(string[i])\n",
    "#         return string[i]"
   ]
  },
  {
   "cell_type": "code",
   "execution_count": 26,
   "id": "1fe7a581",
   "metadata": {},
   "outputs": [
    {
     "name": "stdout",
     "output_type": "stream",
     "text": [
      "f\n",
      "d\n",
      "d\n",
      "f\n",
      "g\n",
      "u\n",
      "h\n",
      "j\n",
      "k\n",
      "s\n",
      "a\n"
     ]
    }
   ],
   "source": [
    "reverse('askjhugfddf')"
   ]
  },
  {
   "cell_type": "code",
   "execution_count": 27,
   "id": "bc4e26c4-1384-40f6-945e-bb70b06aef06",
   "metadata": {},
   "outputs": [
    {
     "data": {
      "text/plain": [
       "0"
      ]
     },
     "execution_count": 27,
     "metadata": {},
     "output_type": "execute_result"
    }
   ],
   "source": [
    "len(\"\")"
   ]
  },
  {
   "cell_type": "code",
   "execution_count": 28,
   "id": "6d88ca11-c0c8-4016-981a-4f77454702b1",
   "metadata": {},
   "outputs": [],
   "source": [
    "def reverse(s):\n",
    "    if s== \"\":\n",
    "        return \"\"\n",
    "    else :\n",
    "        return s[::-1]\n",
    "        "
   ]
  },
  {
   "cell_type": "code",
   "execution_count": 29,
   "id": "4203adb1-69bf-442b-8902-4e2f465c4d5a",
   "metadata": {},
   "outputs": [
    {
     "data": {
      "text/plain": [
       "'yahska'"
      ]
     },
     "execution_count": 29,
     "metadata": {},
     "output_type": "execute_result"
    }
   ],
   "source": [
    "reverse(\"akshay\")"
   ]
  },
  {
   "cell_type": "code",
   "execution_count": 30,
   "id": "46075d31-a196-49c2-a04a-dd23c6a11cc8",
   "metadata": {},
   "outputs": [
    {
     "data": {
      "text/plain": [
       "'snoyarctfos'"
      ]
     },
     "execution_count": 30,
     "metadata": {},
     "output_type": "execute_result"
    }
   ],
   "source": [
    "reverse(\"softcrayons\")"
   ]
  },
  {
   "cell_type": "code",
   "execution_count": 31,
   "id": "9739b49d-2dfc-4f56-8966-2d1231160e65",
   "metadata": {},
   "outputs": [],
   "source": [
    "s = \"sfafafdaaf\""
   ]
  },
  {
   "cell_type": "code",
   "execution_count": 32,
   "id": "7f1a8bf1",
   "metadata": {},
   "outputs": [],
   "source": [
    "def filter_list():\n",
    "    lst = list(input('Enter Your list'))\n",
    "    print(lst)\n",
    "    even_list = []\n",
    "    odd_list = []\n",
    "    for i in lst:\n",
    "        i = int(i)\n",
    "        if (i) % 2 == 0 :\n",
    "            even_list.append(i)\n",
    "        else:\n",
    "            odd_list.append(i)\n",
    "            \n",
    "    print('even_list', even_list)\n",
    "    print('odd_list',odd_list)"
   ]
  },
  {
   "cell_type": "code",
   "execution_count": 33,
   "id": "2f1e219c",
   "metadata": {},
   "outputs": [
    {
     "name": "stdout",
     "output_type": "stream",
     "text": [
      "Enter Your list\n",
      "[]\n",
      "even_list []\n",
      "odd_list []\n"
     ]
    }
   ],
   "source": [
    "filter_list()"
   ]
  },
  {
   "cell_type": "code",
   "execution_count": null,
   "id": "5c2ba9aa",
   "metadata": {},
   "outputs": [],
   "source": []
  },
  {
   "cell_type": "code",
   "execution_count": 61,
   "id": "6808ff95",
   "metadata": {},
   "outputs": [],
   "source": [
    "def find_char_count(string,find_value):\n",
    "    if string == '':\n",
    "        return 0\n",
    "    \n",
    "    count = 0\n",
    "    for i in string:\n",
    "        if i == find_value:\n",
    "            count += 1\n",
    "\n",
    "    return count"
   ]
  },
  {
   "cell_type": "code",
   "execution_count": 62,
   "id": "bb0dd715",
   "metadata": {},
   "outputs": [
    {
     "data": {
      "text/plain": [
       "5"
      ]
     },
     "execution_count": 62,
     "metadata": {},
     "output_type": "execute_result"
    }
   ],
   "source": [
    "find_char_count('gauravaaa','a')"
   ]
  },
  {
   "cell_type": "code",
   "execution_count": 66,
   "id": "6c33d983",
   "metadata": {},
   "outputs": [
    {
     "data": {
      "text/plain": [
       "'sfafafdaaf'"
      ]
     },
     "execution_count": 66,
     "metadata": {},
     "output_type": "execute_result"
    }
   ],
   "source": [
    "s"
   ]
  },
  {
   "cell_type": "code",
   "execution_count": 63,
   "id": "d1f45270-1524-4af0-929d-ec7e87e83ebd",
   "metadata": {},
   "outputs": [
    {
     "data": {
      "text/plain": [
       "1"
      ]
     },
     "execution_count": 63,
     "metadata": {},
     "output_type": "execute_result"
    }
   ],
   "source": [
    "find_char_count(s,'s')"
   ]
  },
  {
   "cell_type": "code",
   "execution_count": 64,
   "id": "1be928e9",
   "metadata": {},
   "outputs": [
    {
     "data": {
      "text/plain": [
       "'sfafafdaaf'"
      ]
     },
     "execution_count": 64,
     "metadata": {},
     "output_type": "execute_result"
    }
   ],
   "source": [
    "s"
   ]
  },
  {
   "cell_type": "code",
   "execution_count": 70,
   "id": "344da866-f463-4af9-91e4-8cd91c8c00c2",
   "metadata": {},
   "outputs": [
    {
     "data": {
      "text/plain": [
       "4"
      ]
     },
     "execution_count": 70,
     "metadata": {},
     "output_type": "execute_result"
    }
   ],
   "source": [
    "find_char_count(s,'a')"
   ]
  },
  {
   "cell_type": "code",
   "execution_count": 74,
   "id": "d32c05c9-61ac-4512-a467-0fe1c8ee092d",
   "metadata": {},
   "outputs": [
    {
     "data": {
      "text/plain": [
       "4"
      ]
     },
     "execution_count": 74,
     "metadata": {},
     "output_type": "execute_result"
    }
   ],
   "source": [
    "find_char_count(s,'f')"
   ]
  },
  {
   "cell_type": "code",
   "execution_count": 72,
   "id": "4c27e67b-7e03-4969-b636-9e8bade1a18c",
   "metadata": {},
   "outputs": [],
   "source": [
    "l = [3,4,5,6]"
   ]
  },
  {
   "cell_type": "code",
   "execution_count": 69,
   "id": "81918ff7",
   "metadata": {},
   "outputs": [
    {
     "name": "stdout",
     "output_type": "stream",
     "text": [
      "5\n",
      "4\n",
      "3\n",
      "2\n",
      "1\n",
      "0\n"
     ]
    }
   ],
   "source": [
    "for i in [5,4,3,2,1,0]:\n",
    "    print(i)"
   ]
  },
  {
   "cell_type": "code",
   "execution_count": 76,
   "id": "a220432a-501f-4e2e-9ef8-7d69c2331280",
   "metadata": {},
   "outputs": [],
   "source": [
    "l = [2,3,4,5,6]\n",
    "a = 10\n",
    "s= \"Gaurav\""
   ]
  },
  {
   "cell_type": "code",
   "execution_count": 77,
   "id": "28093909-02c4-4a7a-9051-71341d212a45",
   "metadata": {},
   "outputs": [
    {
     "name": "stdout",
     "output_type": "stream",
     "text": [
      "2\n",
      "3\n",
      "4\n",
      "5\n",
      "6\n"
     ]
    }
   ],
   "source": [
    "for i in l :\n",
    "    print(i)"
   ]
  },
  {
   "cell_type": "code",
   "execution_count": 82,
   "id": "13662fb8-b197-45cb-8078-c5e341382c00",
   "metadata": {},
   "outputs": [
    {
     "name": "stdout",
     "output_type": "stream",
     "text": [
      "G\n",
      "a\n",
      "u\n",
      "r\n",
      "a\n",
      "v\n"
     ]
    }
   ],
   "source": [
    "for i in s :\n",
    "    print(i)"
   ]
  },
  {
   "cell_type": "code",
   "execution_count": 78,
   "id": "1571fb53-e561-4e56-9ad4-3d43d64210e7",
   "metadata": {},
   "outputs": [
    {
     "name": "stdout",
     "output_type": "stream",
     "text": [
      "1\n",
      "4\n",
      "7\n"
     ]
    }
   ],
   "source": [
    "for i in range(1,9,3) :\n",
    "    print(i)"
   ]
  },
  {
   "cell_type": "code",
   "execution_count": 80,
   "id": "0410f98a",
   "metadata": {},
   "outputs": [
    {
     "data": {
      "text/plain": [
       "[0, 1, 2, 3, 4, 5, 6, 7, 8, 9]"
      ]
     },
     "execution_count": 80,
     "metadata": {},
     "output_type": "execute_result"
    }
   ],
   "source": [
    "list(range(10))"
   ]
  },
  {
   "cell_type": "code",
   "execution_count": 81,
   "id": "1381a989",
   "metadata": {},
   "outputs": [
    {
     "data": {
      "text/plain": [
       "range(1, 10, 3)"
      ]
     },
     "execution_count": 81,
     "metadata": {},
     "output_type": "execute_result"
    }
   ],
   "source": [
    "range(1,10,3)"
   ]
  },
  {
   "cell_type": "code",
   "execution_count": 85,
   "id": "565553e8",
   "metadata": {},
   "outputs": [],
   "source": [
    "l = [0, 1, 2, 3, 4, 5, 6, 7, 8, 9]"
   ]
  },
  {
   "cell_type": "code",
   "execution_count": 84,
   "id": "10585d79",
   "metadata": {},
   "outputs": [],
   "source": [
    "l_iter = iter(l)"
   ]
  },
  {
   "cell_type": "code",
   "execution_count": 108,
   "id": "9eb77285",
   "metadata": {},
   "outputs": [
    {
     "data": {
      "text/plain": [
       "<list_iterator at 0x2458a149550>"
      ]
     },
     "execution_count": 108,
     "metadata": {},
     "output_type": "execute_result"
    }
   ],
   "source": [
    "l_iter"
   ]
  },
  {
   "cell_type": "code",
   "execution_count": 114,
   "id": "0976f852",
   "metadata": {},
   "outputs": [
    {
     "data": {
      "text/plain": [
       "5"
      ]
     },
     "execution_count": 114,
     "metadata": {},
     "output_type": "execute_result"
    }
   ],
   "source": [
    "next(l_iter)"
   ]
  },
  {
   "cell_type": "code",
   "execution_count": 116,
   "id": "6da81eef-c1ce-4abd-a5df-047b5054d0c3",
   "metadata": {},
   "outputs": [
    {
     "ename": "TypeError",
     "evalue": "'int' object is not iterable",
     "output_type": "error",
     "traceback": [
      "\u001b[1;31m---------------------------------------------------------------------------\u001b[0m",
      "\u001b[1;31mTypeError\u001b[0m                                 Traceback (most recent call last)",
      "\u001b[1;32m~\\AppData\\Local\\Temp\\ipykernel_7340\\3948967362.py\u001b[0m in \u001b[0;36m<module>\u001b[1;34m\u001b[0m\n\u001b[1;32m----> 1\u001b[1;33m \u001b[0miter\u001b[0m\u001b[1;33m(\u001b[0m\u001b[1;36m954\u001b[0m\u001b[1;33m)\u001b[0m\u001b[1;33m\u001b[0m\u001b[1;33m\u001b[0m\u001b[0m\n\u001b[0m",
      "\u001b[1;31mTypeError\u001b[0m: 'int' object is not iterable"
     ]
    }
   ],
   "source": [
    "iter(954)"
   ]
  },
  {
   "cell_type": "code",
   "execution_count": 132,
   "id": "74937a43",
   "metadata": {},
   "outputs": [
    {
     "name": "stdout",
     "output_type": "stream",
     "text": [
      "G\n",
      "a\n",
      "u\n",
      "4\n",
      "r\n",
      "a\n",
      "v\n"
     ]
    }
   ],
   "source": [
    "for i in 'Gau4rav':\n",
    "    print(i)"
   ]
  },
  {
   "cell_type": "code",
   "execution_count": 134,
   "id": "ad32e6e9-ae53-4df8-b379-0cb21fc66b5c",
   "metadata": {},
   "outputs": [],
   "source": [
    "s1 = iter(\"Gaurav\")"
   ]
  },
  {
   "cell_type": "code",
   "execution_count": 135,
   "id": "1de3083d-223b-4fd9-ace8-e82a53b6428f",
   "metadata": {},
   "outputs": [
    {
     "data": {
      "text/plain": [
       "<str_iterator at 0x2458a25b3a0>"
      ]
     },
     "execution_count": 135,
     "metadata": {},
     "output_type": "execute_result"
    }
   ],
   "source": [
    "s1"
   ]
  },
  {
   "cell_type": "code",
   "execution_count": 141,
   "id": "441760fb",
   "metadata": {},
   "outputs": [
    {
     "data": {
      "text/plain": [
       "'v'"
      ]
     },
     "execution_count": 141,
     "metadata": {},
     "output_type": "execute_result"
    }
   ],
   "source": [
    "next(s1)"
   ]
  },
  {
   "cell_type": "code",
   "execution_count": 142,
   "id": "33fd1a76-13bd-40ee-8db2-a86f00552625",
   "metadata": {},
   "outputs": [
    {
     "name": "stdout",
     "output_type": "stream",
     "text": [
      "Enter your namedhairya\n",
      "d\n",
      "h\n",
      "a\n",
      "i\n",
      "r\n",
      "y\n",
      "a\n"
     ]
    }
   ],
   "source": [
    "i = 0\n",
    "name = input(\"Enter your name\")\n",
    "s1 = iter(name)\n",
    "while i < len(name):\n",
    "    i = i + 1\n",
    "    print(next(s1))"
   ]
  },
  {
   "cell_type": "code",
   "execution_count": null,
   "id": "6b12a491",
   "metadata": {},
   "outputs": [],
   "source": []
  },
  {
   "cell_type": "code",
   "execution_count": 49,
   "id": "e81d2d02",
   "metadata": {},
   "outputs": [],
   "source": [
    "a = range(10)"
   ]
  },
  {
   "cell_type": "code",
   "execution_count": 50,
   "id": "131ecc6e",
   "metadata": {},
   "outputs": [],
   "source": [
    "a = iter(a)"
   ]
  },
  {
   "cell_type": "code",
   "execution_count": 51,
   "id": "73336985",
   "metadata": {},
   "outputs": [
    {
     "data": {
      "text/plain": [
       "0"
      ]
     },
     "execution_count": 51,
     "metadata": {},
     "output_type": "execute_result"
    }
   ],
   "source": [
    "next(a)"
   ]
  },
  {
   "cell_type": "code",
   "execution_count": 52,
   "id": "80dd3769-2811-4717-b05c-c55dd1975dbc",
   "metadata": {},
   "outputs": [
    {
     "data": {
      "text/plain": [
       "1"
      ]
     },
     "execution_count": 52,
     "metadata": {},
     "output_type": "execute_result"
    }
   ],
   "source": [
    "next(a)"
   ]
  },
  {
   "cell_type": "code",
   "execution_count": 53,
   "id": "09db359f-d036-4188-8072-07366458b618",
   "metadata": {},
   "outputs": [
    {
     "data": {
      "text/plain": [
       "2"
      ]
     },
     "execution_count": 53,
     "metadata": {},
     "output_type": "execute_result"
    }
   ],
   "source": [
    "next(a)"
   ]
  },
  {
   "cell_type": "code",
   "execution_count": 54,
   "id": "9ccbc833-2af8-4a52-bb82-7bcf687320cd",
   "metadata": {},
   "outputs": [
    {
     "name": "stdout",
     "output_type": "stream",
     "text": [
      "s\n",
      "f\n",
      "a\n",
      "f\n",
      "a\n",
      "f\n",
      "d\n",
      "a\n",
      "a\n",
      "f\n"
     ]
    }
   ],
   "source": [
    "for i in s :\n",
    "    print(i)"
   ]
  },
  {
   "cell_type": "code",
   "execution_count": 55,
   "id": "173dd052-d5bf-4137-bb54-c5c6a7edb84f",
   "metadata": {},
   "outputs": [],
   "source": [
    "s2 = \"Softcrayons\""
   ]
  },
  {
   "cell_type": "code",
   "execution_count": 56,
   "id": "bc86be0f-af53-4e2c-98bc-423457941d34",
   "metadata": {},
   "outputs": [
    {
     "ename": "TypeError",
     "evalue": "'str' object is not an iterator",
     "output_type": "error",
     "traceback": [
      "\u001b[1;31m---------------------------------------------------------------------------\u001b[0m",
      "\u001b[1;31mTypeError\u001b[0m                                 Traceback (most recent call last)",
      "\u001b[1;32m~\\AppData\\Local\\Temp\\ipykernel_13012\\2278749955.py\u001b[0m in \u001b[0;36m<module>\u001b[1;34m\u001b[0m\n\u001b[1;32m----> 1\u001b[1;33m \u001b[0mnext\u001b[0m\u001b[1;33m(\u001b[0m\u001b[0ms2\u001b[0m\u001b[1;33m)\u001b[0m\u001b[1;33m\u001b[0m\u001b[1;33m\u001b[0m\u001b[0m\n\u001b[0m",
      "\u001b[1;31mTypeError\u001b[0m: 'str' object is not an iterator"
     ]
    }
   ],
   "source": [
    "next(s2)"
   ]
  },
  {
   "cell_type": "code",
   "execution_count": 57,
   "id": "f512cc05-4557-4ca8-b1f9-448bfc9aaa58",
   "metadata": {},
   "outputs": [
    {
     "name": "stdout",
     "output_type": "stream",
     "text": [
      "S\n",
      "o\n",
      "f\n",
      "t\n",
      "c\n",
      "r\n",
      "a\n",
      "y\n",
      "o\n",
      "n\n",
      "s\n"
     ]
    }
   ],
   "source": [
    "for i in s2:\n",
    "    print(i)"
   ]
  },
  {
   "cell_type": "code",
   "execution_count": 60,
   "id": "538a15d7-624a-49c9-9a69-7a3000575ad6",
   "metadata": {},
   "outputs": [
    {
     "name": "stdout",
     "output_type": "stream",
     "text": [
      "2\n",
      "3\n",
      "4\n",
      "5\n"
     ]
    }
   ],
   "source": [
    "for i in [2,3,4,5]:\n",
    "    print(i)"
   ]
  },
  {
   "cell_type": "code",
   "execution_count": 61,
   "id": "ee77ca8a-514d-41a4-a122-a92221ff6ee6",
   "metadata": {},
   "outputs": [],
   "source": [
    "l =iter([2,3,4,5])"
   ]
  },
  {
   "cell_type": "code",
   "execution_count": 62,
   "id": "0f178fb0-d639-401c-866b-b827dd63d994",
   "metadata": {},
   "outputs": [
    {
     "data": {
      "text/plain": [
       "2"
      ]
     },
     "execution_count": 62,
     "metadata": {},
     "output_type": "execute_result"
    }
   ],
   "source": [
    "next(l)"
   ]
  },
  {
   "cell_type": "code",
   "execution_count": 63,
   "id": "867e262e-bb5e-4bb1-8093-b7689efa46a1",
   "metadata": {},
   "outputs": [
    {
     "data": {
      "text/plain": [
       "3"
      ]
     },
     "execution_count": 63,
     "metadata": {},
     "output_type": "execute_result"
    }
   ],
   "source": [
    "next(l)"
   ]
  },
  {
   "cell_type": "code",
   "execution_count": 64,
   "id": "d3d3830e-856d-415f-a663-f8187857a25f",
   "metadata": {},
   "outputs": [
    {
     "data": {
      "text/plain": [
       "4"
      ]
     },
     "execution_count": 64,
     "metadata": {},
     "output_type": "execute_result"
    }
   ],
   "source": [
    "next(l)"
   ]
  },
  {
   "cell_type": "code",
   "execution_count": 65,
   "id": "87014622-e9b5-4a3a-932e-7d064cf0345d",
   "metadata": {},
   "outputs": [
    {
     "data": {
      "text/plain": [
       "5"
      ]
     },
     "execution_count": 65,
     "metadata": {},
     "output_type": "execute_result"
    }
   ],
   "source": [
    "next(l)"
   ]
  },
  {
   "cell_type": "code",
   "execution_count": 66,
   "id": "64df95c1-0503-4165-874e-b1c1b4432c5a",
   "metadata": {},
   "outputs": [
    {
     "ename": "StopIteration",
     "evalue": "",
     "output_type": "error",
     "traceback": [
      "\u001b[1;31m---------------------------------------------------------------------------\u001b[0m",
      "\u001b[1;31mStopIteration\u001b[0m                             Traceback (most recent call last)",
      "\u001b[1;32m~\\AppData\\Local\\Temp\\ipykernel_13012\\2016234150.py\u001b[0m in \u001b[0;36m<module>\u001b[1;34m\u001b[0m\n\u001b[1;32m----> 1\u001b[1;33m \u001b[0mnext\u001b[0m\u001b[1;33m(\u001b[0m\u001b[0ml\u001b[0m\u001b[1;33m)\u001b[0m\u001b[1;33m\u001b[0m\u001b[1;33m\u001b[0m\u001b[0m\n\u001b[0m",
      "\u001b[1;31mStopIteration\u001b[0m: "
     ]
    }
   ],
   "source": [
    "next(l)"
   ]
  },
  {
   "cell_type": "code",
   "execution_count": 68,
   "id": "75bb2553",
   "metadata": {},
   "outputs": [
    {
     "ename": "TypeError",
     "evalue": "'int' object is not iterable",
     "output_type": "error",
     "traceback": [
      "\u001b[1;31m---------------------------------------------------------------------------\u001b[0m",
      "\u001b[1;31mTypeError\u001b[0m                                 Traceback (most recent call last)",
      "\u001b[1;32m~\\AppData\\Local\\Temp\\ipykernel_13012\\814555045.py\u001b[0m in \u001b[0;36m<module>\u001b[1;34m\u001b[0m\n\u001b[1;32m----> 1\u001b[1;33m \u001b[0miter\u001b[0m\u001b[1;33m(\u001b[0m\u001b[1;36m876\u001b[0m\u001b[1;33m)\u001b[0m\u001b[1;33m\u001b[0m\u001b[1;33m\u001b[0m\u001b[0m\n\u001b[0m",
      "\u001b[1;31mTypeError\u001b[0m: 'int' object is not iterable"
     ]
    }
   ],
   "source": [
    "iter(876)"
   ]
  },
  {
   "cell_type": "code",
   "execution_count": 69,
   "id": "1d6918cd-1d7a-4f02-9ad9-119fb3ea02d6",
   "metadata": {},
   "outputs": [
    {
     "ename": "TypeError",
     "evalue": "'int' object is not iterable",
     "output_type": "error",
     "traceback": [
      "\u001b[1;31m---------------------------------------------------------------------------\u001b[0m",
      "\u001b[1;31mTypeError\u001b[0m                                 Traceback (most recent call last)",
      "\u001b[1;32m~\\AppData\\Local\\Temp\\ipykernel_13012\\1558539249.py\u001b[0m in \u001b[0;36m<module>\u001b[1;34m\u001b[0m\n\u001b[1;32m----> 1\u001b[1;33m \u001b[1;32mfor\u001b[0m \u001b[0mi\u001b[0m \u001b[1;32min\u001b[0m \u001b[1;36m423\u001b[0m\u001b[1;33m:\u001b[0m\u001b[1;33m\u001b[0m\u001b[1;33m\u001b[0m\u001b[0m\n\u001b[0m\u001b[0;32m      2\u001b[0m     \u001b[0mprint\u001b[0m\u001b[1;33m(\u001b[0m\u001b[0mi\u001b[0m\u001b[1;33m)\u001b[0m\u001b[1;33m\u001b[0m\u001b[1;33m\u001b[0m\u001b[0m\n",
      "\u001b[1;31mTypeError\u001b[0m: 'int' object is not iterable"
     ]
    }
   ],
   "source": [
    "for i in 423:\n",
    "    print(i)"
   ]
  },
  {
   "cell_type": "code",
   "execution_count": 70,
   "id": "80f7dcdd-40ed-4cf4-9435-7f4447f95b5c",
   "metadata": {},
   "outputs": [
    {
     "name": "stdout",
     "output_type": "stream",
     "text": [
      "2\n",
      "3\n",
      "4\n",
      "5\n",
      "56\n"
     ]
    }
   ],
   "source": [
    "for i in {2,3,4,5,56}:\n",
    "    print(i)"
   ]
  },
  {
   "cell_type": "code",
   "execution_count": 81,
   "id": "ad4d4a63-288c-4b29-a3be-59a4fa951721",
   "metadata": {},
   "outputs": [],
   "source": [
    "x = iter({2,3,4,5,56})"
   ]
  },
  {
   "cell_type": "code",
   "execution_count": 82,
   "id": "cf24e50f",
   "metadata": {},
   "outputs": [
    {
     "data": {
      "text/plain": [
       "2"
      ]
     },
     "execution_count": 82,
     "metadata": {},
     "output_type": "execute_result"
    }
   ],
   "source": [
    "next(x)"
   ]
  },
  {
   "cell_type": "code",
   "execution_count": 83,
   "id": "084437b9-900c-48fd-87c0-b0f995f38d4e",
   "metadata": {},
   "outputs": [
    {
     "name": "stdout",
     "output_type": "stream",
     "text": [
      "2\n",
      "3\n",
      "4\n",
      "5\n"
     ]
    }
   ],
   "source": [
    "for i in (2,3,4,5):\n",
    "    print(i)"
   ]
  },
  {
   "cell_type": "code",
   "execution_count": 84,
   "id": "ecd98642-56e5-44ed-9277-b20293285de5",
   "metadata": {},
   "outputs": [
    {
     "data": {
      "text/plain": [
       "<tuple_iterator at 0x19cd74e3c10>"
      ]
     },
     "execution_count": 84,
     "metadata": {},
     "output_type": "execute_result"
    }
   ],
   "source": [
    "iter((2,3,4,5))"
   ]
  },
  {
   "cell_type": "code",
   "execution_count": 85,
   "id": "6b71a87a-3148-4005-aa64-fc5455c7bd98",
   "metadata": {},
   "outputs": [
    {
     "ename": "TypeError",
     "evalue": "'bool' object is not iterable",
     "output_type": "error",
     "traceback": [
      "\u001b[1;31m---------------------------------------------------------------------------\u001b[0m",
      "\u001b[1;31mTypeError\u001b[0m                                 Traceback (most recent call last)",
      "\u001b[1;32m~\\AppData\\Local\\Temp\\ipykernel_13012\\946751213.py\u001b[0m in \u001b[0;36m<module>\u001b[1;34m\u001b[0m\n\u001b[1;32m----> 1\u001b[1;33m \u001b[0miter\u001b[0m\u001b[1;33m(\u001b[0m\u001b[1;32mTrue\u001b[0m\u001b[1;33m)\u001b[0m\u001b[1;33m\u001b[0m\u001b[1;33m\u001b[0m\u001b[0m\n\u001b[0m",
      "\u001b[1;31mTypeError\u001b[0m: 'bool' object is not iterable"
     ]
    }
   ],
   "source": [
    "iter(True)"
   ]
  },
  {
   "cell_type": "code",
   "execution_count": 86,
   "id": "3966f39a-eaa8-47bd-a6bb-f1025f77a649",
   "metadata": {},
   "outputs": [],
   "source": [
    "d= iter({'key':\"fdsfss\"})"
   ]
  },
  {
   "cell_type": "code",
   "execution_count": 87,
   "id": "1c63997e-5eca-4b09-abf3-dcb01d433294",
   "metadata": {},
   "outputs": [
    {
     "data": {
      "text/plain": [
       "'key'"
      ]
     },
     "execution_count": 87,
     "metadata": {},
     "output_type": "execute_result"
    }
   ],
   "source": [
    "next(d)"
   ]
  },
  {
   "cell_type": "code",
   "execution_count": 88,
   "id": "b7afd101-7c1c-4316-b26c-750856f36e99",
   "metadata": {},
   "outputs": [
    {
     "ename": "TypeError",
     "evalue": "'int' object is not iterable",
     "output_type": "error",
     "traceback": [
      "\u001b[1;31m---------------------------------------------------------------------------\u001b[0m",
      "\u001b[1;31mTypeError\u001b[0m                                 Traceback (most recent call last)",
      "\u001b[1;32m~\\AppData\\Local\\Temp\\ipykernel_13012\\2035848844.py\u001b[0m in \u001b[0;36m<module>\u001b[1;34m\u001b[0m\n\u001b[1;32m----> 1\u001b[1;33m \u001b[0miter\u001b[0m\u001b[1;33m(\u001b[0m\u001b[1;36m20\u001b[0m\u001b[1;33m)\u001b[0m\u001b[1;33m\u001b[0m\u001b[1;33m\u001b[0m\u001b[0m\n\u001b[0m",
      "\u001b[1;31mTypeError\u001b[0m: 'int' object is not iterable"
     ]
    }
   ],
   "source": [
    "iter(20)"
   ]
  },
  {
   "cell_type": "code",
   "execution_count": 89,
   "id": "bdc406d7-01d2-47b0-9434-c3f3b3b93ccc",
   "metadata": {},
   "outputs": [
    {
     "ename": "TypeError",
     "evalue": "'int' object is not iterable",
     "output_type": "error",
     "traceback": [
      "\u001b[1;31m---------------------------------------------------------------------------\u001b[0m",
      "\u001b[1;31mTypeError\u001b[0m                                 Traceback (most recent call last)",
      "\u001b[1;32m~\\AppData\\Local\\Temp\\ipykernel_13012\\2943238053.py\u001b[0m in \u001b[0;36m<module>\u001b[1;34m\u001b[0m\n\u001b[1;32m----> 1\u001b[1;33m \u001b[0mlist\u001b[0m\u001b[1;33m(\u001b[0m\u001b[1;36m87451\u001b[0m\u001b[1;33m)\u001b[0m\u001b[1;33m\u001b[0m\u001b[1;33m\u001b[0m\u001b[0m\n\u001b[0m",
      "\u001b[1;31mTypeError\u001b[0m: 'int' object is not iterable"
     ]
    }
   ],
   "source": [
    "list(87451)"
   ]
  },
  {
   "cell_type": "code",
   "execution_count": 90,
   "id": "165e72d0",
   "metadata": {},
   "outputs": [
    {
     "data": {
      "text/plain": [
       "['gaurav']"
      ]
     },
     "execution_count": 90,
     "metadata": {},
     "output_type": "execute_result"
    }
   ],
   "source": [
    "v = 'gaurav'\n",
    "[v]"
   ]
  },
  {
   "cell_type": "code",
   "execution_count": 91,
   "id": "70b2a6d7",
   "metadata": {},
   "outputs": [
    {
     "data": {
      "text/plain": [
       "['g', 'a', 'u', 'r', 'a', 'v']"
      ]
     },
     "execution_count": 91,
     "metadata": {},
     "output_type": "execute_result"
    }
   ],
   "source": [
    "list(v)"
   ]
  },
  {
   "cell_type": "code",
   "execution_count": 92,
   "id": "36f7ca34-bf12-45c5-ac8f-6d6c3dc1c766",
   "metadata": {},
   "outputs": [
    {
     "name": "stdout",
     "output_type": "stream",
     "text": [
      "0\n",
      "1\n",
      "2\n",
      "3\n",
      "4\n"
     ]
    }
   ],
   "source": [
    "for i in range(0,5):\n",
    "    print(i)"
   ]
  },
  {
   "cell_type": "code",
   "execution_count": 93,
   "id": "f304c88c-6644-4639-8bc0-1dbf7525e431",
   "metadata": {},
   "outputs": [],
   "source": [
    "i = iter(range(0,5))"
   ]
  },
  {
   "cell_type": "code",
   "execution_count": 94,
   "id": "45aaddee-3d4c-4c10-bc1c-80642017a001",
   "metadata": {},
   "outputs": [
    {
     "data": {
      "text/plain": [
       "0"
      ]
     },
     "execution_count": 94,
     "metadata": {},
     "output_type": "execute_result"
    }
   ],
   "source": [
    "next(i)"
   ]
  },
  {
   "cell_type": "code",
   "execution_count": 95,
   "id": "f51712cd-858f-436a-bf82-79529b1f843b",
   "metadata": {},
   "outputs": [
    {
     "data": {
      "text/plain": [
       "1"
      ]
     },
     "execution_count": 95,
     "metadata": {},
     "output_type": "execute_result"
    }
   ],
   "source": [
    "next(i)"
   ]
  },
  {
   "cell_type": "code",
   "execution_count": 96,
   "id": "6c614e62-79e4-4a92-8380-0ab3efafe68c",
   "metadata": {},
   "outputs": [
    {
     "data": {
      "text/plain": [
       "2"
      ]
     },
     "execution_count": 96,
     "metadata": {},
     "output_type": "execute_result"
    }
   ],
   "source": [
    "next(i)"
   ]
  },
  {
   "cell_type": "code",
   "execution_count": 97,
   "id": "3eacc375-3be7-41c8-b6fb-e450fe088a4b",
   "metadata": {},
   "outputs": [
    {
     "data": {
      "text/plain": [
       "3"
      ]
     },
     "execution_count": 97,
     "metadata": {},
     "output_type": "execute_result"
    }
   ],
   "source": [
    "next(i)"
   ]
  },
  {
   "cell_type": "code",
   "execution_count": 98,
   "id": "c523e36a-1b7a-438b-b92f-c3050284aa5c",
   "metadata": {},
   "outputs": [
    {
     "data": {
      "text/plain": [
       "4"
      ]
     },
     "execution_count": 98,
     "metadata": {},
     "output_type": "execute_result"
    }
   ],
   "source": [
    "next(i)"
   ]
  },
  {
   "cell_type": "code",
   "execution_count": 99,
   "id": "2061226d-4d58-4d1d-b01c-d00df7f103e8",
   "metadata": {},
   "outputs": [
    {
     "ename": "StopIteration",
     "evalue": "",
     "output_type": "error",
     "traceback": [
      "\u001b[1;31m---------------------------------------------------------------------------\u001b[0m",
      "\u001b[1;31mStopIteration\u001b[0m                             Traceback (most recent call last)",
      "\u001b[1;32m~\\AppData\\Local\\Temp\\ipykernel_13012\\1939748483.py\u001b[0m in \u001b[0;36m<module>\u001b[1;34m\u001b[0m\n\u001b[1;32m----> 1\u001b[1;33m \u001b[0mnext\u001b[0m\u001b[1;33m(\u001b[0m\u001b[0mi\u001b[0m\u001b[1;33m)\u001b[0m\u001b[1;33m\u001b[0m\u001b[1;33m\u001b[0m\u001b[0m\n\u001b[0m",
      "\u001b[1;31mStopIteration\u001b[0m: "
     ]
    }
   ],
   "source": [
    "next(i)"
   ]
  },
  {
   "cell_type": "code",
   "execution_count": 100,
   "id": "2dc1bff1-30b0-4623-8ea0-0549ea5fee64",
   "metadata": {
    "scrolled": true
   },
   "outputs": [
    {
     "data": {
      "text/plain": [
       "range(0, 5)"
      ]
     },
     "execution_count": 100,
     "metadata": {},
     "output_type": "execute_result"
    }
   ],
   "source": [
    "range(0,5)"
   ]
  },
  {
   "cell_type": "code",
   "execution_count": 101,
   "id": "7540fc16-4328-4545-a1f6-9d5113d29669",
   "metadata": {},
   "outputs": [
    {
     "data": {
      "text/plain": [
       "13"
      ]
     },
     "execution_count": 101,
     "metadata": {},
     "output_type": "execute_result"
    }
   ],
   "source": [
    "len(\"Gaurav Narwal\")"
   ]
  },
  {
   "cell_type": "code",
   "execution_count": 102,
   "id": "afc7aecf-de99-4b26-a274-2643547db38b",
   "metadata": {},
   "outputs": [],
   "source": [
    "def range_fun(n):\n",
    "    i = 0\n",
    "    l = []\n",
    "    while i<n:\n",
    "        l.append(i)\n",
    "        i = i+1\n",
    "    return l"
   ]
  },
  {
   "cell_type": "code",
   "execution_count": 108,
   "id": "a1857345-1e3a-49eb-8898-9e572d750ae6",
   "metadata": {
    "scrolled": true
   },
   "outputs": [
    {
     "data": {
      "text/plain": [
       "[0, 1, 2, 3, 4]"
      ]
     },
     "execution_count": 108,
     "metadata": {},
     "output_type": "execute_result"
    }
   ],
   "source": [
    "range_fun(5)"
   ]
  },
  {
   "cell_type": "code",
   "execution_count": 104,
   "id": "bfddca0c",
   "metadata": {},
   "outputs": [
    {
     "data": {
      "text/plain": [
       "[100, 110, 120, 130, 140, 150, 160, 170, 180, 190]"
      ]
     },
     "execution_count": 104,
     "metadata": {},
     "output_type": "execute_result"
    }
   ],
   "source": [
    "list(range(100,200,10))"
   ]
  },
  {
   "cell_type": "code",
   "execution_count": 105,
   "id": "e771ccb6",
   "metadata": {},
   "outputs": [
    {
     "data": {
      "text/plain": [
       "range(0, 5)"
      ]
     },
     "execution_count": 105,
     "metadata": {},
     "output_type": "execute_result"
    }
   ],
   "source": [
    "range(5)"
   ]
  },
  {
   "cell_type": "code",
   "execution_count": 106,
   "id": "c1c998b0",
   "metadata": {
    "scrolled": true
   },
   "outputs": [
    {
     "ename": "NameError",
     "evalue": "name 'count_fun1' is not defined",
     "output_type": "error",
     "traceback": [
      "\u001b[1;31m---------------------------------------------------------------------------\u001b[0m",
      "\u001b[1;31mNameError\u001b[0m                                 Traceback (most recent call last)",
      "\u001b[1;32m~\\AppData\\Local\\Temp\\ipykernel_13012\\2666365292.py\u001b[0m in \u001b[0;36m<module>\u001b[1;34m\u001b[0m\n\u001b[1;32m----> 1\u001b[1;33m \u001b[1;32mfor\u001b[0m \u001b[0mi\u001b[0m \u001b[1;32min\u001b[0m \u001b[0mcount_fun1\u001b[0m\u001b[1;33m(\u001b[0m\u001b[1;36m5\u001b[0m\u001b[1;33m)\u001b[0m\u001b[1;33m:\u001b[0m\u001b[1;33m\u001b[0m\u001b[1;33m\u001b[0m\u001b[0m\n\u001b[0m\u001b[0;32m      2\u001b[0m     \u001b[0mprint\u001b[0m\u001b[1;33m(\u001b[0m\u001b[0mi\u001b[0m\u001b[1;33m)\u001b[0m\u001b[1;33m\u001b[0m\u001b[1;33m\u001b[0m\u001b[0m\n",
      "\u001b[1;31mNameError\u001b[0m: name 'count_fun1' is not defined"
     ]
    }
   ],
   "source": [
    "for i in count_fun1(5):\n",
    "    print(i)"
   ]
  },
  {
   "cell_type": "markdown",
   "id": "1fd22dcb",
   "metadata": {},
   "source": [
    "###### What Is Yield In Python? The Yield keyword in Python is similar to a return statement used for returning values or objects in Python."
   ]
  },
  {
   "cell_type": "code",
   "execution_count": 116,
   "id": "dcc81b22",
   "metadata": {},
   "outputs": [],
   "source": [
    "def simple_range(n):\n",
    "    temp = 0\n",
    "    \n",
    "    while temp < n:\n",
    "        yield temp\n",
    "        temp += 1"
   ]
  },
  {
   "cell_type": "code",
   "execution_count": 117,
   "id": "cab2effe",
   "metadata": {},
   "outputs": [
    {
     "data": {
      "text/plain": [
       "[0, 1, 2, 3, 4]"
      ]
     },
     "execution_count": 117,
     "metadata": {},
     "output_type": "execute_result"
    }
   ],
   "source": [
    "list(simple_range(5))"
   ]
  },
  {
   "cell_type": "code",
   "execution_count": 120,
   "id": "2886b83d",
   "metadata": {},
   "outputs": [],
   "source": [
    "def new_range(start = 0,end= 5,jump = 1):\n",
    "    count = start\n",
    "    while count < end:\n",
    "        yield count\n",
    "        count += jump"
   ]
  },
  {
   "cell_type": "code",
   "execution_count": 121,
   "id": "8fa28671",
   "metadata": {},
   "outputs": [
    {
     "data": {
      "text/plain": [
       "[10, 30, 50, 70, 90]"
      ]
     },
     "execution_count": 121,
     "metadata": {},
     "output_type": "execute_result"
    }
   ],
   "source": [
    "list(new_range(10,100,20))"
   ]
  },
  {
   "cell_type": "code",
   "execution_count": 122,
   "id": "1130be04",
   "metadata": {},
   "outputs": [
    {
     "data": {
      "text/plain": [
       "<generator object new_range at 0x0000019CD75F0190>"
      ]
     },
     "execution_count": 122,
     "metadata": {},
     "output_type": "execute_result"
    }
   ],
   "source": [
    "new_range(10,100,10)"
   ]
  },
  {
   "cell_type": "code",
   "execution_count": 123,
   "id": "37d48ea5",
   "metadata": {},
   "outputs": [
    {
     "data": {
      "text/plain": [
       "[10, 20, 30, 40, 50, 60, 70, 80, 90]"
      ]
     },
     "execution_count": 123,
     "metadata": {},
     "output_type": "execute_result"
    }
   ],
   "source": [
    "list(new_range(10,100,10))"
   ]
  },
  {
   "cell_type": "code",
   "execution_count": 124,
   "id": "fea4c370",
   "metadata": {},
   "outputs": [
    {
     "name": "stdout",
     "output_type": "stream",
     "text": [
      "n\n",
      "i\n",
      "k\n",
      "h\n",
      "i\n",
      "l\n"
     ]
    }
   ],
   "source": [
    "for i in 'nikhil':\n",
    "    print(i)"
   ]
  },
  {
   "cell_type": "code",
   "execution_count": 125,
   "id": "e5bbbd39",
   "metadata": {},
   "outputs": [],
   "source": [
    "def for_loop(string):\n",
    "    i_value = iter(string)\n",
    "    i = 0\n",
    "    while i < len(string):\n",
    "        i += 1\n",
    "        temp = next(i_value)\n",
    "        print(temp)"
   ]
  },
  {
   "cell_type": "code",
   "execution_count": 39,
   "id": "b4a3ac55",
   "metadata": {
    "scrolled": true
   },
   "outputs": [
    {
     "ename": "NameError",
     "evalue": "name 'for_loop' is not defined",
     "output_type": "error",
     "traceback": [
      "\u001b[1;31m---------------------------------------------------------------------------\u001b[0m",
      "\u001b[1;31mNameError\u001b[0m                                 Traceback (most recent call last)",
      "\u001b[1;32m~\\AppData\\Local\\Temp\\ipykernel_13136\\1096271860.py\u001b[0m in \u001b[0;36m<module>\u001b[1;34m\u001b[0m\n\u001b[1;32m----> 1\u001b[1;33m \u001b[0mfor_loop\u001b[0m\u001b[1;33m(\u001b[0m\u001b[1;34m'nikhil'\u001b[0m\u001b[1;33m)\u001b[0m\u001b[1;33m\u001b[0m\u001b[1;33m\u001b[0m\u001b[0m\n\u001b[0m",
      "\u001b[1;31mNameError\u001b[0m: name 'for_loop' is not defined"
     ]
    }
   ],
   "source": [
    "for_loop('nikhil')"
   ]
  },
  {
   "cell_type": "code",
   "execution_count": 44,
   "id": "f871192b",
   "metadata": {},
   "outputs": [],
   "source": [
    "def example(x):\n",
    "    for i in range(x):\n",
    "        yield i"
   ]
  },
  {
   "cell_type": "code",
   "execution_count": 45,
   "id": "aeeb0c99",
   "metadata": {},
   "outputs": [
    {
     "data": {
      "text/plain": [
       "[0, 1, 2, 3, 4]"
      ]
     },
     "execution_count": 45,
     "metadata": {},
     "output_type": "execute_result"
    }
   ],
   "source": [
    "list(example(5))"
   ]
  },
  {
   "cell_type": "code",
   "execution_count": null,
   "id": "988b9d84",
   "metadata": {},
   "outputs": [],
   "source": []
  }
 ],
 "metadata": {
  "kernelspec": {
   "display_name": "Python 3 (ipykernel)",
   "language": "python",
   "name": "python3"
  },
  "language_info": {
   "codemirror_mode": {
    "name": "ipython",
    "version": 3
   },
   "file_extension": ".py",
   "mimetype": "text/x-python",
   "name": "python",
   "nbconvert_exporter": "python",
   "pygments_lexer": "ipython3",
   "version": "3.9.13"
  }
 },
 "nbformat": 4,
 "nbformat_minor": 5
}
