{
 "cells": [
  {
   "cell_type": "raw",
   "id": "a31f3d77",
   "metadata": {},
   "source": [
    "type()\n",
    "print()\n",
    "len()\n",
    "range()"
   ]
  },
  {
   "cell_type": "code",
   "execution_count": 21,
   "id": "a833ac99",
   "metadata": {},
   "outputs": [],
   "source": [
    "a = '85' # global variable\n",
    "\n",
    "\n",
    "def function(name):\n",
    "    global num\n",
    "    num = '5'  # local variable\n",
    "    \n",
    "    return name + a\n",
    "    "
   ]
  },
  {
   "cell_type": "code",
   "execution_count": 22,
   "id": "fbd8565f",
   "metadata": {},
   "outputs": [
    {
     "data": {
      "text/plain": [
       "'gaurav85'"
      ]
     },
     "execution_count": 22,
     "metadata": {},
     "output_type": "execute_result"
    }
   ],
   "source": [
    "function('gaurav')"
   ]
  },
  {
   "cell_type": "code",
   "execution_count": 23,
   "id": "063826ab",
   "metadata": {},
   "outputs": [
    {
     "data": {
      "text/plain": [
       "'85'"
      ]
     },
     "execution_count": 23,
     "metadata": {},
     "output_type": "execute_result"
    }
   ],
   "source": [
    "a"
   ]
  },
  {
   "cell_type": "code",
   "execution_count": 24,
   "id": "7239b2e1",
   "metadata": {},
   "outputs": [
    {
     "data": {
      "text/plain": [
       "'5'"
      ]
     },
     "execution_count": 24,
     "metadata": {},
     "output_type": "execute_result"
    }
   ],
   "source": [
    "num"
   ]
  },
  {
   "cell_type": "markdown",
   "id": "ffad4621",
   "metadata": {},
   "source": [
    "# Functions"
   ]
  },
  {
   "cell_type": "code",
   "execution_count": 35,
   "id": "0502a537-6f39-49e9-950d-008efcbcebc0",
   "metadata": {},
   "outputs": [],
   "source": [
    "def test5(x):\n",
    "    \n",
    "    return x     "
   ]
  },
  {
   "cell_type": "code",
   "execution_count": 36,
   "id": "04a174d8-efe2-4c5f-8630-a1bf998979ed",
   "metadata": {},
   "outputs": [
    {
     "data": {
      "text/plain": [
       "5"
      ]
     },
     "execution_count": 36,
     "metadata": {},
     "output_type": "execute_result"
    }
   ],
   "source": [
    "test5(5)"
   ]
  },
  {
   "cell_type": "code",
   "execution_count": 37,
   "id": "0e041eb8-7031-49d3-b315-baa3d09672a7",
   "metadata": {},
   "outputs": [
    {
     "data": {
      "text/plain": [
       "'Gaurav'"
      ]
     },
     "execution_count": 37,
     "metadata": {},
     "output_type": "execute_result"
    }
   ],
   "source": [
    "test5(\"Gaurav\")"
   ]
  },
  {
   "cell_type": "code",
   "execution_count": 38,
   "id": "14ee1fce-2d00-42ce-a235-73c22aab483e",
   "metadata": {},
   "outputs": [
    {
     "data": {
      "text/plain": [
       "[2, 3, 4, 5]"
      ]
     },
     "execution_count": 38,
     "metadata": {},
     "output_type": "execute_result"
    }
   ],
   "source": [
    "test5([2,3,4,5])"
   ]
  },
  {
   "cell_type": "code",
   "execution_count": 39,
   "id": "d8a4fa37-4df2-4d18-90b0-287da12142ce",
   "metadata": {},
   "outputs": [
    {
     "ename": "TypeError",
     "evalue": "test5() takes 1 positional argument but 2 were given",
     "output_type": "error",
     "traceback": [
      "\u001b[1;31m---------------------------------------------------------------------------\u001b[0m",
      "\u001b[1;31mTypeError\u001b[0m                                 Traceback (most recent call last)",
      "\u001b[1;32m~\\AppData\\Local\\Temp\\ipykernel_9476\\3797324503.py\u001b[0m in \u001b[0;36m<module>\u001b[1;34m\u001b[0m\n\u001b[1;32m----> 1\u001b[1;33m \u001b[0mtest5\u001b[0m\u001b[1;33m(\u001b[0m\u001b[1;36m4\u001b[0m\u001b[1;33m,\u001b[0m\u001b[1;36m5\u001b[0m\u001b[1;33m)\u001b[0m\u001b[1;33m\u001b[0m\u001b[1;33m\u001b[0m\u001b[0m\n\u001b[0m",
      "\u001b[1;31mTypeError\u001b[0m: test5() takes 1 positional argument but 2 were given"
     ]
    }
   ],
   "source": [
    "test5(4,5)"
   ]
  },
  {
   "cell_type": "code",
   "execution_count": 46,
   "id": "b9c2d423-3e1c-46a7-81d8-47cbcc5d869f",
   "metadata": {},
   "outputs": [],
   "source": [
    "def test6(x = 1,y=20):\n",
    "    return x,y"
   ]
  },
  {
   "cell_type": "code",
   "execution_count": 48,
   "id": "f49da26b",
   "metadata": {},
   "outputs": [
    {
     "data": {
      "text/plain": [
       "(45, 5)"
      ]
     },
     "execution_count": 48,
     "metadata": {},
     "output_type": "execute_result"
    }
   ],
   "source": [
    "test6(45,5)"
   ]
  },
  {
   "cell_type": "code",
   "execution_count": 49,
   "id": "02390726-061f-46d8-9009-050bc3b80040",
   "metadata": {},
   "outputs": [
    {
     "data": {
      "text/plain": [
       "('Gaurav', [1, 2, 3, 4, 5])"
      ]
     },
     "execution_count": 49,
     "metadata": {},
     "output_type": "execute_result"
    }
   ],
   "source": [
    "test6(\"Gaurav\" , [1,2,3,4,5])"
   ]
  },
  {
   "cell_type": "code",
   "execution_count": 51,
   "id": "15801418",
   "metadata": {},
   "outputs": [
    {
     "name": "stdout",
     "output_type": "stream",
     "text": [
      "gaurav monu sonu abhay gauri 5 58 2\n"
     ]
    }
   ],
   "source": [
    "print('gaurav','monu','sonu','abhay','gauri',5,58,2)"
   ]
  },
  {
   "cell_type": "code",
   "execution_count": 65,
   "id": "7fdc0c8b-4a06-43e7-a91a-839007dbfaed",
   "metadata": {},
   "outputs": [],
   "source": [
    "def test10(*args):     #arbitrary arguments\n",
    "    return args"
   ]
  },
  {
   "cell_type": "code",
   "execution_count": 66,
   "id": "3a965791-d110-4b82-af39-cd3fb396d4e9",
   "metadata": {},
   "outputs": [
    {
     "data": {
      "text/plain": [
       "(1, 2, 0, 8, 9, 'asdf', 49, 54, 8, 4)"
      ]
     },
     "execution_count": 66,
     "metadata": {},
     "output_type": "execute_result"
    }
   ],
   "source": [
    "test10(1,2,0,8,9,'asdf',49,54,8,4)"
   ]
  },
  {
   "cell_type": "code",
   "execution_count": 67,
   "id": "a429465a-a5de-4b74-b14e-f7bb9b511bb6",
   "metadata": {},
   "outputs": [
    {
     "data": {
      "text/plain": [
       "(2, 3, 4, 5, 6, 6)"
      ]
     },
     "execution_count": 67,
     "metadata": {},
     "output_type": "execute_result"
    }
   ],
   "source": [
    "test10(2,3,4,5,6,6)"
   ]
  },
  {
   "cell_type": "code",
   "execution_count": 68,
   "id": "9db82a28-4211-4fe6-a2d3-94e1cf58679b",
   "metadata": {},
   "outputs": [],
   "source": [
    "def test11(*gaurav):\n",
    "    return gaurav"
   ]
  },
  {
   "cell_type": "code",
   "execution_count": 69,
   "id": "828a12a1-a1f6-4d61-a60a-dd82d605f4ab",
   "metadata": {},
   "outputs": [
    {
     "data": {
      "text/plain": [
       "(3, 4, 56, 6, 'asdf', 'asdfkjashgdifgasdiuf')"
      ]
     },
     "execution_count": 69,
     "metadata": {},
     "output_type": "execute_result"
    }
   ],
   "source": [
    "test11(3,4,56,6,'asdf','asdfkjashgdifgasdiuf')"
   ]
  },
  {
   "cell_type": "code",
   "execution_count": null,
   "id": "bcbf5649",
   "metadata": {},
   "outputs": [],
   "source": []
  },
  {
   "cell_type": "code",
   "execution_count": null,
   "id": "d57315d3",
   "metadata": {},
   "outputs": [],
   "source": []
  },
  {
   "cell_type": "code",
   "execution_count": 77,
   "id": "0b31d393-de52-422b-a1c4-46a758c0e985",
   "metadata": {},
   "outputs": [],
   "source": [
    "def test12(**kwargs):   #keyword arguments\n",
    "    return kwargs"
   ]
  },
  {
   "cell_type": "code",
   "execution_count": 80,
   "id": "216a5613-c1d5-48a2-bbf6-5b97a7a95e95",
   "metadata": {},
   "outputs": [
    {
     "data": {
      "text/plain": [
       "{'a': 4, 'b': 5, 'c': 6, 'drishti': 'girl'}"
      ]
     },
     "execution_count": 80,
     "metadata": {},
     "output_type": "execute_result"
    }
   ],
   "source": [
    "test12(a = 4,b = 5,c = 6,drishti = 'girl')"
   ]
  },
  {
   "cell_type": "code",
   "execution_count": 81,
   "id": "92dce7c1-d9cb-4c5d-abee-c906de7fd2e4",
   "metadata": {},
   "outputs": [
    {
     "data": {
      "text/plain": [
       "{'a': 4, 'b': 5, 'c': 6}"
      ]
     },
     "execution_count": 81,
     "metadata": {},
     "output_type": "execute_result"
    }
   ],
   "source": [
    "test12(a= 4, b= 5, c= 6)"
   ]
  },
  {
   "cell_type": "code",
   "execution_count": 98,
   "id": "774e674c-8d9e-4cf1-bbb7-7b208ccaeccc",
   "metadata": {},
   "outputs": [],
   "source": [
    "def test13(a = 10 , b = 0 , c = 0):\n",
    "    return a,b,c"
   ]
  },
  {
   "cell_type": "code",
   "execution_count": 101,
   "id": "39435bd5-756b-4ea1-8aa5-a56d0abe8b5d",
   "metadata": {},
   "outputs": [
    {
     "data": {
      "text/plain": [
       "(9, 1, 5)"
      ]
     },
     "execution_count": 101,
     "metadata": {},
     "output_type": "execute_result"
    }
   ],
   "source": [
    "test13(c = 5,a = 9,b = 1)"
   ]
  },
  {
   "cell_type": "code",
   "execution_count": 102,
   "id": "966e91b3-232e-40aa-b2c4-ecf7fe3f6cdb",
   "metadata": {},
   "outputs": [
    {
     "ename": "TypeError",
     "evalue": "test13() got multiple values for argument 'a'",
     "output_type": "error",
     "traceback": [
      "\u001b[1;31m---------------------------------------------------------------------------\u001b[0m",
      "\u001b[1;31mTypeError\u001b[0m                                 Traceback (most recent call last)",
      "\u001b[1;32m~\\AppData\\Local\\Temp\\ipykernel_9476\\4050426854.py\u001b[0m in \u001b[0;36m<module>\u001b[1;34m\u001b[0m\n\u001b[1;32m----> 1\u001b[1;33m \u001b[0mtest13\u001b[0m\u001b[1;33m(\u001b[0m\u001b[1;36m34\u001b[0m\u001b[1;33m,\u001b[0m \u001b[0ma\u001b[0m \u001b[1;33m=\u001b[0m \u001b[1;36m45\u001b[0m\u001b[1;33m)\u001b[0m\u001b[1;33m\u001b[0m\u001b[1;33m\u001b[0m\u001b[0m\n\u001b[0m",
      "\u001b[1;31mTypeError\u001b[0m: test13() got multiple values for argument 'a'"
     ]
    }
   ],
   "source": [
    "test13(34, a = 45)"
   ]
  },
  {
   "cell_type": "code",
   "execution_count": 32,
   "id": "05c266ea-fb93-43f2-a31c-bf9849fed2eb",
   "metadata": {},
   "outputs": [],
   "source": [
    "v = test13(4,5,67)"
   ]
  },
  {
   "cell_type": "code",
   "execution_count": 33,
   "id": "35d84531-d95f-4036-bf39-0f926a22034e",
   "metadata": {},
   "outputs": [
    {
     "data": {
      "text/plain": [
       "(4, 5, 67)"
      ]
     },
     "execution_count": 33,
     "metadata": {},
     "output_type": "execute_result"
    }
   ],
   "source": [
    "v"
   ]
  },
  {
   "cell_type": "markdown",
   "id": "922ac7fa",
   "metadata": {},
   "source": [
    "#### ------------------------------------------------------------------------------------------------------------------------------------------------------"
   ]
  },
  {
   "cell_type": "code",
   "execution_count": 34,
   "id": "df7b4409-7adb-4de6-aec0-45b564fc39fa",
   "metadata": {},
   "outputs": [],
   "source": [
    "def test14(a,b) :\n",
    "    return a+b"
   ]
  },
  {
   "cell_type": "code",
   "execution_count": 35,
   "id": "7e735afb-ee18-435f-b44e-4d3dab2d5cb7",
   "metadata": {},
   "outputs": [
    {
     "data": {
      "text/plain": [
       "11"
      ]
     },
     "execution_count": 35,
     "metadata": {},
     "output_type": "execute_result"
    }
   ],
   "source": [
    "test14(5,6)"
   ]
  },
  {
   "cell_type": "code",
   "execution_count": 43,
   "id": "520c71e4",
   "metadata": {},
   "outputs": [],
   "source": [
    "def add(*num):\n",
    "    total = 0\n",
    "    print(num)\n",
    "    for i in num:\n",
    "        total += i\n",
    "    return total"
   ]
  },
  {
   "cell_type": "code",
   "execution_count": 44,
   "id": "decad5c6",
   "metadata": {},
   "outputs": [
    {
     "name": "stdout",
     "output_type": "stream",
     "text": [
      "(8, 5, 47, 9, 1, 2, 1, 3)\n"
     ]
    },
    {
     "data": {
      "text/plain": [
       "76"
      ]
     },
     "execution_count": 44,
     "metadata": {},
     "output_type": "execute_result"
    }
   ],
   "source": [
    "add(8,5,47,9,1,2,1,3)"
   ]
  },
  {
   "cell_type": "markdown",
   "id": "23cf0fd8",
   "metadata": {},
   "source": [
    "# Lambda"
   ]
  },
  {
   "cell_type": "code",
   "execution_count": 4,
   "id": "ff155fd3",
   "metadata": {},
   "outputs": [],
   "source": [
    "#### lambda function\n",
    "\n",
    "m = lambda a,b,c,d : a+b+c+d"
   ]
  },
  {
   "cell_type": "code",
   "execution_count": 5,
   "id": "b017839f-80d5-499f-afc2-7a22e2f5a0dc",
   "metadata": {},
   "outputs": [
    {
     "data": {
      "text/plain": [
       "25"
      ]
     },
     "execution_count": 5,
     "metadata": {},
     "output_type": "execute_result"
    }
   ],
   "source": [
    "m(5,6,9,5)"
   ]
  },
  {
   "cell_type": "code",
   "execution_count": 6,
   "id": "be7534f5-3678-4545-a6d5-aa9e955de42a",
   "metadata": {},
   "outputs": [
    {
     "ename": "TypeError",
     "evalue": "<lambda>() missing 2 required positional arguments: 'c' and 'd'",
     "output_type": "error",
     "traceback": [
      "\u001b[1;31m---------------------------------------------------------------------------\u001b[0m",
      "\u001b[1;31mTypeError\u001b[0m                                 Traceback (most recent call last)",
      "\u001b[1;32m~\\AppData\\Local\\Temp\\ipykernel_13144\\2799846582.py\u001b[0m in \u001b[0;36m<module>\u001b[1;34m\u001b[0m\n\u001b[1;32m----> 1\u001b[1;33m \u001b[0mm\u001b[0m\u001b[1;33m(\u001b[0m\u001b[1;36m3\u001b[0m\u001b[1;33m,\u001b[0m\u001b[1;36m4\u001b[0m\u001b[1;33m)\u001b[0m\u001b[1;33m\u001b[0m\u001b[1;33m\u001b[0m\u001b[0m\n\u001b[0m",
      "\u001b[1;31mTypeError\u001b[0m: <lambda>() missing 2 required positional arguments: 'c' and 'd'"
     ]
    }
   ],
   "source": [
    "m(3,4)"
   ]
  },
  {
   "cell_type": "code",
   "execution_count": 53,
   "id": "0d72afed-b436-4c00-8d1f-49f2fd94fd36",
   "metadata": {},
   "outputs": [
    {
     "data": {
      "text/plain": [
       "1"
      ]
     },
     "execution_count": 53,
     "metadata": {},
     "output_type": "execute_result"
    }
   ],
   "source": [
    "3%2"
   ]
  },
  {
   "cell_type": "code",
   "execution_count": 7,
   "id": "c83526ab-bd8e-4f8e-b6f2-10dc99471a8b",
   "metadata": {},
   "outputs": [],
   "source": [
    "b = lambda n : \"given number is an even number\" if n%2 == 0  else \"given number not an even number\""
   ]
  },
  {
   "cell_type": "code",
   "execution_count": 8,
   "id": "b452d4c2-00ac-4252-89d8-15060c288782",
   "metadata": {},
   "outputs": [
    {
     "data": {
      "text/plain": [
       "'given number is an even number'"
      ]
     },
     "execution_count": 8,
     "metadata": {},
     "output_type": "execute_result"
    }
   ],
   "source": [
    "b(4)"
   ]
  },
  {
   "cell_type": "code",
   "execution_count": 9,
   "id": "4823ebab-f64c-4ddc-9307-af653e473606",
   "metadata": {},
   "outputs": [
    {
     "data": {
      "text/plain": [
       "'given number not an even number'"
      ]
     },
     "execution_count": 9,
     "metadata": {},
     "output_type": "execute_result"
    }
   ],
   "source": [
    "b(3)"
   ]
  },
  {
   "cell_type": "code",
   "execution_count": null,
   "id": "89e40f6d-f1d6-4938-bf1b-0897c470709f",
   "metadata": {},
   "outputs": [],
   "source": []
  },
  {
   "cell_type": "code",
   "execution_count": null,
   "id": "47ccceb2-6f4e-40f5-a33d-662ee2247832",
   "metadata": {},
   "outputs": [],
   "source": []
  },
  {
   "cell_type": "code",
   "execution_count": 10,
   "id": "c726469c-29ee-4e2e-bdd1-14f58d12e235",
   "metadata": {},
   "outputs": [],
   "source": [
    "l = [3,4,5,76,3,0,2,3,4,5]\n",
    "min_list = lambda li : min(li)"
   ]
  },
  {
   "cell_type": "code",
   "execution_count": 66,
   "id": "1110beb6-8c88-4617-9a36-e99397505a7c",
   "metadata": {},
   "outputs": [
    {
     "data": {
      "text/plain": [
       "0"
      ]
     },
     "execution_count": 66,
     "metadata": {},
     "output_type": "execute_result"
    }
   ],
   "source": [
    "min_list(l)"
   ]
  },
  {
   "cell_type": "code",
   "execution_count": 67,
   "id": "1e7aa439",
   "metadata": {},
   "outputs": [
    {
     "data": {
      "text/plain": [
       "'1'"
      ]
     },
     "execution_count": 67,
     "metadata": {},
     "output_type": "execute_result"
    }
   ],
   "source": [
    "min_list('548915')"
   ]
  },
  {
   "cell_type": "code",
   "execution_count": 11,
   "id": "2293bb01-bf34-4dbc-873e-7064e207417d",
   "metadata": {},
   "outputs": [],
   "source": [
    "div = lambda a,b: a/b"
   ]
  },
  {
   "cell_type": "code",
   "execution_count": 12,
   "id": "fae834d5-bbbc-41b7-8b83-bc5f42171c81",
   "metadata": {},
   "outputs": [
    {
     "data": {
      "text/plain": [
       "0.8333333333333334"
      ]
     },
     "execution_count": 12,
     "metadata": {},
     "output_type": "execute_result"
    }
   ],
   "source": [
    "div(5,6)"
   ]
  },
  {
   "cell_type": "code",
   "execution_count": 13,
   "id": "425cdab0-28f5-4381-8275-ff46086ec5c2",
   "metadata": {},
   "outputs": [],
   "source": [
    "upper = lambda s : s.upper()"
   ]
  },
  {
   "cell_type": "code",
   "execution_count": 14,
   "id": "1f2d821c-9a58-41fe-a150-e2e64a788705",
   "metadata": {},
   "outputs": [
    {
     "data": {
      "text/plain": [
       "'GAURAV'"
      ]
     },
     "execution_count": 14,
     "metadata": {},
     "output_type": "execute_result"
    }
   ],
   "source": [
    "upper(\"Gaurav\")"
   ]
  },
  {
   "cell_type": "code",
   "execution_count": 15,
   "id": "f38991df",
   "metadata": {},
   "outputs": [],
   "source": [
    "def unlimited_add(*x):\n",
    "    add = 0\n",
    "    for i in x:\n",
    "        add += i\n",
    "    return add"
   ]
  },
  {
   "cell_type": "code",
   "execution_count": 16,
   "id": "82671bf6",
   "metadata": {},
   "outputs": [
    {
     "data": {
      "text/plain": [
       "71"
      ]
     },
     "execution_count": 16,
     "metadata": {},
     "output_type": "execute_result"
    }
   ],
   "source": [
    "unlimited_add(4,3,9,47,2,6)"
   ]
  },
  {
   "cell_type": "code",
   "execution_count": 17,
   "id": "632c302b",
   "metadata": {},
   "outputs": [],
   "source": [
    "def add_list(lst):\n",
    "    add = 0\n",
    "    for i in lst:\n",
    "        add += i\n",
    "    return add"
   ]
  },
  {
   "cell_type": "code",
   "execution_count": 19,
   "id": "3afcf2c0-6f52-4141-9f72-c13eea61aecc",
   "metadata": {},
   "outputs": [],
   "source": [
    "def sum_odd(b):\n",
    "    l1 = []\n",
    "    for i in b :\n",
    "        if i%2!=0:\n",
    "            l1.append(i)\n",
    "            \n",
    "    return add_list(l1)\n",
    "\n",
    "\n",
    "l = [3,4,5,6,7,2,3,34,5,56]"
   ]
  },
  {
   "cell_type": "code",
   "execution_count": 92,
   "id": "248ded39",
   "metadata": {},
   "outputs": [
    {
     "data": {
      "text/plain": [
       "23"
      ]
     },
     "execution_count": 92,
     "metadata": {},
     "output_type": "execute_result"
    }
   ],
   "source": [
    "sum_odd(l)"
   ]
  },
  {
   "cell_type": "code",
   "execution_count": 93,
   "id": "82303645",
   "metadata": {},
   "outputs": [
    {
     "data": {
      "text/plain": [
       "[3, 4, 5, 6, 7, 2, 3, 34, 5, 56]"
      ]
     },
     "execution_count": 93,
     "metadata": {},
     "output_type": "execute_result"
    }
   ],
   "source": [
    "l"
   ]
  },
  {
   "cell_type": "markdown",
   "id": "e86879c4",
   "metadata": {},
   "source": [
    "### List Comprehension\n",
    "List comprehension offers a shorter syntax when you want to create a new list based on the values of an existing list.\n",
    "\n",
    "[expression for item in iterable if condition == True]"
   ]
  },
  {
   "cell_type": "raw",
   "id": "c88ca4ab",
   "metadata": {},
   "source": [
    "[expression for item in iterable if condition == True]"
   ]
  },
  {
   "cell_type": "code",
   "execution_count": 94,
   "id": "3921178f",
   "metadata": {},
   "outputs": [
    {
     "data": {
      "text/plain": [
       "[3, 4, 5, 6, 7, 2, 3, 34, 5, 56]"
      ]
     },
     "execution_count": 94,
     "metadata": {},
     "output_type": "execute_result"
    }
   ],
   "source": [
    "l"
   ]
  },
  {
   "cell_type": "code",
   "execution_count": 20,
   "id": "f29286a3",
   "metadata": {},
   "outputs": [
    {
     "data": {
      "text/plain": [
       "[3, 5, 7, 3, 5]"
      ]
     },
     "execution_count": 20,
     "metadata": {},
     "output_type": "execute_result"
    }
   ],
   "source": [
    "[i for i in l if i%2 != 0]"
   ]
  },
  {
   "cell_type": "code",
   "execution_count": 21,
   "id": "0505d547-b24e-4120-977b-6d734dcb03e9",
   "metadata": {
    "scrolled": true
   },
   "outputs": [
    {
     "data": {
      "text/plain": [
       "[4, 6, 2, 34, 56]"
      ]
     },
     "execution_count": 21,
     "metadata": {},
     "output_type": "execute_result"
    }
   ],
   "source": [
    "[i for i in l if i%2==0]"
   ]
  },
  {
   "cell_type": "code",
   "execution_count": 22,
   "id": "2a32b22b",
   "metadata": {},
   "outputs": [
    {
     "data": {
      "text/plain": [
       "[3, 4, 5, 6, 7, 2, 3, 34, 5, 56]"
      ]
     },
     "execution_count": 22,
     "metadata": {},
     "output_type": "execute_result"
    }
   ],
   "source": [
    "l"
   ]
  },
  {
   "cell_type": "code",
   "execution_count": 23,
   "id": "c9af6af3",
   "metadata": {},
   "outputs": [
    {
     "data": {
      "text/plain": [
       "[4, 6, 2, 34, 56]"
      ]
     },
     "execution_count": 23,
     "metadata": {},
     "output_type": "execute_result"
    }
   ],
   "source": [
    "even_list = []\n",
    "for i in l:\n",
    "    if i % 2 ==0:\n",
    "        even_list.append(i)\n",
    "even_list"
   ]
  },
  {
   "cell_type": "code",
   "execution_count": null,
   "id": "251379bc",
   "metadata": {},
   "outputs": [],
   "source": []
  },
  {
   "cell_type": "code",
   "execution_count": 24,
   "id": "534c863e-7dd9-4da7-9db0-85e133474291",
   "metadata": {},
   "outputs": [],
   "source": [
    "sum_off_lambda = lambda lst : sum([i for i in lst if i%2!=0])"
   ]
  },
  {
   "cell_type": "code",
   "execution_count": 25,
   "id": "d6026785-6612-4616-9b04-5f4ded6e1f25",
   "metadata": {},
   "outputs": [
    {
     "data": {
      "text/plain": [
       "23"
      ]
     },
     "execution_count": 25,
     "metadata": {},
     "output_type": "execute_result"
    }
   ],
   "source": [
    "sum_off_lambda(l)"
   ]
  },
  {
   "cell_type": "code",
   "execution_count": 26,
   "id": "91c5afa4-6824-4ee6-ae92-b8df719bba32",
   "metadata": {},
   "outputs": [
    {
     "data": {
      "text/plain": [
       "23"
      ]
     },
     "execution_count": 26,
     "metadata": {},
     "output_type": "execute_result"
    }
   ],
   "source": [
    "sum_odd(l)"
   ]
  },
  {
   "cell_type": "code",
   "execution_count": 27,
   "id": "20102f65",
   "metadata": {},
   "outputs": [],
   "source": [
    "def fact(n):\n",
    "    p = 1\n",
    "    for i in range(1,n+1):\n",
    "        p *= i\n",
    "    return p"
   ]
  },
  {
   "cell_type": "code",
   "execution_count": 2,
   "id": "008f3827",
   "metadata": {},
   "outputs": [
    {
     "data": {
      "text/plain": [
       "120"
      ]
     },
     "execution_count": 2,
     "metadata": {},
     "output_type": "execute_result"
    }
   ],
   "source": [
    "fact(5)"
   ]
  },
  {
   "cell_type": "code",
   "execution_count": 32,
   "id": "782768b0-ead2-45a1-90ae-008047fde851",
   "metadata": {},
   "outputs": [],
   "source": [
    "def fact_number(n):\n",
    "    if n == 0 :\n",
    "        return 1 \n",
    "    else :\n",
    "        return n*fact_number(n-1)"
   ]
  },
  {
   "cell_type": "code",
   "execution_count": 33,
   "id": "58ea4aa6",
   "metadata": {},
   "outputs": [
    {
     "data": {
      "text/plain": [
       "6"
      ]
     },
     "execution_count": 33,
     "metadata": {},
     "output_type": "execute_result"
    }
   ],
   "source": [
    "fact_number(3)"
   ]
  },
  {
   "cell_type": "code",
   "execution_count": 34,
   "id": "09b20bba",
   "metadata": {},
   "outputs": [],
   "source": [
    "def fact(n):\n",
    "    prod = 1\n",
    "    for i in range(1,n+1):\n",
    "        prod *= i\n",
    "    return prod"
   ]
  },
  {
   "cell_type": "code",
   "execution_count": 35,
   "id": "b1f9e98e",
   "metadata": {},
   "outputs": [
    {
     "data": {
      "text/plain": [
       "120"
      ]
     },
     "execution_count": 35,
     "metadata": {},
     "output_type": "execute_result"
    }
   ],
   "source": [
    "fact(5)"
   ]
  },
  {
   "cell_type": "code",
   "execution_count": null,
   "id": "6b36cc13",
   "metadata": {},
   "outputs": [],
   "source": []
  },
  {
   "cell_type": "code",
   "execution_count": 36,
   "id": "7d9ae675",
   "metadata": {},
   "outputs": [
    {
     "data": {
      "text/plain": [
       "120"
      ]
     },
     "execution_count": 36,
     "metadata": {},
     "output_type": "execute_result"
    }
   ],
   "source": [
    "fact_number(5)"
   ]
  },
  {
   "cell_type": "code",
   "execution_count": 37,
   "id": "7a677e69-8f10-4fea-b040-031d149e5d34",
   "metadata": {},
   "outputs": [],
   "source": [
    "fact_num_lambda = lambda n : 1 if n == 0 else n*fact_num_lambda(n-1)"
   ]
  },
  {
   "cell_type": "code",
   "execution_count": 38,
   "id": "0591c659-f743-45fc-a1e1-3ba85baaa816",
   "metadata": {},
   "outputs": [
    {
     "data": {
      "text/plain": [
       "120"
      ]
     },
     "execution_count": 38,
     "metadata": {},
     "output_type": "execute_result"
    }
   ],
   "source": [
    "fact_num_lambda(5)"
   ]
  },
  {
   "cell_type": "code",
   "execution_count": 39,
   "id": "68126728-3dab-4c2a-a6d0-58f16b3cbc58",
   "metadata": {},
   "outputs": [
    {
     "data": {
      "text/plain": [
       "24"
      ]
     },
     "execution_count": 39,
     "metadata": {},
     "output_type": "execute_result"
    }
   ],
   "source": [
    "fact_number(4)"
   ]
  },
  {
   "cell_type": "code",
   "execution_count": 40,
   "id": "6d5a8323-97f9-4d2e-bf25-1eb6ccebc6d1",
   "metadata": {},
   "outputs": [
    {
     "data": {
      "text/plain": [
       "1"
      ]
     },
     "execution_count": 40,
     "metadata": {},
     "output_type": "execute_result"
    }
   ],
   "source": [
    "fact_number(0)"
   ]
  },
  {
   "cell_type": "code",
   "execution_count": 41,
   "id": "8bba4313-fbd7-4a66-a7cf-7b237139113e",
   "metadata": {},
   "outputs": [],
   "source": [
    "def fact_num(n) :\n",
    "    a = 1 \n",
    "    for i in range(1,n+1):\n",
    "        a = i*a\n",
    "    return a"
   ]
  },
  {
   "cell_type": "code",
   "execution_count": 42,
   "id": "28ac2ad1-b64c-4244-9341-a6ff4aa71375",
   "metadata": {},
   "outputs": [
    {
     "data": {
      "text/plain": [
       "24"
      ]
     },
     "execution_count": 42,
     "metadata": {},
     "output_type": "execute_result"
    }
   ],
   "source": [
    "fact_num(4)"
   ]
  },
  {
   "cell_type": "code",
   "execution_count": 43,
   "id": "05bda53f-1efe-45b9-aec5-c8dc69f141c9",
   "metadata": {},
   "outputs": [],
   "source": [
    "l = [5,6,7,8,89]\n",
    "\n",
    "l1 = []\n",
    "for i in l:\n",
    "    l1.append(i+2)"
   ]
  },
  {
   "cell_type": "code",
   "execution_count": 44,
   "id": "b9c6c819-f7d6-4ae4-80e3-7a7e02cd984c",
   "metadata": {},
   "outputs": [
    {
     "data": {
      "text/plain": [
       "[7, 8, 9, 10, 91]"
      ]
     },
     "execution_count": 44,
     "metadata": {},
     "output_type": "execute_result"
    }
   ],
   "source": [
    "l1"
   ]
  },
  {
   "cell_type": "code",
   "execution_count": 45,
   "id": "45f9453f-ca0f-4ea6-ac6e-7186a020c60e",
   "metadata": {},
   "outputs": [],
   "source": [
    "def add_list(l):\n",
    "    l1 = []\n",
    "    for i in l:\n",
    "        l1.append(i+2)\n",
    "    return l1\n",
    "        "
   ]
  },
  {
   "cell_type": "code",
   "execution_count": 46,
   "id": "274ee340-6a2a-4183-9fc8-660a8f8fe119",
   "metadata": {},
   "outputs": [
    {
     "data": {
      "text/plain": [
       "[5, 6, 7, 8, 9]"
      ]
     },
     "execution_count": 46,
     "metadata": {},
     "output_type": "execute_result"
    }
   ],
   "source": [
    "add_list([3,4,5,6,7])"
   ]
  },
  {
   "cell_type": "code",
   "execution_count": null,
   "id": "e13c4fb7",
   "metadata": {},
   "outputs": [],
   "source": []
  },
  {
   "cell_type": "code",
   "execution_count": null,
   "id": "320eeca5",
   "metadata": {},
   "outputs": [],
   "source": []
  },
  {
   "cell_type": "markdown",
   "id": "9524c697",
   "metadata": {},
   "source": [
    "# --------------------------------- Yash Dhariya ---------------------------"
   ]
  },
  {
   "cell_type": "markdown",
   "id": "c2af9c7b",
   "metadata": {},
   "source": [
    "# Map"
   ]
  },
  {
   "cell_type": "raw",
   "id": "ed823c4a",
   "metadata": {},
   "source": [
    "map()"
   ]
  },
  {
   "cell_type": "code",
   "execution_count": 1,
   "id": "e030a9ab-6be0-4d91-a08c-071eadd9c1b1",
   "metadata": {},
   "outputs": [],
   "source": [
    "l = [5, 6, 7, 8, 89]"
   ]
  },
  {
   "cell_type": "code",
   "execution_count": 2,
   "id": "68ddcb36",
   "metadata": {},
   "outputs": [
    {
     "data": {
      "text/plain": [
       "[5, 6, 7, 8, 89]"
      ]
     },
     "execution_count": 2,
     "metadata": {},
     "output_type": "execute_result"
    }
   ],
   "source": [
    "l"
   ]
  },
  {
   "cell_type": "code",
   "execution_count": 49,
   "id": "dbb23b3d",
   "metadata": {},
   "outputs": [
    {
     "ename": "TypeError",
     "evalue": "map() must have at least two arguments.",
     "output_type": "error",
     "traceback": [
      "\u001b[1;31m---------------------------------------------------------------------------\u001b[0m",
      "\u001b[1;31mTypeError\u001b[0m                                 Traceback (most recent call last)",
      "\u001b[1;32m~\\AppData\\Local\\Temp\\ipykernel_13144\\2739788555.py\u001b[0m in \u001b[0;36m<module>\u001b[1;34m\u001b[0m\n\u001b[1;32m----> 1\u001b[1;33m \u001b[0mmap\u001b[0m\u001b[1;33m(\u001b[0m\u001b[1;33m)\u001b[0m\u001b[1;33m\u001b[0m\u001b[1;33m\u001b[0m\u001b[0m\n\u001b[0m",
      "\u001b[1;31mTypeError\u001b[0m: map() must have at least two arguments."
     ]
    }
   ],
   "source": [
    "map()"
   ]
  },
  {
   "cell_type": "code",
   "execution_count": 4,
   "id": "344fe7ca",
   "metadata": {},
   "outputs": [
    {
     "data": {
      "text/plain": [
       "[5, 6, 7, 8, 89]"
      ]
     },
     "execution_count": 4,
     "metadata": {},
     "output_type": "execute_result"
    }
   ],
   "source": [
    "l"
   ]
  },
  {
   "cell_type": "code",
   "execution_count": 9,
   "id": "a36c5210-47f8-4334-bc3d-6badccbba480",
   "metadata": {},
   "outputs": [
    {
     "data": {
      "text/plain": [
       "(7, 8, 9, 10, 91)"
      ]
     },
     "execution_count": 9,
     "metadata": {},
     "output_type": "execute_result"
    }
   ],
   "source": [
    "tuple(map(lambda a : a+2,l))"
   ]
  },
  {
   "cell_type": "code",
   "execution_count": 8,
   "id": "123cd1c9-2102-40ee-97b2-46579472f286",
   "metadata": {},
   "outputs": [
    {
     "data": {
      "text/plain": [
       "[5, 6, 7, 8, 89]"
      ]
     },
     "execution_count": 8,
     "metadata": {},
     "output_type": "execute_result"
    }
   ],
   "source": [
    "l"
   ]
  },
  {
   "cell_type": "code",
   "execution_count": 10,
   "id": "9161773c-1de2-4511-ae5d-a5b6d536ea7a",
   "metadata": {},
   "outputs": [],
   "source": [
    "s = \"Gaurav\""
   ]
  },
  {
   "cell_type": "code",
   "execution_count": 11,
   "id": "70b28b60",
   "metadata": {},
   "outputs": [
    {
     "data": {
      "text/plain": [
       "6"
      ]
     },
     "execution_count": 11,
     "metadata": {},
     "output_type": "execute_result"
    }
   ],
   "source": [
    "len(s)"
   ]
  },
  {
   "cell_type": "code",
   "execution_count": 12,
   "id": "8415b54d",
   "metadata": {},
   "outputs": [],
   "source": [
    "lst = ['Gaurav','Rajeev','Sanal','Vaibhav']"
   ]
  },
  {
   "cell_type": "code",
   "execution_count": 13,
   "id": "82104219",
   "metadata": {},
   "outputs": [
    {
     "data": {
      "text/plain": [
       "[6, 6, 5, 7]"
      ]
     },
     "execution_count": 13,
     "metadata": {},
     "output_type": "execute_result"
    }
   ],
   "source": [
    "list(map(len, lst))"
   ]
  },
  {
   "cell_type": "code",
   "execution_count": 14,
   "id": "fedd94b7",
   "metadata": {},
   "outputs": [
    {
     "data": {
      "text/plain": [
       "['varuaG', 'veejaR', 'lanaS', 'vahbiaV']"
      ]
     },
     "execution_count": 14,
     "metadata": {},
     "output_type": "execute_result"
    }
   ],
   "source": [
    "list(map(lambda a : a[::-1] ,lst))"
   ]
  },
  {
   "cell_type": "markdown",
   "id": "488ccf55",
   "metadata": {},
   "source": [
    "# Reduce"
   ]
  },
  {
   "cell_type": "code",
   "execution_count": 17,
   "id": "3c5da737",
   "metadata": {},
   "outputs": [],
   "source": [
    "l = [2,3,2,1,4]"
   ]
  },
  {
   "cell_type": "code",
   "execution_count": 19,
   "id": "41e97f68-863c-4705-a385-e0dad1e3c326",
   "metadata": {},
   "outputs": [
    {
     "data": {
      "text/plain": [
       "12"
      ]
     },
     "execution_count": 19,
     "metadata": {},
     "output_type": "execute_result"
    }
   ],
   "source": [
    "sum(l)"
   ]
  },
  {
   "cell_type": "code",
   "execution_count": 20,
   "id": "63f48bdb-faff-4492-a8d8-40d7ea4475a6",
   "metadata": {},
   "outputs": [
    {
     "data": {
      "text/plain": [
       "1"
      ]
     },
     "execution_count": 20,
     "metadata": {},
     "output_type": "execute_result"
    }
   ],
   "source": [
    "min(l)"
   ]
  },
  {
   "cell_type": "code",
   "execution_count": 21,
   "id": "d8afcec0-eafa-4ccb-83a9-b40e58dd0595",
   "metadata": {},
   "outputs": [],
   "source": [
    "from functools import reduce"
   ]
  },
  {
   "cell_type": "code",
   "execution_count": 24,
   "id": "e6720015-940d-4b27-a0af-b93b89478a1b",
   "metadata": {},
   "outputs": [
    {
     "data": {
      "text/plain": [
       "48"
      ]
     },
     "execution_count": 24,
     "metadata": {},
     "output_type": "execute_result"
    }
   ],
   "source": [
    "l = [2,3,2,1,4]\n",
    "reduce(lambda a,b :a*b , l)"
   ]
  },
  {
   "cell_type": "code",
   "execution_count": 25,
   "id": "7084f25e",
   "metadata": {},
   "outputs": [
    {
     "data": {
      "text/plain": [
       "[2, 3, 2, 1, 4]"
      ]
     },
     "execution_count": 25,
     "metadata": {},
     "output_type": "execute_result"
    }
   ],
   "source": [
    "l"
   ]
  },
  {
   "cell_type": "code",
   "execution_count": 26,
   "id": "870f760f-6368-432d-9eaf-dc5ed7a811ad",
   "metadata": {},
   "outputs": [],
   "source": [
    "l = [2, 3, 2, 1, 4, 9]"
   ]
  },
  {
   "cell_type": "code",
   "execution_count": 27,
   "id": "9c93b2d0",
   "metadata": {},
   "outputs": [
    {
     "data": {
      "text/plain": [
       "9"
      ]
     },
     "execution_count": 27,
     "metadata": {},
     "output_type": "execute_result"
    }
   ],
   "source": [
    "max(l)"
   ]
  },
  {
   "cell_type": "code",
   "execution_count": 28,
   "id": "1b4f93b1",
   "metadata": {},
   "outputs": [
    {
     "data": {
      "text/plain": [
       "[2, 3, 2, 1, 4, 9]"
      ]
     },
     "execution_count": 28,
     "metadata": {},
     "output_type": "execute_result"
    }
   ],
   "source": [
    "l"
   ]
  },
  {
   "cell_type": "code",
   "execution_count": 29,
   "id": "9d41485a-1f04-441b-9d77-9e06c0bed630",
   "metadata": {},
   "outputs": [
    {
     "data": {
      "text/plain": [
       "9"
      ]
     },
     "execution_count": 29,
     "metadata": {},
     "output_type": "execute_result"
    }
   ],
   "source": [
    "# max value\n",
    "\n",
    "reduce(lambda a,b : a if a>b else b , l)"
   ]
  },
  {
   "cell_type": "code",
   "execution_count": 30,
   "id": "3bbaec31-e433-4b80-a583-a8e1625fe129",
   "metadata": {},
   "outputs": [],
   "source": [
    "n  = 5\n",
    "fact = reduce(lambda a,b :a*b ,range(1,n+1))"
   ]
  },
  {
   "cell_type": "code",
   "execution_count": 31,
   "id": "338080d8-c2ac-4286-afdc-0e68ec2b3a48",
   "metadata": {},
   "outputs": [
    {
     "data": {
      "text/plain": [
       "120"
      ]
     },
     "execution_count": 31,
     "metadata": {},
     "output_type": "execute_result"
    }
   ],
   "source": [
    "fact"
   ]
  },
  {
   "cell_type": "code",
   "execution_count": 32,
   "id": "042c719d-1589-4b37-a56d-f98194af221b",
   "metadata": {},
   "outputs": [],
   "source": [
    "def test(a,b):\n",
    "    return a*b "
   ]
  },
  {
   "cell_type": "code",
   "execution_count": 33,
   "id": "b94adfc5-8c95-440d-9376-e90572146beb",
   "metadata": {},
   "outputs": [],
   "source": [
    "fact1 = reduce(test,range(1,n+1))"
   ]
  },
  {
   "cell_type": "code",
   "execution_count": 34,
   "id": "fc6e38bd-2fe8-4fb6-8a74-0532e00a64d1",
   "metadata": {},
   "outputs": [
    {
     "data": {
      "text/plain": [
       "120"
      ]
     },
     "execution_count": 34,
     "metadata": {},
     "output_type": "execute_result"
    }
   ],
   "source": [
    "fact1"
   ]
  },
  {
   "cell_type": "code",
   "execution_count": 35,
   "id": "09575bf8-507c-4541-b8c5-e217a28a85a7",
   "metadata": {},
   "outputs": [
    {
     "data": {
      "text/plain": [
       "16"
      ]
     },
     "execution_count": 35,
     "metadata": {},
     "output_type": "execute_result"
    }
   ],
   "source": [
    "reduce( lambda a,b : a*b,   [i for i in l if i%2==0])"
   ]
  },
  {
   "cell_type": "code",
   "execution_count": null,
   "id": "82b0f5e4",
   "metadata": {},
   "outputs": [],
   "source": []
  },
  {
   "cell_type": "markdown",
   "id": "de20ed17",
   "metadata": {},
   "source": [
    "# Filter"
   ]
  },
  {
   "cell_type": "code",
   "execution_count": 72,
   "id": "55a1937c-1824-40df-9cd5-ba76508fcff0",
   "metadata": {},
   "outputs": [],
   "source": [
    "l = [3,4,5,6,76,3,32,2,4,5,5,5]"
   ]
  },
  {
   "cell_type": "code",
   "execution_count": 73,
   "id": "dd55aa56-dc72-42c8-8b98-96d8f81590e9",
   "metadata": {},
   "outputs": [
    {
     "data": {
      "text/plain": [
       "[4, 6, 76, 32, 2, 4]"
      ]
     },
     "execution_count": 73,
     "metadata": {},
     "output_type": "execute_result"
    }
   ],
   "source": [
    "a = list(filter(lambda a : a%2 == 0 , l))\n",
    "a"
   ]
  },
  {
   "cell_type": "code",
   "execution_count": 40,
   "id": "e6aeac7a-fe76-4730-9477-3bced9b5a31d",
   "metadata": {},
   "outputs": [],
   "source": [
    "s = \"SoftCrayons\""
   ]
  },
  {
   "cell_type": "code",
   "execution_count": 41,
   "id": "b419f9d5-5a6c-4e5a-ad74-a812b3514f3c",
   "metadata": {},
   "outputs": [
    {
     "data": {
      "text/plain": [
       "['o', 'f', 't', 'r', 'a', 'y', 'o', 'n', 's']"
      ]
     },
     "execution_count": 41,
     "metadata": {},
     "output_type": "execute_result"
    }
   ],
   "source": [
    "list(filter(lambda a : a.islower() , s ))"
   ]
  },
  {
   "cell_type": "code",
   "execution_count": 42,
   "id": "ca75a148-9b43-4b5f-9058-88886982aa3f",
   "metadata": {},
   "outputs": [],
   "source": [
    "l = [\"Abhay\" , \"gauuri\" ,\"monu\" , \"aditya\"]"
   ]
  },
  {
   "cell_type": "code",
   "execution_count": 46,
   "id": "d0aa7ed9-354c-4401-8593-3fb457666f11",
   "metadata": {},
   "outputs": [
    {
     "data": {
      "text/plain": [
       "['Abhay', 'gauuri', 'aditya']"
      ]
     },
     "execution_count": 46,
     "metadata": {},
     "output_type": "execute_result"
    }
   ],
   "source": [
    "list(filter(lambda a : len(a)>4 , l))"
   ]
  },
  {
   "cell_type": "code",
   "execution_count": 47,
   "id": "291aa686-a56e-4fd0-9551-e3e49be2ebd9",
   "metadata": {},
   "outputs": [
    {
     "data": {
      "text/plain": [
       "['Abhay', 'gauuri', 'monu', 'aditya']"
      ]
     },
     "execution_count": 47,
     "metadata": {},
     "output_type": "execute_result"
    }
   ],
   "source": [
    "l"
   ]
  },
  {
   "cell_type": "code",
   "execution_count": 48,
   "id": "6c413c8b-33e8-47d4-a53d-7b632e16150e",
   "metadata": {},
   "outputs": [
    {
     "data": {
      "text/plain": [
       "['gauuri']"
      ]
     },
     "execution_count": 48,
     "metadata": {},
     "output_type": "execute_result"
    }
   ],
   "source": [
    "list(filter(lambda a : a[0]=='g', l))"
   ]
  },
  {
   "cell_type": "code",
   "execution_count": 49,
   "id": "d2601bbb-7ebb-4db5-b592-34fe71dd1896",
   "metadata": {},
   "outputs": [
    {
     "data": {
      "text/plain": [
       "['asdf', 'Monu']"
      ]
     },
     "execution_count": 49,
     "metadata": {},
     "output_type": "execute_result"
    }
   ],
   "source": [
    "lj=[\"asdf\",\"gaurav\",\"abhay\",\"Monu\"]\n",
    "list(filter(lambda a: len(a)<=4, lj))\n"
   ]
  },
  {
   "cell_type": "code",
   "execution_count": null,
   "id": "c055fe2c-20bc-4e12-851e-3ddf845124eb",
   "metadata": {},
   "outputs": [],
   "source": []
  },
  {
   "cell_type": "code",
   "execution_count": null,
   "id": "07cb603b",
   "metadata": {},
   "outputs": [],
   "source": []
  }
 ],
 "metadata": {
  "kernelspec": {
   "display_name": "Python 3 (ipykernel)",
   "language": "python",
   "name": "python3"
  },
  "language_info": {
   "codemirror_mode": {
    "name": "ipython",
    "version": 3
   },
   "file_extension": ".py",
   "mimetype": "text/x-python",
   "name": "python",
   "nbconvert_exporter": "python",
   "pygments_lexer": "ipython3",
   "version": "3.9.13"
  }
 },
 "nbformat": 4,
 "nbformat_minor": 5
}
