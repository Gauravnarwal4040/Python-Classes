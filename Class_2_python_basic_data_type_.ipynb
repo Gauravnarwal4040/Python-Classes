{
 "cells": [
  {
   "cell_type": "markdown",
   "id": "f517be35",
   "metadata": {},
   "source": [
    "## List - []\n",
    "\n",
    "- Creation: Lists are created using square brackets [ ] and separating elements with commas.     lst =  [4,9,78,'asdf']\n",
    "- Mutable (changeable)\n",
    "- Accessing Elements: Elements in a list can be accessed using index notation, starting from 0. - lst[5]\n",
    "- Modifying Lists: Lists are mutable, so you can change, add, or remove elements.\n",
    "- Slicing: You can slice lists to get sublists [::]\n",
    "- Methods and Operations: Lists have many built-in methods like append(), extend(), insert(), remove(), pop(), count(), etc.\n",
    "\n",
    "\n",
    "\n",
    "### Tuples - ()\n",
    "- Definition: Tuples are ordered, immutable (unchangeable), and can contain elements of different data types.\n",
    "- Creation: Tuples are created using parentheses () and separating elements with commas.\n",
    "- Accessing Elements: Elements in a tuple can be accessed using index notation, starting from 0, similar to lists.  \n",
    "- Immutable Nature: Once created, the elements in a tuple cannot be changed.\n",
    "- Methods and Operations: Tuples have fewer built-in methods compared to lists due to their immutability.\n",
    "\n",
    "\n",
    "### Dictionaries - my_dict = {'name': 'John', 'age': 30, 'city': 'New York'}\n",
    "\n",
    "- Definition: Dictionaries are unordered, mutable (changeable), and indexed collections of key-value pairs.\n",
    "- Creation: Dictionaries are created using curly braces {} and key-value pairs separated by colons\n",
    "- Accessing Elements: Elements in a dictionary are accessed using keys rather than indices. - print(my_dict['name'])\n",
    "- Modifying Elements: You can modify, add, or remove elements in a dictionary.\n",
    "- Methods and Operations: Dictionaries have various built-in methods like keys(), values(), items(), get(), update(), pop(), popitem(), etc.\n",
    "\n",
    "\n",
    "\n",
    "### Sets -  my_set = {1, 2, 3, 'a', 'b', 'c'}\n",
    "- Definition: Sets are unordered, mutable (changeable), and do not allow duplicate elements.\n",
    "- Creation: Sets are created using curly braces {} and separating elements with commas\n",
    "- Adding and Removing Elements: You can add elements using the add() method and remove elements using the remove() or discard() method.\n",
    "- Methods and Operations: Sets have built-in methods like add(), remove(), discard(), clear(), copy(), union(), intersection(), difference(), symmetric_difference(), etc.\n",
    "- Indexing : Not Allowed\n",
    "- Slicing : Not Allowed"
   ]
  },
  {
   "cell_type": "code",
   "execution_count": 1,
   "id": "c126b452-fa1e-434b-9d11-32e293b8d21d",
   "metadata": {
    "id": "c126b452-fa1e-434b-9d11-32e293b8d21d"
   },
   "outputs": [],
   "source": [
    "l = []"
   ]
  },
  {
   "cell_type": "code",
   "execution_count": 2,
   "id": "a6aa828d",
   "metadata": {},
   "outputs": [
    {
     "data": {
      "text/plain": [
       "list"
      ]
     },
     "execution_count": 2,
     "metadata": {},
     "output_type": "execute_result"
    }
   ],
   "source": [
    "type(l)"
   ]
  },
  {
   "cell_type": "code",
   "execution_count": 3,
   "id": "ee3f8688-3349-4583-89b8-c7465630bb72",
   "metadata": {
    "id": "ee3f8688-3349-4583-89b8-c7465630bb72"
   },
   "outputs": [],
   "source": [
    "l1 = [1,2,3,4987654,5, \"Gaurav\" , \"Narwal\" ,345.565, True,[3,4,5,6]]"
   ]
  },
  {
   "cell_type": "code",
   "execution_count": 4,
   "id": "b2428014",
   "metadata": {},
   "outputs": [
    {
     "data": {
      "text/plain": [
       "4"
      ]
     },
     "execution_count": 4,
     "metadata": {},
     "output_type": "execute_result"
    }
   ],
   "source": [
    "l1[9][1]"
   ]
  },
  {
   "cell_type": "code",
   "execution_count": 5,
   "id": "4682dcfa",
   "metadata": {},
   "outputs": [
    {
     "data": {
      "text/plain": [
       "[1, 2, 3, 4987654, 5, 'Gaurav', 'Narwal', 345.565, True, [3, 4, 5, 6]]"
      ]
     },
     "execution_count": 5,
     "metadata": {},
     "output_type": "execute_result"
    }
   ],
   "source": [
    "l1"
   ]
  },
  {
   "cell_type": "code",
   "execution_count": 6,
   "id": "acdb33a4",
   "metadata": {},
   "outputs": [
    {
     "data": {
      "text/plain": [
       "list"
      ]
     },
     "execution_count": 6,
     "metadata": {},
     "output_type": "execute_result"
    }
   ],
   "source": [
    "type(l1[-1])"
   ]
  },
  {
   "cell_type": "code",
   "execution_count": 7,
   "id": "dd93677e",
   "metadata": {},
   "outputs": [
    {
     "data": {
      "text/plain": [
       "2"
      ]
     },
     "execution_count": 7,
     "metadata": {},
     "output_type": "execute_result"
    }
   ],
   "source": [
    "l1[1]"
   ]
  },
  {
   "cell_type": "code",
   "execution_count": 8,
   "id": "271e98ac-c358-4c21-99bd-eee4018b88b5",
   "metadata": {
    "id": "271e98ac-c358-4c21-99bd-eee4018b88b5",
    "outputId": "416a47d7-b91f-4f22-dd3e-e4a808f2f503"
   },
   "outputs": [
    {
     "data": {
      "text/plain": [
       "list"
      ]
     },
     "execution_count": 8,
     "metadata": {},
     "output_type": "execute_result"
    }
   ],
   "source": [
    "type(l1)"
   ]
  },
  {
   "cell_type": "code",
   "execution_count": 9,
   "id": "d635c357",
   "metadata": {},
   "outputs": [
    {
     "data": {
      "text/plain": [
       "[2, 3, 4987654, 5, 'Gaurav']"
      ]
     },
     "execution_count": 9,
     "metadata": {},
     "output_type": "execute_result"
    }
   ],
   "source": [
    "l1[1:6]"
   ]
  },
  {
   "cell_type": "code",
   "execution_count": 10,
   "id": "8d1f3274",
   "metadata": {},
   "outputs": [
    {
     "data": {
      "text/plain": [
       "[1, 2, 3, 4987654, 5, 'Gaurav', 'Narwal', 345.565, True, [3, 4, 5, 6]]"
      ]
     },
     "execution_count": 10,
     "metadata": {},
     "output_type": "execute_result"
    }
   ],
   "source": [
    "l1"
   ]
  },
  {
   "cell_type": "code",
   "execution_count": 11,
   "id": "f3adbbea-806b-41ab-8a10-48f11946a052",
   "metadata": {
    "id": "f3adbbea-806b-41ab-8a10-48f11946a052",
    "outputId": "f28feb18-7f53-400a-c7a3-ed997e764150"
   },
   "outputs": [
    {
     "data": {
      "text/plain": [
       "'Narwal'"
      ]
     },
     "execution_count": 11,
     "metadata": {},
     "output_type": "execute_result"
    }
   ],
   "source": [
    "a = l1[6]\n",
    "a"
   ]
  },
  {
   "cell_type": "code",
   "execution_count": 12,
   "id": "710455bb",
   "metadata": {},
   "outputs": [
    {
     "data": {
      "text/plain": [
       "str"
      ]
     },
     "execution_count": 12,
     "metadata": {},
     "output_type": "execute_result"
    }
   ],
   "source": [
    "type(a)"
   ]
  },
  {
   "cell_type": "code",
   "execution_count": 13,
   "id": "93a9ea06",
   "metadata": {},
   "outputs": [
    {
     "data": {
      "text/plain": [
       "'w'"
      ]
     },
     "execution_count": 13,
     "metadata": {},
     "output_type": "execute_result"
    }
   ],
   "source": [
    "a[3]"
   ]
  },
  {
   "cell_type": "code",
   "execution_count": 14,
   "id": "549a91e3-be41-470d-9e9a-7690f4b92963",
   "metadata": {
    "id": "549a91e3-be41-470d-9e9a-7690f4b92963",
    "outputId": "ee128b98-c9e1-4e56-9968-3abf236a14d7"
   },
   "outputs": [
    {
     "data": {
      "text/plain": [
       "[3, 4, 5, 6]"
      ]
     },
     "execution_count": 14,
     "metadata": {},
     "output_type": "execute_result"
    }
   ],
   "source": [
    "a = l1[-1]\n",
    "a"
   ]
  },
  {
   "cell_type": "code",
   "execution_count": 15,
   "id": "313f446f",
   "metadata": {},
   "outputs": [
    {
     "data": {
      "text/plain": [
       "5"
      ]
     },
     "execution_count": 15,
     "metadata": {},
     "output_type": "execute_result"
    }
   ],
   "source": [
    "a[2]"
   ]
  },
  {
   "cell_type": "code",
   "execution_count": 16,
   "id": "958501cb",
   "metadata": {},
   "outputs": [
    {
     "data": {
      "text/plain": [
       "6"
      ]
     },
     "execution_count": 16,
     "metadata": {},
     "output_type": "execute_result"
    }
   ],
   "source": [
    "l1[-1][3]"
   ]
  },
  {
   "cell_type": "code",
   "execution_count": 17,
   "id": "f728bdf5-ddf3-465e-bfd5-40be2fa084c0",
   "metadata": {
    "id": "f728bdf5-ddf3-465e-bfd5-40be2fa084c0",
    "outputId": "ccfcbf78-0ff2-42ae-e3e5-d7d95169ddaa"
   },
   "outputs": [
    {
     "data": {
      "text/plain": [
       "[1, 2, 3, 4987654, 5]"
      ]
     },
     "execution_count": 17,
     "metadata": {},
     "output_type": "execute_result"
    }
   ],
   "source": [
    "l1[0:5]"
   ]
  },
  {
   "cell_type": "code",
   "execution_count": 18,
   "id": "e633c3c5",
   "metadata": {},
   "outputs": [
    {
     "data": {
      "text/plain": [
       "[1, 2, 3, 4987654, 5, 'Gaurav', 'Narwal', 345.565, True, [3, 4, 5, 6]]"
      ]
     },
     "execution_count": 18,
     "metadata": {},
     "output_type": "execute_result"
    }
   ],
   "source": [
    "l1"
   ]
  },
  {
   "cell_type": "code",
   "execution_count": 19,
   "id": "488a77ef-c5b7-4d0c-8ecf-6e1d974bbed7",
   "metadata": {
    "id": "488a77ef-c5b7-4d0c-8ecf-6e1d974bbed7",
    "outputId": "70f546a9-b34c-4b07-b303-d3817db48450"
   },
   "outputs": [
    {
     "ename": "TypeError",
     "evalue": "can only concatenate list (not \"str\") to list",
     "output_type": "error",
     "traceback": [
      "\u001b[1;31m---------------------------------------------------------------------------\u001b[0m",
      "\u001b[1;31mTypeError\u001b[0m                                 Traceback (most recent call last)",
      "\u001b[1;32m~\\AppData\\Local\\Temp\\ipykernel_10212\\2416971638.py\u001b[0m in \u001b[0;36m<module>\u001b[1;34m\u001b[0m\n\u001b[1;32m----> 1\u001b[1;33m \u001b[0ml1\u001b[0m \u001b[1;33m+\u001b[0m \u001b[1;34m'Monu'\u001b[0m\u001b[1;33m\u001b[0m\u001b[1;33m\u001b[0m\u001b[0m\n\u001b[0m",
      "\u001b[1;31mTypeError\u001b[0m: can only concatenate list (not \"str\") to list"
     ]
    }
   ],
   "source": [
    "l1 + 'Monu'"
   ]
  },
  {
   "cell_type": "code",
   "execution_count": null,
   "id": "8c7ca841",
   "metadata": {},
   "outputs": [],
   "source": [
    "l1+ ['Monu']"
   ]
  },
  {
   "cell_type": "code",
   "execution_count": null,
   "id": "ae96cba7",
   "metadata": {
    "scrolled": true
   },
   "outputs": [],
   "source": [
    "[\"abhay\"]"
   ]
  },
  {
   "cell_type": "code",
   "execution_count": null,
   "id": "b1356f60-7734-4bcd-bf86-41e0072c7ea9",
   "metadata": {
    "id": "b1356f60-7734-4bcd-bf86-41e0072c7ea9",
    "outputId": "66e1c3be-3d6c-424b-b472-f5cf4b4ea7ad"
   },
   "outputs": [],
   "source": [
    "list(\"abhay\")"
   ]
  },
  {
   "cell_type": "code",
   "execution_count": 20,
   "id": "cab458eb-0049-4b3c-95b6-d64f3b5a7c5c",
   "metadata": {
    "id": "cab458eb-0049-4b3c-95b6-d64f3b5a7c5c",
    "outputId": "6df0c1cf-a916-4216-d184-f2e7e6db1acf"
   },
   "outputs": [
    {
     "ename": "TypeError",
     "evalue": "'int' object is not iterable",
     "output_type": "error",
     "traceback": [
      "\u001b[1;31m---------------------------------------------------------------------------\u001b[0m",
      "\u001b[1;31mTypeError\u001b[0m                                 Traceback (most recent call last)",
      "\u001b[1;32m~\\AppData\\Local\\Temp\\ipykernel_10212\\3829354186.py\u001b[0m in \u001b[0;36m<module>\u001b[1;34m\u001b[0m\n\u001b[1;32m----> 1\u001b[1;33m \u001b[0mlist\u001b[0m\u001b[1;33m(\u001b[0m\u001b[1;36m345\u001b[0m\u001b[1;33m)\u001b[0m\u001b[1;33m\u001b[0m\u001b[1;33m\u001b[0m\u001b[0m\n\u001b[0m",
      "\u001b[1;31mTypeError\u001b[0m: 'int' object is not iterable"
     ]
    }
   ],
   "source": [
    "list(345)"
   ]
  },
  {
   "cell_type": "code",
   "execution_count": 21,
   "id": "7057a6e0-1fd9-4d66-98ee-e3402036db13",
   "metadata": {
    "id": "7057a6e0-1fd9-4d66-98ee-e3402036db13"
   },
   "outputs": [],
   "source": [
    "l2 = [3,4,5,\"Softcrayons\",\"monu\"]"
   ]
  },
  {
   "cell_type": "code",
   "execution_count": 22,
   "id": "780d34e1-07b3-46ce-ac95-3d6914c25ef5",
   "metadata": {
    "id": "780d34e1-07b3-46ce-ac95-3d6914c25ef5",
    "outputId": "2f6f481a-d197-49d1-c7a6-c8af42c5524b"
   },
   "outputs": [
    {
     "data": {
      "text/plain": [
       "[3, 4, 5, 'Softcrayons', 'monu']"
      ]
     },
     "execution_count": 22,
     "metadata": {},
     "output_type": "execute_result"
    }
   ],
   "source": [
    "l2"
   ]
  },
  {
   "cell_type": "code",
   "execution_count": 23,
   "id": "ee92bbd1-b5d3-4833-b470-1cf0baa70ce1",
   "metadata": {
    "id": "ee92bbd1-b5d3-4833-b470-1cf0baa70ce1",
    "outputId": "f355db56-e97c-4755-89d1-9da0635f4c1f"
   },
   "outputs": [
    {
     "data": {
      "text/plain": [
       "[3,\n",
       " 4,\n",
       " 5,\n",
       " 'Softcrayons',\n",
       " 'monu',\n",
       " 3,\n",
       " 4,\n",
       " 5,\n",
       " 'Softcrayons',\n",
       " 'monu',\n",
       " 3,\n",
       " 4,\n",
       " 5,\n",
       " 'Softcrayons',\n",
       " 'monu']"
      ]
     },
     "execution_count": 23,
     "metadata": {},
     "output_type": "execute_result"
    }
   ],
   "source": [
    "l2*3"
   ]
  },
  {
   "cell_type": "code",
   "execution_count": 24,
   "id": "c6e7644b-17b2-4514-82cc-d3f7d02eb681",
   "metadata": {
    "id": "c6e7644b-17b2-4514-82cc-d3f7d02eb681",
    "outputId": "56d24a12-2a6b-4a16-ab0d-8383dd91e28f"
   },
   "outputs": [
    {
     "data": {
      "text/plain": [
       "[3, 4, 5, 'Softcrayons', 'monu']"
      ]
     },
     "execution_count": 24,
     "metadata": {},
     "output_type": "execute_result"
    }
   ],
   "source": [
    "l2"
   ]
  },
  {
   "cell_type": "code",
   "execution_count": 25,
   "id": "3ffebcb7-63f9-429f-97c6-5b5aa7e325e0",
   "metadata": {
    "id": "3ffebcb7-63f9-429f-97c6-5b5aa7e325e0"
   },
   "outputs": [],
   "source": [
    "l2[1] = 'VINAY'"
   ]
  },
  {
   "cell_type": "code",
   "execution_count": 26,
   "id": "e93b8fbd-0758-4222-a0b0-7eb8ce26d8c3",
   "metadata": {
    "id": "e93b8fbd-0758-4222-a0b0-7eb8ce26d8c3",
    "outputId": "1869ced2-be13-4dda-86b2-126a76c98e46"
   },
   "outputs": [
    {
     "data": {
      "text/plain": [
       "[3, 'VINAY', 5, 'Softcrayons', 'monu']"
      ]
     },
     "execution_count": 26,
     "metadata": {},
     "output_type": "execute_result"
    }
   ],
   "source": [
    "l2"
   ]
  },
  {
   "cell_type": "markdown",
   "id": "40b2f87e",
   "metadata": {},
   "source": [
    "## Tuples"
   ]
  },
  {
   "cell_type": "code",
   "execution_count": 49,
   "id": "2da2a7fc",
   "metadata": {},
   "outputs": [],
   "source": [
    "t = ()"
   ]
  },
  {
   "cell_type": "code",
   "execution_count": 50,
   "id": "48d69068-551f-4d4b-8da2-71d2aa0b96c3",
   "metadata": {
    "id": "48d69068-551f-4d4b-8da2-71d2aa0b96c3",
    "outputId": "e518b8e6-e34f-44b9-b132-4878a4577b4b"
   },
   "outputs": [
    {
     "data": {
      "text/plain": [
       "tuple"
      ]
     },
     "execution_count": 50,
     "metadata": {},
     "output_type": "execute_result"
    }
   ],
   "source": [
    "type(t)"
   ]
  },
  {
   "cell_type": "code",
   "execution_count": 51,
   "id": "07c29dbc-e3c7-4e66-b44c-20a5d6e6a2c5",
   "metadata": {
    "id": "07c29dbc-e3c7-4e66-b44c-20a5d6e6a2c5"
   },
   "outputs": [],
   "source": [
    "t = (1,2,3,4,\"asdf\" , \"Softcrayons\" , True)"
   ]
  },
  {
   "cell_type": "code",
   "execution_count": 52,
   "id": "cbd2f846",
   "metadata": {},
   "outputs": [
    {
     "data": {
      "text/plain": [
       "'Softcrayons'"
      ]
     },
     "execution_count": 52,
     "metadata": {},
     "output_type": "execute_result"
    }
   ],
   "source": [
    "t[-2]"
   ]
  },
  {
   "cell_type": "code",
   "execution_count": 53,
   "id": "58b1d27e",
   "metadata": {},
   "outputs": [
    {
     "data": {
      "text/plain": [
       "(1, 2, 3, 4, 'asdf', 'Softcrayons', True)"
      ]
     },
     "execution_count": 53,
     "metadata": {},
     "output_type": "execute_result"
    }
   ],
   "source": [
    "t"
   ]
  },
  {
   "cell_type": "code",
   "execution_count": 55,
   "id": "067016f7-7e15-4f74-a3af-98bf09c1f463",
   "metadata": {
    "id": "067016f7-7e15-4f74-a3af-98bf09c1f463",
    "outputId": "cd55a692-da22-4bb4-d0e0-f7759effc54e"
   },
   "outputs": [
    {
     "ename": "TypeError",
     "evalue": "'tuple' object does not support item assignment",
     "output_type": "error",
     "traceback": [
      "\u001b[1;31m---------------------------------------------------------------------------\u001b[0m",
      "\u001b[1;31mTypeError\u001b[0m                                 Traceback (most recent call last)",
      "\u001b[1;32m~\\AppData\\Local\\Temp\\ipykernel_20180\\2073871944.py\u001b[0m in \u001b[0;36m<module>\u001b[1;34m\u001b[0m\n\u001b[1;32m----> 1\u001b[1;33m \u001b[0mt\u001b[0m\u001b[1;33m[\u001b[0m\u001b[1;36m0\u001b[0m\u001b[1;33m]\u001b[0m \u001b[1;33m=\u001b[0m \u001b[1;34m\"Softcrayons\"\u001b[0m\u001b[1;33m\u001b[0m\u001b[1;33m\u001b[0m\u001b[0m\n\u001b[0m",
      "\u001b[1;31mTypeError\u001b[0m: 'tuple' object does not support item assignment"
     ]
    }
   ],
   "source": [
    "t[0] = \"Softcrayons\""
   ]
  },
  {
   "cell_type": "code",
   "execution_count": 56,
   "id": "cea12fc2-d9ae-4046-bcc0-32c02baa420e",
   "metadata": {
    "id": "cea12fc2-d9ae-4046-bcc0-32c02baa420e"
   },
   "outputs": [],
   "source": [
    "t1 = (5,6,7,8,9,[4,6,7])"
   ]
  },
  {
   "cell_type": "code",
   "execution_count": 57,
   "id": "51f63141-9669-4146-93fa-ca9a4159dfae",
   "metadata": {
    "id": "51f63141-9669-4146-93fa-ca9a4159dfae",
    "outputId": "428eb45c-3cba-4dbe-90ad-7ca2e0f3eaff"
   },
   "outputs": [
    {
     "data": {
      "text/plain": [
       "(5, 6, 7, 8, 9, [4, 6, 7])"
      ]
     },
     "execution_count": 57,
     "metadata": {},
     "output_type": "execute_result"
    }
   ],
   "source": [
    "t1"
   ]
  },
  {
   "cell_type": "code",
   "execution_count": 58,
   "id": "f3db477b-64b4-46fe-8e77-4876097eb77f",
   "metadata": {
    "id": "f3db477b-64b4-46fe-8e77-4876097eb77f",
    "outputId": "784d56d4-b869-41ff-e47a-a4125c542c53"
   },
   "outputs": [
    {
     "data": {
      "text/plain": [
       "(1, 2, 3, 4, 'asdf', 'Softcrayons', True, 5, 6, 7, 8, 9, [4, 6, 7])"
      ]
     },
     "execution_count": 58,
     "metadata": {},
     "output_type": "execute_result"
    }
   ],
   "source": [
    "t+t1"
   ]
  },
  {
   "cell_type": "code",
   "execution_count": 59,
   "id": "3706621d-60de-454b-acde-59eb7b06a807",
   "metadata": {
    "id": "3706621d-60de-454b-acde-59eb7b06a807",
    "outputId": "d8a243b5-b48c-43b1-e7a7-e8497e771f16"
   },
   "outputs": [
    {
     "data": {
      "text/plain": [
       "(1,\n",
       " 2,\n",
       " 3,\n",
       " 4,\n",
       " 'asdf',\n",
       " 'Softcrayons',\n",
       " True,\n",
       " 1,\n",
       " 2,\n",
       " 3,\n",
       " 4,\n",
       " 'asdf',\n",
       " 'Softcrayons',\n",
       " True)"
      ]
     },
     "execution_count": 59,
     "metadata": {},
     "output_type": "execute_result"
    }
   ],
   "source": [
    "t*2"
   ]
  },
  {
   "cell_type": "code",
   "execution_count": 60,
   "id": "b1c91fb2-3b80-410e-ae6c-78bd88518829",
   "metadata": {
    "id": "b1c91fb2-3b80-410e-ae6c-78bd88518829",
    "outputId": "0e5a92e8-f00a-4266-93f6-a787f0952de4",
    "scrolled": true
   },
   "outputs": [
    {
     "data": {
      "text/plain": [
       "(1, 2, 3, 4, 'asdf', 'Softcrayons', True)"
      ]
     },
     "execution_count": 60,
     "metadata": {},
     "output_type": "execute_result"
    }
   ],
   "source": [
    "t"
   ]
  },
  {
   "cell_type": "code",
   "execution_count": 61,
   "id": "f160f51d",
   "metadata": {
    "scrolled": true
   },
   "outputs": [
    {
     "data": {
      "text/plain": [
       "[(1, 2, 3, 4, 'asdf', 'Softcrayons', True)]"
      ]
     },
     "execution_count": 61,
     "metadata": {},
     "output_type": "execute_result"
    }
   ],
   "source": [
    "z = [t]\n",
    "z"
   ]
  },
  {
   "cell_type": "code",
   "execution_count": 62,
   "id": "415f8856",
   "metadata": {},
   "outputs": [
    {
     "data": {
      "text/plain": [
       "[(1, 2, 3, 4, 'asdf', 'Softcrayons', True)]"
      ]
     },
     "execution_count": 62,
     "metadata": {},
     "output_type": "execute_result"
    }
   ],
   "source": [
    "z"
   ]
  },
  {
   "cell_type": "code",
   "execution_count": 63,
   "id": "25571741",
   "metadata": {},
   "outputs": [
    {
     "data": {
      "text/plain": [
       "(1, 2, 3, 4, 'asdf', 'Softcrayons', True)"
      ]
     },
     "execution_count": 63,
     "metadata": {},
     "output_type": "execute_result"
    }
   ],
   "source": [
    "t"
   ]
  },
  {
   "cell_type": "code",
   "execution_count": 64,
   "id": "e0b46925-2a0b-4aa5-8200-790097c712f1",
   "metadata": {
    "id": "e0b46925-2a0b-4aa5-8200-790097c712f1",
    "outputId": "8e395f77-0daa-484c-859f-a3860ad47843"
   },
   "outputs": [
    {
     "data": {
      "text/plain": [
       "[1, 2, 3, 4, 'asdf', 'Softcrayons', True]"
      ]
     },
     "execution_count": 64,
     "metadata": {},
     "output_type": "execute_result"
    }
   ],
   "source": [
    "list(t)"
   ]
  },
  {
   "cell_type": "code",
   "execution_count": 65,
   "id": "0f891a63-5b52-4878-9320-ec49dc1546ae",
   "metadata": {
    "id": "0f891a63-5b52-4878-9320-ec49dc1546ae",
    "outputId": "e303f03b-23b1-4b5b-b009-2cfeb8cf5484"
   },
   "outputs": [
    {
     "data": {
      "text/plain": [
       "['VINAY', 'VINAY', 5, 'Softcrayons', 'monu']"
      ]
     },
     "execution_count": 65,
     "metadata": {},
     "output_type": "execute_result"
    }
   ],
   "source": [
    "l2"
   ]
  },
  {
   "cell_type": "code",
   "execution_count": 66,
   "id": "f15a2034-b9e6-4925-b80f-4f6a3e87d63d",
   "metadata": {
    "id": "f15a2034-b9e6-4925-b80f-4f6a3e87d63d",
    "outputId": "9b85c504-e10d-4a96-a962-e5ddf3d89d6b"
   },
   "outputs": [
    {
     "data": {
      "text/plain": [
       "('VINAY', 'VINAY', 5, 'Softcrayons', 'monu')"
      ]
     },
     "execution_count": 66,
     "metadata": {},
     "output_type": "execute_result"
    }
   ],
   "source": [
    "tuple(l2)"
   ]
  },
  {
   "cell_type": "code",
   "execution_count": 67,
   "id": "96fd128a",
   "metadata": {},
   "outputs": [
    {
     "data": {
      "text/plain": [
       "(1, 2, 3, 4, 'asdf', 'Softcrayons', True)"
      ]
     },
     "execution_count": 67,
     "metadata": {},
     "output_type": "execute_result"
    }
   ],
   "source": [
    "t"
   ]
  },
  {
   "cell_type": "code",
   "execution_count": 68,
   "id": "1005461a-528b-4fe0-87a4-5e87ce574030",
   "metadata": {
    "id": "1005461a-528b-4fe0-87a4-5e87ce574030",
    "outputId": "6703fbe1-355d-43ad-96aa-493c886bf891"
   },
   "outputs": [
    {
     "data": {
      "text/plain": [
       "7"
      ]
     },
     "execution_count": 68,
     "metadata": {},
     "output_type": "execute_result"
    }
   ],
   "source": [
    "len(t)"
   ]
  },
  {
   "cell_type": "code",
   "execution_count": 69,
   "id": "2d96a830-8cf8-4d99-8e1a-e75a6f7b2910",
   "metadata": {
    "id": "2d96a830-8cf8-4d99-8e1a-e75a6f7b2910",
    "outputId": "c642f138-1855-48bd-824b-f266477da707"
   },
   "outputs": [
    {
     "data": {
      "text/plain": [
       "11"
      ]
     },
     "execution_count": 69,
     "metadata": {},
     "output_type": "execute_result"
    }
   ],
   "source": [
    "len(\"Softcrayons\")"
   ]
  },
  {
   "cell_type": "code",
   "execution_count": 70,
   "id": "d4026d9e",
   "metadata": {},
   "outputs": [
    {
     "ename": "TypeError",
     "evalue": "object of type 'int' has no len()",
     "output_type": "error",
     "traceback": [
      "\u001b[1;31m---------------------------------------------------------------------------\u001b[0m",
      "\u001b[1;31mTypeError\u001b[0m                                 Traceback (most recent call last)",
      "\u001b[1;32m~\\AppData\\Local\\Temp\\ipykernel_20180\\523114926.py\u001b[0m in \u001b[0;36m<module>\u001b[1;34m\u001b[0m\n\u001b[1;32m----> 1\u001b[1;33m \u001b[0mlen\u001b[0m\u001b[1;33m(\u001b[0m\u001b[1;36m8654321\u001b[0m\u001b[1;33m)\u001b[0m\u001b[1;33m\u001b[0m\u001b[1;33m\u001b[0m\u001b[0m\n\u001b[0m",
      "\u001b[1;31mTypeError\u001b[0m: object of type 'int' has no len()"
     ]
    }
   ],
   "source": [
    "len(8654321)"
   ]
  },
  {
   "cell_type": "code",
   "execution_count": 71,
   "id": "8e73597f-c1ed-4d35-b738-4fb895c942bc",
   "metadata": {
    "id": "8e73597f-c1ed-4d35-b738-4fb895c942bc",
    "outputId": "e831245c-7803-49a9-e32f-6f847932c815"
   },
   "outputs": [
    {
     "data": {
      "text/plain": [
       "[1, 2, 3, 4987654, 5, 'Gaurav', 'Narwal', 345.565, True, [3, 4, 5, 6]]"
      ]
     },
     "execution_count": 71,
     "metadata": {},
     "output_type": "execute_result"
    }
   ],
   "source": [
    "l1"
   ]
  },
  {
   "cell_type": "code",
   "execution_count": 72,
   "id": "512b5a57-5b57-47b8-a907-809b3c1ebd31",
   "metadata": {
    "id": "512b5a57-5b57-47b8-a907-809b3c1ebd31",
    "outputId": "a0c939c4-d189-47f2-fc5b-b71b1b95c304"
   },
   "outputs": [
    {
     "data": {
      "text/plain": [
       "10"
      ]
     },
     "execution_count": 72,
     "metadata": {},
     "output_type": "execute_result"
    }
   ],
   "source": [
    "len(l1)"
   ]
  },
  {
   "cell_type": "code",
   "execution_count": 73,
   "id": "674573da",
   "metadata": {},
   "outputs": [
    {
     "data": {
      "text/plain": [
       "(9, 5, 7, 6, 4, 1)"
      ]
     },
     "execution_count": 73,
     "metadata": {},
     "output_type": "execute_result"
    }
   ],
   "source": [
    "t = (9,5,7,6,4,1)\n",
    "t"
   ]
  },
  {
   "cell_type": "markdown",
   "id": "34ec9ea0",
   "metadata": {},
   "source": [
    "## Sets"
   ]
  },
  {
   "cell_type": "code",
   "execution_count": 28,
   "id": "cd08dd09-9304-41a8-b43c-f5f25e3e0168",
   "metadata": {
    "id": "cd08dd09-9304-41a8-b43c-f5f25e3e0168"
   },
   "outputs": [],
   "source": [
    "s = {}"
   ]
  },
  {
   "cell_type": "code",
   "execution_count": 29,
   "id": "831dd68b",
   "metadata": {
    "scrolled": true
   },
   "outputs": [
    {
     "data": {
      "text/plain": [
       "{}"
      ]
     },
     "execution_count": 29,
     "metadata": {},
     "output_type": "execute_result"
    }
   ],
   "source": [
    "s"
   ]
  },
  {
   "cell_type": "code",
   "execution_count": 30,
   "id": "190694a2-a9e7-48a8-9968-686cd7421993",
   "metadata": {
    "id": "190694a2-a9e7-48a8-9968-686cd7421993",
    "outputId": "48f3445a-83dd-40a6-ce40-696c8e1b3479"
   },
   "outputs": [
    {
     "data": {
      "text/plain": [
       "dict"
      ]
     },
     "execution_count": 30,
     "metadata": {},
     "output_type": "execute_result"
    }
   ],
   "source": [
    "type(s)"
   ]
  },
  {
   "cell_type": "code",
   "execution_count": 31,
   "id": "3ccd0c85-0a85-425a-bf1f-c18cea395a8a",
   "metadata": {
    "id": "3ccd0c85-0a85-425a-bf1f-c18cea395a8a"
   },
   "outputs": [
    {
     "data": {
      "text/plain": [
       "{1, 2, 3, 4, 5, 8, 9}"
      ]
     },
     "execution_count": 31,
     "metadata": {},
     "output_type": "execute_result"
    }
   ],
   "source": [
    "s1 = {9,8,1,2,3,4,5,5}\n",
    "s1"
   ]
  },
  {
   "cell_type": "code",
   "execution_count": 32,
   "id": "b455a787-a32c-4f4a-b06e-5806e7841c4a",
   "metadata": {
    "id": "b455a787-a32c-4f4a-b06e-5806e7841c4a",
    "outputId": "c9c9ebf2-a060-4688-f32e-04d59daaef5a"
   },
   "outputs": [
    {
     "data": {
      "text/plain": [
       "set"
      ]
     },
     "execution_count": 32,
     "metadata": {},
     "output_type": "execute_result"
    }
   ],
   "source": [
    "type(s1)"
   ]
  },
  {
   "cell_type": "code",
   "execution_count": 33,
   "id": "fcc8c50b-23c4-474b-970a-baf33b45a799",
   "metadata": {
    "id": "fcc8c50b-23c4-474b-970a-baf33b45a799",
    "outputId": "092abffa-c32e-4f1d-9a0a-c89dd5df8131"
   },
   "outputs": [
    {
     "data": {
      "text/plain": [
       "{1, 2, 3, 4, 5, 8, 9}"
      ]
     },
     "execution_count": 33,
     "metadata": {},
     "output_type": "execute_result"
    }
   ],
   "source": [
    "s1"
   ]
  },
  {
   "cell_type": "code",
   "execution_count": 34,
   "id": "dfa75c24-67c0-4cb3-8d0a-8f6aa08757ad",
   "metadata": {
    "id": "dfa75c24-67c0-4cb3-8d0a-8f6aa08757ad"
   },
   "outputs": [],
   "source": [
    "s2 = { \"Vinay\" , \"Vinay\" , \"vaibhav\" ,\"1\",3,\"9.5\",2,\"4\",8}"
   ]
  },
  {
   "cell_type": "code",
   "execution_count": 35,
   "id": "3e1cd8b5-80c2-42fc-9984-cd51faea0ed9",
   "metadata": {
    "colab": {
     "base_uri": "https://localhost:8080/"
    },
    "id": "3e1cd8b5-80c2-42fc-9984-cd51faea0ed9",
    "outputId": "d2551aed-0c6a-4c0f-e66b-82dcf7d8e874"
   },
   "outputs": [
    {
     "data": {
      "text/plain": [
       "{'1', 2, 3, '4', 8, '9.5', 'Vinay', 'vaibhav'}"
      ]
     },
     "execution_count": 35,
     "metadata": {},
     "output_type": "execute_result"
    }
   ],
   "source": [
    "s2"
   ]
  },
  {
   "cell_type": "code",
   "execution_count": 36,
   "id": "1359b6b8",
   "metadata": {},
   "outputs": [
    {
     "ename": "TypeError",
     "evalue": "'set' object is not subscriptable",
     "output_type": "error",
     "traceback": [
      "\u001b[1;31m---------------------------------------------------------------------------\u001b[0m",
      "\u001b[1;31mTypeError\u001b[0m                                 Traceback (most recent call last)",
      "\u001b[1;32m~\\AppData\\Local\\Temp\\ipykernel_10212\\278052169.py\u001b[0m in \u001b[0;36m<module>\u001b[1;34m\u001b[0m\n\u001b[1;32m----> 1\u001b[1;33m \u001b[0ms2\u001b[0m\u001b[1;33m[\u001b[0m\u001b[1;33m-\u001b[0m\u001b[1;36m2\u001b[0m\u001b[1;33m]\u001b[0m\u001b[1;33m\u001b[0m\u001b[1;33m\u001b[0m\u001b[0m\n\u001b[0m",
      "\u001b[1;31mTypeError\u001b[0m: 'set' object is not subscriptable"
     ]
    }
   ],
   "source": [
    "s2[-2]"
   ]
  },
  {
   "cell_type": "code",
   "execution_count": 38,
   "id": "5f83779e-d870-4338-98fc-4900d5562df9",
   "metadata": {
    "id": "5f83779e-d870-4338-98fc-4900d5562df9",
    "outputId": "91d5be97-68e6-487b-b5b4-1e6f0c9d94aa"
   },
   "outputs": [
    {
     "data": {
      "text/plain": [
       "[2, '9.5', 3, 'Vinay', '4', 'vaibhav', 8, '1']"
      ]
     },
     "execution_count": 38,
     "metadata": {},
     "output_type": "execute_result"
    }
   ],
   "source": [
    "list(s2)"
   ]
  },
  {
   "cell_type": "code",
   "execution_count": 39,
   "id": "caa7525f",
   "metadata": {},
   "outputs": [
    {
     "data": {
      "text/plain": [
       "[3, 'VINAY', 5, 'Softcrayons', 'monu']"
      ]
     },
     "execution_count": 39,
     "metadata": {},
     "output_type": "execute_result"
    }
   ],
   "source": [
    "l2"
   ]
  },
  {
   "cell_type": "code",
   "execution_count": 40,
   "id": "2f1ed5f9-63a7-40a2-8c58-b7c9a6fd9ada",
   "metadata": {
    "id": "2f1ed5f9-63a7-40a2-8c58-b7c9a6fd9ada",
    "outputId": "c5c233ed-87d5-42b9-9bd0-e58593172ec0"
   },
   "outputs": [
    {
     "data": {
      "text/plain": [
       "{3, 5, 'Softcrayons', 'VINAY', 'monu'}"
      ]
     },
     "execution_count": 40,
     "metadata": {},
     "output_type": "execute_result"
    }
   ],
   "source": [
    "set(l2)"
   ]
  },
  {
   "cell_type": "code",
   "execution_count": 41,
   "id": "5fec1515-13f3-445c-9311-7c3de7b51806",
   "metadata": {
    "id": "5fec1515-13f3-445c-9311-7c3de7b51806",
    "outputId": "1c55b306-ce2f-4090-f55b-acb9c8bf891e"
   },
   "outputs": [
    {
     "data": {
      "text/plain": [
       "[1, 2, 3, 4987654, 5, 'Gaurav', 'Narwal', 345.565, True, [3, 4, 5, 6]]"
      ]
     },
     "execution_count": 41,
     "metadata": {},
     "output_type": "execute_result"
    }
   ],
   "source": [
    "l1"
   ]
  },
  {
   "cell_type": "code",
   "execution_count": 87,
   "id": "08eef51c",
   "metadata": {},
   "outputs": [
    {
     "data": {
      "text/plain": [
       "{'1', 2, 3, '4', 8, '9.5', 'Vinay', 'vaibhav'}"
      ]
     },
     "execution_count": 87,
     "metadata": {},
     "output_type": "execute_result"
    }
   ],
   "source": [
    "s2"
   ]
  },
  {
   "cell_type": "code",
   "execution_count": 42,
   "id": "6118a984-a794-4e0f-9800-1403a035e8a4",
   "metadata": {
    "id": "6118a984-a794-4e0f-9800-1403a035e8a4",
    "outputId": "911bd974-d68a-4dd7-d13c-8d1e6cadc4c1"
   },
   "outputs": [
    {
     "ename": "TypeError",
     "evalue": "'set' object is not subscriptable",
     "output_type": "error",
     "traceback": [
      "\u001b[1;31m---------------------------------------------------------------------------\u001b[0m",
      "\u001b[1;31mTypeError\u001b[0m                                 Traceback (most recent call last)",
      "\u001b[1;32m~\\AppData\\Local\\Temp\\ipykernel_10212\\430558470.py\u001b[0m in \u001b[0;36m<module>\u001b[1;34m\u001b[0m\n\u001b[1;32m----> 1\u001b[1;33m \u001b[0ms2\u001b[0m\u001b[1;33m[\u001b[0m\u001b[1;36m2\u001b[0m\u001b[1;33m:\u001b[0m\u001b[1;36m6\u001b[0m\u001b[1;33m]\u001b[0m\u001b[1;33m\u001b[0m\u001b[1;33m\u001b[0m\u001b[0m\n\u001b[0m",
      "\u001b[1;31mTypeError\u001b[0m: 'set' object is not subscriptable"
     ]
    }
   ],
   "source": [
    "s2[2:6]"
   ]
  },
  {
   "cell_type": "code",
   "execution_count": 43,
   "id": "7d67a2dc-fe01-4e04-ab90-969c216dc317",
   "metadata": {
    "id": "7d67a2dc-fe01-4e04-ab90-969c216dc317"
   },
   "outputs": [],
   "source": [
    "s3 = {345,456456,23,12,34,56,78,12,12,34,34,56,56,\"abhay\" , 234.56}"
   ]
  },
  {
   "cell_type": "markdown",
   "id": "0a03cd5d",
   "metadata": {},
   "source": [
    "# Dict"
   ]
  },
  {
   "cell_type": "code",
   "execution_count": 44,
   "id": "5434d010-b1e3-4e33-b40b-bb9f602a274b",
   "metadata": {
    "id": "5434d010-b1e3-4e33-b40b-bb9f602a274b"
   },
   "outputs": [],
   "source": [
    "d= {}"
   ]
  },
  {
   "cell_type": "code",
   "execution_count": 46,
   "id": "e9532bc0-783f-4708-aeb8-32bc3070e0fe",
   "metadata": {
    "id": "e9532bc0-783f-4708-aeb8-32bc3070e0fe",
    "outputId": "669bae2b-bdbf-49ea-ed98-fb93bb7e458b"
   },
   "outputs": [
    {
     "data": {
      "text/plain": [
       "dict"
      ]
     },
     "execution_count": 46,
     "metadata": {},
     "output_type": "execute_result"
    }
   ],
   "source": [
    "type(d)"
   ]
  },
  {
   "cell_type": "code",
   "execution_count": 48,
   "id": "4b1d11f0-4650-4f40-bbd5-8012bf983fc7",
   "metadata": {
    "id": "4b1d11f0-4650-4f40-bbd5-8012bf983fc7"
   },
   "outputs": [],
   "source": [
    "d1 = {'name' : \"Gaurav\" ,\"subject\" :[\"data science \" , \"big data \" , \"data analytics\"] , \"number\" :43242424}"
   ]
  },
  {
   "cell_type": "code",
   "execution_count": 49,
   "id": "f9d9c8d3-d703-4097-80bc-d75187800d47",
   "metadata": {
    "id": "f9d9c8d3-d703-4097-80bc-d75187800d47",
    "outputId": "357bfe85-c5e6-4fd2-e795-249a5e914db8"
   },
   "outputs": [
    {
     "data": {
      "text/plain": [
       "{'name': 'Gaurav',\n",
       " 'subject': ['data science ', 'big data ', 'data analytics'],\n",
       " 'number': 43242424}"
      ]
     },
     "execution_count": 49,
     "metadata": {},
     "output_type": "execute_result"
    }
   ],
   "source": [
    "d1"
   ]
  },
  {
   "cell_type": "code",
   "execution_count": 54,
   "id": "cf104226",
   "metadata": {},
   "outputs": [
    {
     "data": {
      "text/plain": [
       "'Gaurav'"
      ]
     },
     "execution_count": 54,
     "metadata": {},
     "output_type": "execute_result"
    }
   ],
   "source": [
    "d1['name']"
   ]
  },
  {
   "cell_type": "code",
   "execution_count": 52,
   "id": "5ce7a346-5fe2-4c3c-89e5-b63c9695fbf7",
   "metadata": {
    "id": "5ce7a346-5fe2-4c3c-89e5-b63c9695fbf7"
   },
   "outputs": [],
   "source": [
    "d2 = {\"name\" :\"Gaurav\" , \"name1\" : \"softcrayons\" }"
   ]
  },
  {
   "cell_type": "code",
   "execution_count": 53,
   "id": "8eef6ad0-a2b1-43b3-97b2-ba88ff29bdae",
   "metadata": {
    "id": "8eef6ad0-a2b1-43b3-97b2-ba88ff29bdae",
    "outputId": "0f4563e3-353d-4e4a-c115-488d1a1215f8"
   },
   "outputs": [
    {
     "data": {
      "text/plain": [
       "{'name': 'Gaurav', 'name1': 'softcrayons'}"
      ]
     },
     "execution_count": 53,
     "metadata": {},
     "output_type": "execute_result"
    }
   ],
   "source": [
    "d2"
   ]
  },
  {
   "cell_type": "code",
   "execution_count": 55,
   "id": "cd2c9ed2-8ddd-4d30-94e6-27102e3d4719",
   "metadata": {
    "id": "cd2c9ed2-8ddd-4d30-94e6-27102e3d4719"
   },
   "outputs": [],
   "source": [
    "d4 = {'course': ['dsa', 'java', 'webdev', 'blockchain', 'cloud'],\n",
    " 'mentor': ('gaurav', 'krishna', 'aditiya', 'vinay', 'sunny '),\n",
    " 'price': {3500, 11000, 15000, 20000},\n",
    " 'duration': 1,\n",
    " 'access year': 1,\n",
    " 'syllabus': {'python': ['core python',\n",
    "   'oops',\n",
    "   'pandas',\n",
    "   'numpy',\n",
    "   'db',\n",
    "   'mongodb'],\n",
    "  'ml': ['supervised', 'unsupervised', 'semisupervised']}}"
   ]
  },
  {
   "cell_type": "code",
   "execution_count": 57,
   "id": "136ee66e-5075-48b6-bc97-44115762d12c",
   "metadata": {
    "id": "136ee66e-5075-48b6-bc97-44115762d12c",
    "outputId": "ea820529-1229-478b-eb9c-77a312e2bafa",
    "scrolled": true
   },
   "outputs": [
    {
     "data": {
      "text/plain": [
       "{'course': ['dsa', 'java', 'webdev', 'blockchain', 'cloud'],\n",
       " 'mentor': ('gaurav', 'krishna', 'aditiya', 'vinay', 'sunny '),\n",
       " 'price': {3500, 11000, 15000, 20000},\n",
       " 'duration': 1,\n",
       " 'access year': 1,\n",
       " 'syllabus': {'python': ['core python',\n",
       "   'oops',\n",
       "   'pandas',\n",
       "   'numpy',\n",
       "   'db',\n",
       "   'mongodb'],\n",
       "  'ml': ['supervised', 'unsupervised', 'semisupervised']}}"
      ]
     },
     "execution_count": 57,
     "metadata": {},
     "output_type": "execute_result"
    }
   ],
   "source": [
    "d4"
   ]
  },
  {
   "cell_type": "code",
   "execution_count": 69,
   "id": "b29e5366",
   "metadata": {},
   "outputs": [
    {
     "data": {
      "text/plain": [
       "'d'"
      ]
     },
     "execution_count": 69,
     "metadata": {},
     "output_type": "execute_result"
    }
   ],
   "source": [
    "d4['syllabus']['python'][2][3]"
   ]
  },
  {
   "cell_type": "code",
   "execution_count": 63,
   "id": "a65b9216",
   "metadata": {},
   "outputs": [
    {
     "data": {
      "text/plain": [
       "'r'"
      ]
     },
     "execution_count": 63,
     "metadata": {},
     "output_type": "execute_result"
    }
   ],
   "source": [
    "d4['syllabus']['ml'][1][6]"
   ]
  },
  {
   "cell_type": "code",
   "execution_count": 103,
   "id": "2d42c5c8-5665-4597-8614-206e8a2ee46f",
   "metadata": {
    "id": "2d42c5c8-5665-4597-8614-206e8a2ee46f",
    "outputId": "50f4a6a2-59c1-491d-8262-71d8a523346e"
   },
   "outputs": [
    {
     "data": {
      "text/plain": [
       "{3500, 11000, 15000, 20000}"
      ]
     },
     "execution_count": 103,
     "metadata": {},
     "output_type": "execute_result"
    }
   ],
   "source": [
    "d4['price']"
   ]
  },
  {
   "cell_type": "code",
   "execution_count": 71,
   "id": "f214c806-5359-44cb-8c45-63a04e344f31",
   "metadata": {
    "id": "f214c806-5359-44cb-8c45-63a04e344f31",
    "outputId": "4aa2cb6a-ae5c-42eb-e0dd-34de1777dabf"
   },
   "outputs": [
    {
     "data": {
      "text/plain": [
       "{'name': 'Gaurav', 'name1': 'softcrayons'}"
      ]
     },
     "execution_count": 71,
     "metadata": {},
     "output_type": "execute_result"
    }
   ],
   "source": [
    "d2"
   ]
  },
  {
   "cell_type": "code",
   "execution_count": 75,
   "id": "c46c0532",
   "metadata": {},
   "outputs": [
    {
     "data": {
      "text/plain": [
       "{'name': 'Gaurav', 'name1': 'softcrayons'}"
      ]
     },
     "execution_count": 75,
     "metadata": {},
     "output_type": "execute_result"
    }
   ],
   "source": [
    "d2"
   ]
  },
  {
   "cell_type": "code",
   "execution_count": 81,
   "id": "e9f08e7b",
   "metadata": {
    "id": "c8e6f14b-d18b-47dc-9001-6e0a20c207e1"
   },
   "outputs": [],
   "source": [
    "d2['anju'] = 456"
   ]
  },
  {
   "cell_type": "code",
   "execution_count": 82,
   "id": "f9f732cb",
   "metadata": {},
   "outputs": [
    {
     "data": {
      "text/plain": [
       "{'name': 'Gaurav', 'name1': 'softcrayons', 'anju': 456}"
      ]
     },
     "execution_count": 82,
     "metadata": {},
     "output_type": "execute_result"
    }
   ],
   "source": [
    "d2"
   ]
  },
  {
   "cell_type": "code",
   "execution_count": 85,
   "id": "aa489bbe-ae17-49f1-bfaf-afa0141e356c",
   "metadata": {
    "id": "aa489bbe-ae17-49f1-bfaf-afa0141e356c"
   },
   "outputs": [],
   "source": [
    "d2['name'] = \"Soumya\""
   ]
  },
  {
   "cell_type": "code",
   "execution_count": 86,
   "id": "809f9356-f50b-40ad-9822-1d566df545f2",
   "metadata": {
    "id": "809f9356-f50b-40ad-9822-1d566df545f2",
    "outputId": "a647ebcd-f7f4-4f71-ddb8-4481d5d5596c"
   },
   "outputs": [
    {
     "data": {
      "text/plain": [
       "{'name': 'Soumya', 'name1': 'softcrayons', 'anju': 456}"
      ]
     },
     "execution_count": 86,
     "metadata": {},
     "output_type": "execute_result"
    }
   ],
   "source": [
    "d2"
   ]
  },
  {
   "cell_type": "markdown",
   "id": "4b8e48e8-da73-4fd0-9dea-804606bb9593",
   "metadata": {
    "id": "4b8e48e8-da73-4fd0-9dea-804606bb9593"
   },
   "source": [
    "# 1.string\n",
    "# 2.list\n",
    "# 3.tuple\n",
    "# 4.set\n",
    "# 5.dict\n",
    "\n"
   ]
  },
  {
   "cell_type": "code",
   "execution_count": 1,
   "id": "f680c2eb-fdbd-4952-b8f5-3266cad1bd1b",
   "metadata": {
    "id": "f680c2eb-fdbd-4952-b8f5-3266cad1bd1b"
   },
   "outputs": [],
   "source": [
    "s1 = \"softcrayons\""
   ]
  },
  {
   "cell_type": "code",
   "execution_count": 2,
   "id": "9312485a-3dc5-4013-a6f4-aed17f8e9af1",
   "metadata": {
    "id": "9312485a-3dc5-4013-a6f4-aed17f8e9af1",
    "outputId": "686d950f-9b0d-45b5-cd4a-f31a10211f33"
   },
   "outputs": [
    {
     "data": {
      "text/plain": [
       "2"
      ]
     },
     "execution_count": 2,
     "metadata": {},
     "output_type": "execute_result"
    }
   ],
   "source": [
    "s1.count('o')"
   ]
  },
  {
   "cell_type": "code",
   "execution_count": 3,
   "id": "4c5c0e6b-179f-4af6-b973-1c01bd77e503",
   "metadata": {
    "id": "4c5c0e6b-179f-4af6-b973-1c01bd77e503",
    "outputId": "8c36b192-d8b3-418a-e7a5-e50c25304f2d"
   },
   "outputs": [
    {
     "data": {
      "text/plain": [
       "3"
      ]
     },
     "execution_count": 3,
     "metadata": {},
     "output_type": "execute_result"
    }
   ],
   "source": [
    "s1.index('t')"
   ]
  },
  {
   "cell_type": "code",
   "execution_count": 4,
   "id": "70411f79-7317-4ad4-ada4-2108df3b89c2",
   "metadata": {
    "id": "70411f79-7317-4ad4-ada4-2108df3b89c2",
    "outputId": "142a11fe-7626-4072-d1df-d776cc72dfde"
   },
   "outputs": [
    {
     "data": {
      "text/plain": [
       "2"
      ]
     },
     "execution_count": 4,
     "metadata": {},
     "output_type": "execute_result"
    }
   ],
   "source": [
    "s1.find('f')"
   ]
  },
  {
   "cell_type": "code",
   "execution_count": 5,
   "id": "6c2e466b-e21a-4103-9afb-70ac7b67d89e",
   "metadata": {
    "id": "6c2e466b-e21a-4103-9afb-70ac7b67d89e",
    "outputId": "af54a493-ac40-4d06-8f41-7633cd19aa86"
   },
   "outputs": [
    {
     "data": {
      "text/plain": [
       "-1"
      ]
     },
     "execution_count": 5,
     "metadata": {},
     "output_type": "execute_result"
    }
   ],
   "source": [
    "s1.find('z')"
   ]
  },
  {
   "cell_type": "code",
   "execution_count": 6,
   "id": "3eb33a19-31c9-49fa-aef9-f06a830d2604",
   "metadata": {
    "id": "3eb33a19-31c9-49fa-aef9-f06a830d2604",
    "outputId": "a52bdd5d-0016-4b0c-8848-9026d05f1cd1"
   },
   "outputs": [
    {
     "ename": "ValueError",
     "evalue": "substring not found",
     "output_type": "error",
     "traceback": [
      "\u001b[1;31m---------------------------------------------------------------------------\u001b[0m",
      "\u001b[1;31mValueError\u001b[0m                                Traceback (most recent call last)",
      "\u001b[1;32m~\\AppData\\Local\\Temp\\ipykernel_15028\\757536014.py\u001b[0m in \u001b[0;36m<module>\u001b[1;34m\u001b[0m\n\u001b[1;32m----> 1\u001b[1;33m \u001b[0ms1\u001b[0m\u001b[1;33m.\u001b[0m\u001b[0mindex\u001b[0m\u001b[1;33m(\u001b[0m\u001b[1;34m'z'\u001b[0m\u001b[1;33m)\u001b[0m\u001b[1;33m\u001b[0m\u001b[1;33m\u001b[0m\u001b[0m\n\u001b[0m",
      "\u001b[1;31mValueError\u001b[0m: substring not found"
     ]
    }
   ],
   "source": [
    "s1.index('z')"
   ]
  },
  {
   "cell_type": "code",
   "execution_count": 7,
   "id": "6fa8bc5e-9212-4e1f-8dd2-55433aa3b83b",
   "metadata": {
    "id": "6fa8bc5e-9212-4e1f-8dd2-55433aa3b83b",
    "outputId": "e2672155-236e-4635-b281-cb02498ef7c6"
   },
   "outputs": [
    {
     "data": {
      "text/plain": [
       "'SOFTCRAYONS'"
      ]
     },
     "execution_count": 7,
     "metadata": {},
     "output_type": "execute_result"
    }
   ],
   "source": [
    "s1.upper()"
   ]
  },
  {
   "cell_type": "code",
   "execution_count": 8,
   "id": "903dacd1-bbb4-41c5-be17-af516d45f7ed",
   "metadata": {
    "id": "903dacd1-bbb4-41c5-be17-af516d45f7ed",
    "outputId": "dbc200c3-c778-442e-911b-a55fe929bece"
   },
   "outputs": [
    {
     "data": {
      "text/plain": [
       "'softcrayons'"
      ]
     },
     "execution_count": 8,
     "metadata": {},
     "output_type": "execute_result"
    }
   ],
   "source": [
    "s1.lower()"
   ]
  },
  {
   "cell_type": "code",
   "execution_count": 9,
   "id": "591cecdd-0f4b-487b-ad2d-b343bc7e2ef9",
   "metadata": {
    "id": "591cecdd-0f4b-487b-ad2d-b343bc7e2ef9"
   },
   "outputs": [],
   "source": [
    "s2 = \"my name is Gaurav Narwal\""
   ]
  },
  {
   "cell_type": "code",
   "execution_count": 10,
   "id": "5a09485b-7ec2-4701-8bf0-4d398197289d",
   "metadata": {
    "id": "5a09485b-7ec2-4701-8bf0-4d398197289d",
    "outputId": "a9bcd2ea-3635-4b8c-8715-421e7a5a6bd7"
   },
   "outputs": [
    {
     "data": {
      "text/plain": [
       "'My name is gaurav narwal'"
      ]
     },
     "execution_count": 10,
     "metadata": {},
     "output_type": "execute_result"
    }
   ],
   "source": [
    "s2.capitalize()"
   ]
  },
  {
   "cell_type": "code",
   "execution_count": 11,
   "id": "71f46ded",
   "metadata": {},
   "outputs": [
    {
     "data": {
      "text/plain": [
       "'My Name Is Gaurav Narwal'"
      ]
     },
     "execution_count": 11,
     "metadata": {},
     "output_type": "execute_result"
    }
   ],
   "source": [
    "s2.title()"
   ]
  },
  {
   "cell_type": "code",
   "execution_count": 12,
   "id": "98b8e78b",
   "metadata": {},
   "outputs": [
    {
     "data": {
      "text/plain": [
       "'my name is Gaurav Narwal'"
      ]
     },
     "execution_count": 12,
     "metadata": {},
     "output_type": "execute_result"
    }
   ],
   "source": [
    "s2"
   ]
  },
  {
   "cell_type": "code",
   "execution_count": 13,
   "id": "944a422a-eccb-4402-967c-7c197326fd47",
   "metadata": {
    "id": "944a422a-eccb-4402-967c-7c197326fd47",
    "outputId": "5e364936-b033-4d7c-c238-556da8332c46"
   },
   "outputs": [
    {
     "data": {
      "text/plain": [
       "['my', 'name', 'is', 'Gaurav', 'Narwal']"
      ]
     },
     "execution_count": 13,
     "metadata": {},
     "output_type": "execute_result"
    }
   ],
   "source": [
    "s2.split()"
   ]
  },
  {
   "cell_type": "code",
   "execution_count": 14,
   "id": "a6d9dcd3-4a61-4de9-a8f4-ebd1ee0a8abd",
   "metadata": {
    "id": "a6d9dcd3-4a61-4de9-a8f4-ebd1ee0a8abd"
   },
   "outputs": [],
   "source": [
    "s3 = \"my name,is, gaurav,narwal\""
   ]
  },
  {
   "cell_type": "code",
   "execution_count": 15,
   "id": "5a5b7c90-eeaf-449b-a2c3-6efd0495b4d3",
   "metadata": {
    "id": "5a5b7c90-eeaf-449b-a2c3-6efd0495b4d3",
    "outputId": "6071a3c3-63aa-4040-8b09-542dd94e97f8"
   },
   "outputs": [
    {
     "data": {
      "text/plain": [
       "['my name', 'is', ' gaurav', 'narwal']"
      ]
     },
     "execution_count": 15,
     "metadata": {},
     "output_type": "execute_result"
    }
   ],
   "source": [
    "s3.split(',')"
   ]
  },
  {
   "cell_type": "code",
   "execution_count": 16,
   "id": "04ffb5f4-858d-49e1-9e00-d23d1e8d0c17",
   "metadata": {
    "id": "04ffb5f4-858d-49e1-9e00-d23d1e8d0c17"
   },
   "outputs": [],
   "source": [
    "s4 = \"this is my class . i am attending this class for 4th time\""
   ]
  },
  {
   "cell_type": "code",
   "execution_count": 18,
   "id": "8e0847c3-b99f-4e0a-aa27-e9f9b516e7d0",
   "metadata": {
    "id": "8e0847c3-b99f-4e0a-aa27-e9f9b516e7d0",
    "outputId": "df422c92-c80f-4606-f173-c4318c6db1b1"
   },
   "outputs": [
    {
     "data": {
      "text/plain": [
       "['this is my class ', ' i am attending this class for 4th time']"
      ]
     },
     "execution_count": 18,
     "metadata": {},
     "output_type": "execute_result"
    }
   ],
   "source": [
    "s4.split('.')"
   ]
  },
  {
   "cell_type": "code",
   "execution_count": 19,
   "id": "1313452a",
   "metadata": {},
   "outputs": [
    {
     "data": {
      "text/plain": [
       "'my name is Gaurav Narwal'"
      ]
     },
     "execution_count": 19,
     "metadata": {},
     "output_type": "execute_result"
    }
   ],
   "source": [
    "s2"
   ]
  },
  {
   "cell_type": "code",
   "execution_count": 21,
   "id": "95908aa6-325c-42b7-b3bc-ff56b074dba9",
   "metadata": {
    "id": "95908aa6-325c-42b7-b3bc-ff56b074dba9",
    "outputId": "13298111-24fb-48bc-e803-23f181664e53"
   },
   "outputs": [],
   "source": [
    "a = s2.replace(' ','_')"
   ]
  },
  {
   "cell_type": "code",
   "execution_count": 22,
   "id": "01748fdc-5c6b-42f5-a5e9-d94772237e1a",
   "metadata": {
    "id": "01748fdc-5c6b-42f5-a5e9-d94772237e1a",
    "outputId": "aa90a2c2-f7d2-409b-f890-84031e164bd4"
   },
   "outputs": [
    {
     "data": {
      "text/plain": [
       "'my_name_is_Gaurav_Narwal'"
      ]
     },
     "execution_count": 22,
     "metadata": {},
     "output_type": "execute_result"
    }
   ],
   "source": [
    "a"
   ]
  },
  {
   "cell_type": "code",
   "execution_count": 25,
   "id": "1b7a31f1-58e2-4f8e-a902-7bbe44d5fc9e",
   "metadata": {
    "id": "1b7a31f1-58e2-4f8e-a902-7bbe44d5fc9e"
   },
   "outputs": [],
   "source": [
    "s5 = \"     Softcrayons    \""
   ]
  },
  {
   "cell_type": "code",
   "execution_count": 26,
   "id": "1426643b-e2a3-48bf-a78e-fbd82336dce0",
   "metadata": {
    "id": "1426643b-e2a3-48bf-a78e-fbd82336dce0",
    "outputId": "d399e8ec-1d70-4677-feb2-85fb152443da"
   },
   "outputs": [
    {
     "data": {
      "text/plain": [
       "'     Softcrayons'"
      ]
     },
     "execution_count": 26,
     "metadata": {},
     "output_type": "execute_result"
    }
   ],
   "source": [
    "s5.rstrip()"
   ]
  },
  {
   "cell_type": "code",
   "execution_count": 27,
   "id": "59e0129c-bcd3-4a44-b861-54a8ed63da0c",
   "metadata": {
    "id": "59e0129c-bcd3-4a44-b861-54a8ed63da0c",
    "outputId": "58061441-cafd-40c7-c578-e5386b87181b"
   },
   "outputs": [
    {
     "data": {
      "text/plain": [
       "'Softcrayons    '"
      ]
     },
     "execution_count": 27,
     "metadata": {},
     "output_type": "execute_result"
    }
   ],
   "source": [
    "s5.lstrip()"
   ]
  },
  {
   "cell_type": "code",
   "execution_count": 28,
   "id": "5aafffda-f535-467f-bd85-03abbab58c8c",
   "metadata": {
    "id": "5aafffda-f535-467f-bd85-03abbab58c8c",
    "outputId": "c050aaea-e1ae-41f3-8f53-c9e8c692ad3a"
   },
   "outputs": [
    {
     "data": {
      "text/plain": [
       "'Softcrayons'"
      ]
     },
     "execution_count": 28,
     "metadata": {},
     "output_type": "execute_result"
    }
   ],
   "source": [
    "s5.strip()"
   ]
  },
  {
   "cell_type": "code",
   "execution_count": 29,
   "id": "24262f9c-ea40-43f1-8671-70bb0ee6a56e",
   "metadata": {
    "id": "24262f9c-ea40-43f1-8671-70bb0ee6a56e",
    "outputId": "599dfe6d-66fb-4ec7-cf5b-5383e1fe004e"
   },
   "outputs": [
    {
     "data": {
      "text/plain": [
       "'my name is Gaurav Narwal'"
      ]
     },
     "execution_count": 29,
     "metadata": {},
     "output_type": "execute_result"
    }
   ],
   "source": [
    "s2"
   ]
  },
  {
   "cell_type": "code",
   "execution_count": 30,
   "id": "d0084004-8e85-4cf6-8dc2-9168aba44a92",
   "metadata": {
    "id": "d0084004-8e85-4cf6-8dc2-9168aba44a92",
    "outputId": "f2322f58-0933-4729-e9bc-4edecd9c8201"
   },
   "outputs": [
    {
     "data": {
      "text/plain": [
       "'softcrayons'"
      ]
     },
     "execution_count": 30,
     "metadata": {},
     "output_type": "execute_result"
    }
   ],
   "source": [
    "s1"
   ]
  },
  {
   "cell_type": "code",
   "execution_count": 31,
   "id": "41007112",
   "metadata": {},
   "outputs": [],
   "source": [
    "s1 = '547210asdf'"
   ]
  },
  {
   "cell_type": "code",
   "execution_count": 33,
   "id": "38b40276-bd19-4215-9ba8-f06613057e58",
   "metadata": {
    "id": "38b40276-bd19-4215-9ba8-f06613057e58",
    "outputId": "b6d750aa-04f1-460b-d148-a139ef0b2451"
   },
   "outputs": [
    {
     "data": {
      "text/plain": [
       "False"
      ]
     },
     "execution_count": 33,
     "metadata": {},
     "output_type": "execute_result"
    }
   ],
   "source": [
    "s1.isnumeric()"
   ]
  },
  {
   "cell_type": "code",
   "execution_count": 34,
   "id": "2bdd473f-a8e8-4b90-8947-e730e22411f1",
   "metadata": {
    "id": "2bdd473f-a8e8-4b90-8947-e730e22411f1",
    "outputId": "fef9648d-8dd6-4415-c4bd-79dddf256121",
    "scrolled": true
   },
   "outputs": [
    {
     "data": {
      "text/plain": [
       "True"
      ]
     },
     "execution_count": 34,
     "metadata": {},
     "output_type": "execute_result"
    }
   ],
   "source": [
    "s1.islower()"
   ]
  },
  {
   "cell_type": "markdown",
   "id": "bb34f0ac",
   "metadata": {},
   "source": [
    "# List Functions"
   ]
  },
  {
   "cell_type": "code",
   "execution_count": 41,
   "id": "bf834a5f-26e3-4dbf-a300-eb52ed48780f",
   "metadata": {
    "id": "bf834a5f-26e3-4dbf-a300-eb52ed48780f",
    "outputId": "8ac1ff72-306b-4811-aac8-260254382313"
   },
   "outputs": [],
   "source": [
    "l1 = [1, 2, 3, 4, 5, 'Gaurav', 'Narwal', 345.565, True, [3, 4, 5, 6]]"
   ]
  },
  {
   "cell_type": "code",
   "execution_count": 42,
   "id": "16af8472-3b55-48bf-a78b-b0cf703b959b",
   "metadata": {
    "id": "16af8472-3b55-48bf-a78b-b0cf703b959b",
    "outputId": "32a17bd8-96b4-40f9-d6ed-99dd2ffaf109"
   },
   "outputs": [],
   "source": [
    "l2 = [3, 4, 5, 'Nikhil', 'monu']"
   ]
  },
  {
   "cell_type": "code",
   "execution_count": 43,
   "id": "2a822c9f-82f2-4c40-bd91-8f3734aa59ec",
   "metadata": {
    "id": "2a822c9f-82f2-4c40-bd91-8f3734aa59ec"
   },
   "outputs": [],
   "source": [
    "l1.append(\"Preeti\")"
   ]
  },
  {
   "cell_type": "code",
   "execution_count": 44,
   "id": "db70434b-824d-4d55-899c-dd65ae880da8",
   "metadata": {
    "id": "db70434b-824d-4d55-899c-dd65ae880da8",
    "outputId": "869519e8-c2d3-45ff-a6d0-f8b0f08e900b"
   },
   "outputs": [
    {
     "data": {
      "text/plain": [
       "[1, 2, 3, 4, 5, 'Gaurav', 'Narwal', 345.565, True, [3, 4, 5, 6], 'Preeti']"
      ]
     },
     "execution_count": 44,
     "metadata": {},
     "output_type": "execute_result"
    }
   ],
   "source": [
    "l1"
   ]
  },
  {
   "cell_type": "code",
   "execution_count": 51,
   "id": "56a98bfb-0d99-4857-bded-6f4a509faefd",
   "metadata": {
    "id": "56a98bfb-0d99-4857-bded-6f4a509faefd"
   },
   "outputs": [],
   "source": [
    "l1.insert(0,\"Vinay\")"
   ]
  },
  {
   "cell_type": "code",
   "execution_count": 53,
   "id": "9f77f684-5837-4512-bfa4-83a7da8d8661",
   "metadata": {
    "id": "9f77f684-5837-4512-bfa4-83a7da8d8661",
    "outputId": "83d22265-9684-49e6-95e0-4f11ad0bfab6"
   },
   "outputs": [
    {
     "data": {
      "text/plain": [
       "['Vinay',\n",
       " \"The Sangeeta Ma'am\",\n",
       " \"Sangeeta Ma'am\",\n",
       " 'Sangeeta',\n",
       " 1,\n",
       " 2,\n",
       " 3,\n",
       " 4,\n",
       " 5,\n",
       " 'Gaurav',\n",
       " 'Narwal',\n",
       " 345.565,\n",
       " True,\n",
       " [3, 4, 5, 6],\n",
       " 'Preeti']"
      ]
     },
     "execution_count": 53,
     "metadata": {},
     "output_type": "execute_result"
    }
   ],
   "source": [
    "l1"
   ]
  },
  {
   "cell_type": "code",
   "execution_count": 54,
   "id": "c60488b2",
   "metadata": {},
   "outputs": [
    {
     "data": {
      "text/plain": [
       "[3, 4, 5, 'Nikhil', 'monu']"
      ]
     },
     "execution_count": 54,
     "metadata": {},
     "output_type": "execute_result"
    }
   ],
   "source": [
    "l2"
   ]
  },
  {
   "cell_type": "code",
   "execution_count": 55,
   "id": "5830c704-d5dc-4082-83a4-bb36500efbe0",
   "metadata": {
    "id": "5830c704-d5dc-4082-83a4-bb36500efbe0"
   },
   "outputs": [],
   "source": [
    "l2.extend(l1)"
   ]
  },
  {
   "cell_type": "code",
   "execution_count": 56,
   "id": "58b31c63-1c4e-4da5-8c39-74582486198e",
   "metadata": {
    "id": "58b31c63-1c4e-4da5-8c39-74582486198e",
    "outputId": "e70f17e9-7a26-44e9-8aaf-7fa233b316af"
   },
   "outputs": [
    {
     "data": {
      "text/plain": [
       "[3,\n",
       " 4,\n",
       " 5,\n",
       " 'Nikhil',\n",
       " 'monu',\n",
       " 'Vinay',\n",
       " \"The Sangeeta Ma'am\",\n",
       " \"Sangeeta Ma'am\",\n",
       " 'Sangeeta',\n",
       " 1,\n",
       " 2,\n",
       " 3,\n",
       " 4,\n",
       " 5,\n",
       " 'Gaurav',\n",
       " 'Narwal',\n",
       " 345.565,\n",
       " True,\n",
       " [3, 4, 5, 6],\n",
       " 'Preeti']"
      ]
     },
     "execution_count": 56,
     "metadata": {},
     "output_type": "execute_result"
    }
   ],
   "source": [
    "l2"
   ]
  },
  {
   "cell_type": "code",
   "execution_count": 57,
   "id": "9849225e-c1d2-44bc-b689-fba5c6dccbd6",
   "metadata": {
    "id": "9849225e-c1d2-44bc-b689-fba5c6dccbd6"
   },
   "outputs": [],
   "source": [
    "l2.append(\"sanal\")"
   ]
  },
  {
   "cell_type": "code",
   "execution_count": 58,
   "id": "fbc2c042-5131-45a6-9bd1-9ffa79c3fafe",
   "metadata": {
    "id": "fbc2c042-5131-45a6-9bd1-9ffa79c3fafe",
    "outputId": "4155914d-418a-4995-d480-7cb8ecf19290",
    "scrolled": true
   },
   "outputs": [
    {
     "data": {
      "text/plain": [
       "[3,\n",
       " 4,\n",
       " 5,\n",
       " 'Nikhil',\n",
       " 'monu',\n",
       " 'Vinay',\n",
       " \"The Sangeeta Ma'am\",\n",
       " \"Sangeeta Ma'am\",\n",
       " 'Sangeeta',\n",
       " 1,\n",
       " 2,\n",
       " 3,\n",
       " 4,\n",
       " 5,\n",
       " 'Gaurav',\n",
       " 'Narwal',\n",
       " 345.565,\n",
       " True,\n",
       " [3, 4, 5, 6],\n",
       " 'Preeti',\n",
       " 'sanal']"
      ]
     },
     "execution_count": 58,
     "metadata": {},
     "output_type": "execute_result"
    }
   ],
   "source": [
    "l2"
   ]
  },
  {
   "cell_type": "code",
   "execution_count": 59,
   "id": "8685a1bd",
   "metadata": {},
   "outputs": [
    {
     "data": {
      "text/plain": [
       "['v', 'a', 'i', 'b', 'h', 'a', 'v']"
      ]
     },
     "execution_count": 59,
     "metadata": {},
     "output_type": "execute_result"
    }
   ],
   "source": [
    "list('vaibhav')"
   ]
  },
  {
   "cell_type": "code",
   "execution_count": 60,
   "id": "1bad85e6-580b-488f-a573-8699c8458e68",
   "metadata": {
    "id": "1bad85e6-580b-488f-a573-8699c8458e68"
   },
   "outputs": [],
   "source": [
    "l2.extend('vaibhav')"
   ]
  },
  {
   "cell_type": "code",
   "execution_count": 61,
   "id": "f03f417a",
   "metadata": {},
   "outputs": [
    {
     "data": {
      "text/plain": [
       "[3,\n",
       " 4,\n",
       " 5,\n",
       " 'Nikhil',\n",
       " 'monu',\n",
       " 'Vinay',\n",
       " \"The Sangeeta Ma'am\",\n",
       " \"Sangeeta Ma'am\",\n",
       " 'Sangeeta',\n",
       " 1,\n",
       " 2,\n",
       " 3,\n",
       " 4,\n",
       " 5,\n",
       " 'Gaurav',\n",
       " 'Narwal',\n",
       " 345.565,\n",
       " True,\n",
       " [3, 4, 5, 6],\n",
       " 'Preeti',\n",
       " 'sanal',\n",
       " 'v',\n",
       " 'a',\n",
       " 'i',\n",
       " 'b',\n",
       " 'h',\n",
       " 'a',\n",
       " 'v']"
      ]
     },
     "execution_count": 61,
     "metadata": {},
     "output_type": "execute_result"
    }
   ],
   "source": [
    "l2"
   ]
  },
  {
   "cell_type": "code",
   "execution_count": 62,
   "id": "8a411071-e6c0-43e9-8638-ed731281ea83",
   "metadata": {
    "id": "8a411071-e6c0-43e9-8638-ed731281ea83",
    "outputId": "00cd3f1c-061c-48ec-9cfc-5f9b080aa86e"
   },
   "outputs": [
    {
     "data": {
      "text/plain": [
       "[3,\n",
       " 4,\n",
       " 5,\n",
       " 'Nikhil',\n",
       " 'monu',\n",
       " 'Vinay',\n",
       " \"The Sangeeta Ma'am\",\n",
       " \"Sangeeta Ma'am\",\n",
       " 'Sangeeta',\n",
       " 1,\n",
       " 2,\n",
       " 3,\n",
       " 4,\n",
       " 5,\n",
       " 'Gaurav',\n",
       " 'Narwal',\n",
       " 345.565,\n",
       " True,\n",
       " [3, 4, 5, 6],\n",
       " 'Preeti',\n",
       " 'sanal',\n",
       " 'v',\n",
       " 'a',\n",
       " 'i',\n",
       " 'b',\n",
       " 'h',\n",
       " 'a',\n",
       " 'v']"
      ]
     },
     "execution_count": 62,
     "metadata": {},
     "output_type": "execute_result"
    }
   ],
   "source": [
    "l2"
   ]
  },
  {
   "cell_type": "code",
   "execution_count": 63,
   "id": "29dbc4b5-b9f9-4b6e-b637-5f69a8398b38",
   "metadata": {
    "id": "29dbc4b5-b9f9-4b6e-b637-5f69a8398b38"
   },
   "outputs": [],
   "source": [
    "l3 = [1,2,3,4,5]"
   ]
  },
  {
   "cell_type": "code",
   "execution_count": 64,
   "id": "58ed1793-c5cd-4279-99b2-5fdf562ce6e2",
   "metadata": {
    "id": "58ed1793-c5cd-4279-99b2-5fdf562ce6e2"
   },
   "outputs": [],
   "source": [
    "l3.append([1,2,3])"
   ]
  },
  {
   "cell_type": "code",
   "execution_count": 65,
   "id": "ceb16a28-d5ee-4d70-b074-cdf866357afb",
   "metadata": {
    "id": "ceb16a28-d5ee-4d70-b074-cdf866357afb",
    "outputId": "92c9226f-b1ba-4ef9-bb87-686ae49e7ac1"
   },
   "outputs": [
    {
     "data": {
      "text/plain": [
       "[1, 2, 3, 4, 5, [1, 2, 3]]"
      ]
     },
     "execution_count": 65,
     "metadata": {},
     "output_type": "execute_result"
    }
   ],
   "source": [
    "l3"
   ]
  },
  {
   "cell_type": "code",
   "execution_count": 66,
   "id": "84f7f0e8",
   "metadata": {},
   "outputs": [],
   "source": [
    "l3.extend([1,2,3])"
   ]
  },
  {
   "cell_type": "code",
   "execution_count": 67,
   "id": "e7cd7bda",
   "metadata": {},
   "outputs": [
    {
     "data": {
      "text/plain": [
       "[1, 2, 3, 4, 5, [1, 2, 3], 1, 2, 3]"
      ]
     },
     "execution_count": 67,
     "metadata": {},
     "output_type": "execute_result"
    }
   ],
   "source": [
    "l3"
   ]
  },
  {
   "cell_type": "code",
   "execution_count": 69,
   "id": "93513512-ff21-45ed-89f2-5b97d0605485",
   "metadata": {
    "id": "93513512-ff21-45ed-89f2-5b97d0605485",
    "outputId": "39bcc145-c9d5-430b-c76a-48b7fd8a5a28"
   },
   "outputs": [
    {
     "data": {
      "text/plain": [
       "2"
      ]
     },
     "execution_count": 69,
     "metadata": {},
     "output_type": "execute_result"
    }
   ],
   "source": [
    "l3.pop()"
   ]
  },
  {
   "cell_type": "code",
   "execution_count": 70,
   "id": "3eda21b5-d94e-4e79-b139-93a6d5777c17",
   "metadata": {
    "id": "3eda21b5-d94e-4e79-b139-93a6d5777c17",
    "outputId": "8af8a74b-3e1f-434f-d985-c8e3b0b2901f"
   },
   "outputs": [
    {
     "data": {
      "text/plain": [
       "[1, 2, 3, 4, 5, [1, 2, 3], 1]"
      ]
     },
     "execution_count": 70,
     "metadata": {},
     "output_type": "execute_result"
    }
   ],
   "source": [
    "l3"
   ]
  },
  {
   "cell_type": "code",
   "execution_count": 71,
   "id": "fd34368b-b2d6-40bb-b9de-cb8c9352d672",
   "metadata": {
    "id": "fd34368b-b2d6-40bb-b9de-cb8c9352d672",
    "outputId": "5156680b-02c2-4291-fac9-98843d0d5e74"
   },
   "outputs": [
    {
     "data": {
      "text/plain": [
       "4"
      ]
     },
     "execution_count": 71,
     "metadata": {},
     "output_type": "execute_result"
    }
   ],
   "source": [
    "l3.pop(3)"
   ]
  },
  {
   "cell_type": "code",
   "execution_count": 72,
   "id": "81ce13f4-6844-4fc3-a3f0-fbdaa2dcb14d",
   "metadata": {
    "id": "81ce13f4-6844-4fc3-a3f0-fbdaa2dcb14d",
    "outputId": "18912e03-2792-4c73-dc01-33e1f14992ab"
   },
   "outputs": [
    {
     "data": {
      "text/plain": [
       "[1, 2, 3, 5, [1, 2, 3], 1]"
      ]
     },
     "execution_count": 72,
     "metadata": {},
     "output_type": "execute_result"
    }
   ],
   "source": [
    "l3"
   ]
  },
  {
   "cell_type": "code",
   "execution_count": 73,
   "id": "21c91b23",
   "metadata": {},
   "outputs": [
    {
     "data": {
      "text/plain": [
       "[1, 2, 3, 5, [1, 2, 3], 1]"
      ]
     },
     "execution_count": 73,
     "metadata": {},
     "output_type": "execute_result"
    }
   ],
   "source": [
    "l3"
   ]
  },
  {
   "cell_type": "code",
   "execution_count": 74,
   "id": "f1620eed-7768-48a8-9226-2ac61d53f436",
   "metadata": {
    "id": "f1620eed-7768-48a8-9226-2ac61d53f436"
   },
   "outputs": [],
   "source": [
    "del l3"
   ]
  },
  {
   "cell_type": "code",
   "execution_count": 75,
   "id": "0b504eda-acf3-4944-a959-c128a66b1c80",
   "metadata": {
    "id": "0b504eda-acf3-4944-a959-c128a66b1c80",
    "outputId": "dc1a8956-28cb-4ac8-e486-0904c6ccac7b"
   },
   "outputs": [
    {
     "ename": "NameError",
     "evalue": "name 'l3' is not defined",
     "output_type": "error",
     "traceback": [
      "\u001b[1;31m---------------------------------------------------------------------------\u001b[0m",
      "\u001b[1;31mNameError\u001b[0m                                 Traceback (most recent call last)",
      "\u001b[1;32m~\\AppData\\Local\\Temp\\ipykernel_15028\\3336533441.py\u001b[0m in \u001b[0;36m<module>\u001b[1;34m\u001b[0m\n\u001b[1;32m----> 1\u001b[1;33m \u001b[0ml3\u001b[0m\u001b[1;33m\u001b[0m\u001b[1;33m\u001b[0m\u001b[0m\n\u001b[0m",
      "\u001b[1;31mNameError\u001b[0m: name 'l3' is not defined"
     ]
    }
   ],
   "source": [
    "l3"
   ]
  },
  {
   "cell_type": "code",
   "execution_count": 76,
   "id": "5e56f469-680a-4aea-b92f-2da672a715b7",
   "metadata": {
    "id": "5e56f469-680a-4aea-b92f-2da672a715b7",
    "outputId": "12681236-b85b-4655-86c6-c4e441841362"
   },
   "outputs": [
    {
     "data": {
      "text/plain": [
       "'my name is Gaurav Narwal'"
      ]
     },
     "execution_count": 76,
     "metadata": {},
     "output_type": "execute_result"
    }
   ],
   "source": [
    "s2"
   ]
  },
  {
   "cell_type": "code",
   "execution_count": 77,
   "id": "694cb485-7fe3-4bb6-8d47-fe0a14e5a061",
   "metadata": {
    "id": "694cb485-7fe3-4bb6-8d47-fe0a14e5a061"
   },
   "outputs": [],
   "source": [
    "del s2"
   ]
  },
  {
   "cell_type": "code",
   "execution_count": 78,
   "id": "45ba7cad-02b3-444b-990b-ca55cfa559b3",
   "metadata": {
    "id": "45ba7cad-02b3-444b-990b-ca55cfa559b3",
    "outputId": "b89917f4-3486-426d-c304-929c39267552"
   },
   "outputs": [
    {
     "ename": "NameError",
     "evalue": "name 's2' is not defined",
     "output_type": "error",
     "traceback": [
      "\u001b[1;31m---------------------------------------------------------------------------\u001b[0m",
      "\u001b[1;31mNameError\u001b[0m                                 Traceback (most recent call last)",
      "\u001b[1;32m~\\AppData\\Local\\Temp\\ipykernel_15028\\4231310477.py\u001b[0m in \u001b[0;36m<module>\u001b[1;34m\u001b[0m\n\u001b[1;32m----> 1\u001b[1;33m \u001b[0ms2\u001b[0m\u001b[1;33m\u001b[0m\u001b[1;33m\u001b[0m\u001b[0m\n\u001b[0m",
      "\u001b[1;31mNameError\u001b[0m: name 's2' is not defined"
     ]
    }
   ],
   "source": [
    "s2"
   ]
  },
  {
   "cell_type": "code",
   "execution_count": 79,
   "id": "8752a320",
   "metadata": {},
   "outputs": [
    {
     "data": {
      "text/plain": [
       "[3,\n",
       " 4,\n",
       " 5,\n",
       " 'Nikhil',\n",
       " 'monu',\n",
       " 'Vinay',\n",
       " \"The Sangeeta Ma'am\",\n",
       " \"Sangeeta Ma'am\",\n",
       " 'Sangeeta',\n",
       " 1,\n",
       " 2,\n",
       " 3,\n",
       " 4,\n",
       " 5,\n",
       " 'Gaurav',\n",
       " 'Narwal',\n",
       " 345.565,\n",
       " True,\n",
       " [3, 4, 5, 6],\n",
       " 'Preeti',\n",
       " 'sanal',\n",
       " 'v',\n",
       " 'a',\n",
       " 'i',\n",
       " 'b',\n",
       " 'h',\n",
       " 'a',\n",
       " 'v']"
      ]
     },
     "execution_count": 79,
     "metadata": {},
     "output_type": "execute_result"
    }
   ],
   "source": [
    "l2"
   ]
  },
  {
   "cell_type": "code",
   "execution_count": 80,
   "id": "3dc89cf3",
   "metadata": {
    "id": "003a2242-a7f4-4988-b3e6-1d0bb7e9a4d1",
    "outputId": "c464ab14-d0dd-4268-cd17-044ce8791ede",
    "scrolled": false
   },
   "outputs": [
    {
     "data": {
      "text/plain": [
       "[3,\n",
       " 4,\n",
       " 5,\n",
       " 'Nikhil',\n",
       " 'monu',\n",
       " 'Vinay',\n",
       " \"The Sangeeta Ma'am\",\n",
       " \"Sangeeta Ma'am\",\n",
       " 'Sangeeta',\n",
       " 1,\n",
       " 2,\n",
       " 3,\n",
       " 4,\n",
       " 5,\n",
       " 'Gaurav',\n",
       " 'Narwal',\n",
       " 345.565,\n",
       " True,\n",
       " [3, 4, 5, 6],\n",
       " 'Preeti',\n",
       " 'sanal',\n",
       " 'v',\n",
       " 'a',\n",
       " 'i',\n",
       " 'b',\n",
       " 'h',\n",
       " 'a',\n",
       " 'v']"
      ]
     },
     "execution_count": 80,
     "metadata": {},
     "output_type": "execute_result"
    }
   ],
   "source": [
    "l2"
   ]
  },
  {
   "cell_type": "code",
   "execution_count": 81,
   "id": "9122f285",
   "metadata": {},
   "outputs": [
    {
     "data": {
      "text/plain": [
       "['Vinay',\n",
       " \"The Sangeeta Ma'am\",\n",
       " \"Sangeeta Ma'am\",\n",
       " 'Sangeeta',\n",
       " 1,\n",
       " 2,\n",
       " 3,\n",
       " 4,\n",
       " 5,\n",
       " 'Gaurav',\n",
       " 'Narwal',\n",
       " 345.565,\n",
       " True,\n",
       " [3, 4, 5, 6],\n",
       " 'Preeti']"
      ]
     },
     "execution_count": 81,
     "metadata": {},
     "output_type": "execute_result"
    }
   ],
   "source": [
    "l1"
   ]
  },
  {
   "cell_type": "code",
   "execution_count": 82,
   "id": "114c7d71-4fb8-4381-a884-c53f918ce234",
   "metadata": {
    "id": "114c7d71-4fb8-4381-a884-c53f918ce234"
   },
   "outputs": [],
   "source": [
    "l1.clear()"
   ]
  },
  {
   "cell_type": "code",
   "execution_count": 83,
   "id": "a7883002-4d2a-4f71-be92-dc8c64674e8f",
   "metadata": {
    "id": "a7883002-4d2a-4f71-be92-dc8c64674e8f",
    "outputId": "d37504ed-b1d0-466b-8696-f1702f77bdf4"
   },
   "outputs": [
    {
     "data": {
      "text/plain": [
       "[]"
      ]
     },
     "execution_count": 83,
     "metadata": {},
     "output_type": "execute_result"
    }
   ],
   "source": [
    "l1"
   ]
  },
  {
   "cell_type": "code",
   "execution_count": 84,
   "id": "5fdb9e98",
   "metadata": {},
   "outputs": [
    {
     "data": {
      "text/plain": [
       "[3,\n",
       " 4,\n",
       " 5,\n",
       " 'Nikhil',\n",
       " 'monu',\n",
       " 'Vinay',\n",
       " \"The Sangeeta Ma'am\",\n",
       " \"Sangeeta Ma'am\",\n",
       " 'Sangeeta',\n",
       " 1,\n",
       " 2,\n",
       " 3,\n",
       " 4,\n",
       " 5,\n",
       " 'Gaurav',\n",
       " 'Narwal',\n",
       " 345.565,\n",
       " True,\n",
       " [3, 4, 5, 6],\n",
       " 'Preeti',\n",
       " 'sanal',\n",
       " 'v',\n",
       " 'a',\n",
       " 'i',\n",
       " 'b',\n",
       " 'h',\n",
       " 'a',\n",
       " 'v']"
      ]
     },
     "execution_count": 84,
     "metadata": {},
     "output_type": "execute_result"
    }
   ],
   "source": [
    "l2"
   ]
  },
  {
   "cell_type": "code",
   "execution_count": 85,
   "id": "93e65b09-5986-4f6e-a28c-a15c095337f7",
   "metadata": {
    "id": "93e65b09-5986-4f6e-a28c-a15c095337f7"
   },
   "outputs": [
    {
     "data": {
      "text/plain": [
       "['v',\n",
       " 'a',\n",
       " 'h',\n",
       " 'b',\n",
       " 'i',\n",
       " 'a',\n",
       " 'v',\n",
       " 'sanal',\n",
       " 'Preeti',\n",
       " [3, 4, 5, 6],\n",
       " True,\n",
       " 345.565,\n",
       " 'Narwal',\n",
       " 'Gaurav',\n",
       " 5,\n",
       " 4,\n",
       " 3,\n",
       " 2,\n",
       " 1,\n",
       " 'Sangeeta',\n",
       " \"Sangeeta Ma'am\",\n",
       " \"The Sangeeta Ma'am\",\n",
       " 'Vinay',\n",
       " 'monu',\n",
       " 'Nikhil',\n",
       " 5,\n",
       " 4,\n",
       " 3]"
      ]
     },
     "execution_count": 85,
     "metadata": {},
     "output_type": "execute_result"
    }
   ],
   "source": [
    "l2.reverse()\n",
    "l2"
   ]
  },
  {
   "cell_type": "code",
   "execution_count": 86,
   "id": "56311173",
   "metadata": {},
   "outputs": [],
   "source": [
    "z = [1,8,6,7,2]"
   ]
  },
  {
   "cell_type": "code",
   "execution_count": 87,
   "id": "4961b8ae-aa3b-4b39-95bc-f458b8b4aa7d",
   "metadata": {
    "id": "4961b8ae-aa3b-4b39-95bc-f458b8b4aa7d",
    "outputId": "0845f837-e49a-40dc-f3cc-40675b60ff05"
   },
   "outputs": [],
   "source": [
    "z.sort()"
   ]
  },
  {
   "cell_type": "code",
   "execution_count": 88,
   "id": "6b7a9b31",
   "metadata": {},
   "outputs": [
    {
     "data": {
      "text/plain": [
       "[1, 2, 6, 7, 8]"
      ]
     },
     "execution_count": 88,
     "metadata": {},
     "output_type": "execute_result"
    }
   ],
   "source": [
    "z"
   ]
  },
  {
   "cell_type": "code",
   "execution_count": 89,
   "id": "95957ea5",
   "metadata": {},
   "outputs": [],
   "source": [
    "z = [1,8,6,7,2]"
   ]
  },
  {
   "cell_type": "code",
   "execution_count": 90,
   "id": "91077a01",
   "metadata": {},
   "outputs": [],
   "source": [
    "z.sort(reverse=True)"
   ]
  },
  {
   "cell_type": "code",
   "execution_count": 91,
   "id": "94354ecc",
   "metadata": {},
   "outputs": [
    {
     "data": {
      "text/plain": [
       "[8, 7, 6, 2, 1]"
      ]
     },
     "execution_count": 91,
     "metadata": {},
     "output_type": "execute_result"
    }
   ],
   "source": [
    "z"
   ]
  },
  {
   "cell_type": "code",
   "execution_count": 92,
   "id": "4a0d5a7f-8853-4b6d-bcd6-f8d59bac8123",
   "metadata": {
    "id": "4a0d5a7f-8853-4b6d-bcd6-f8d59bac8123"
   },
   "outputs": [],
   "source": [
    "l3 = [3,2,5,7,3,4,5,6]"
   ]
  },
  {
   "cell_type": "code",
   "execution_count": 93,
   "id": "9d758539-1b48-4b91-b596-4f2e2e133466",
   "metadata": {
    "id": "9d758539-1b48-4b91-b596-4f2e2e133466"
   },
   "outputs": [],
   "source": [
    "l3.sort(reverse = True)"
   ]
  },
  {
   "cell_type": "code",
   "execution_count": 94,
   "id": "7f1e4a89-98d2-4396-9c10-a224c303a023",
   "metadata": {
    "id": "7f1e4a89-98d2-4396-9c10-a224c303a023",
    "outputId": "5fbc01a9-60c4-430d-da62-ea2dcfb8fd8d"
   },
   "outputs": [
    {
     "data": {
      "text/plain": [
       "[7, 6, 5, 5, 4, 3, 3, 2]"
      ]
     },
     "execution_count": 94,
     "metadata": {},
     "output_type": "execute_result"
    }
   ],
   "source": [
    "l3"
   ]
  },
  {
   "cell_type": "markdown",
   "id": "ea607092",
   "metadata": {},
   "source": [
    "# Tuple Functions"
   ]
  },
  {
   "cell_type": "code",
   "execution_count": 95,
   "id": "4b80d358-90ba-4e97-8580-adc9a0752456",
   "metadata": {
    "id": "4b80d358-90ba-4e97-8580-adc9a0752456",
    "outputId": "e192590d-b897-4b33-8142-dc72dc1b1ea9"
   },
   "outputs": [],
   "source": [
    "t = (9, 5,7, 7, 6, 4, 1)"
   ]
  },
  {
   "cell_type": "code",
   "execution_count": 96,
   "id": "12e91965",
   "metadata": {},
   "outputs": [
    {
     "data": {
      "text/plain": [
       "(9, 5, 7, 7, 6, 4, 1)"
      ]
     },
     "execution_count": 96,
     "metadata": {},
     "output_type": "execute_result"
    }
   ],
   "source": [
    "t"
   ]
  },
  {
   "cell_type": "code",
   "execution_count": 97,
   "id": "0f7dec58-58a2-4702-9e05-7094c4038e12",
   "metadata": {
    "id": "0f7dec58-58a2-4702-9e05-7094c4038e12",
    "outputId": "7d485645-c7fe-4bad-b2fa-959a14242409"
   },
   "outputs": [
    {
     "data": {
      "text/plain": [
       "2"
      ]
     },
     "execution_count": 97,
     "metadata": {},
     "output_type": "execute_result"
    }
   ],
   "source": [
    "t.count(7)"
   ]
  },
  {
   "cell_type": "code",
   "execution_count": 98,
   "id": "f01dd675-8b06-4eb4-8506-103bc9798f71",
   "metadata": {
    "id": "f01dd675-8b06-4eb4-8506-103bc9798f71",
    "outputId": "5388b5aa-6560-44be-e74e-f3314fbcff4d"
   },
   "outputs": [
    {
     "data": {
      "text/plain": [
       "6"
      ]
     },
     "execution_count": 98,
     "metadata": {},
     "output_type": "execute_result"
    }
   ],
   "source": [
    "t.index(1)"
   ]
  },
  {
   "cell_type": "markdown",
   "id": "1e57c050",
   "metadata": {
    "id": "612aaa5c-378b-458f-a1cd-960f17179980",
    "outputId": "443f259e-51c1-4d3b-ff47-410c673851df"
   },
   "source": [
    "# Sets"
   ]
  },
  {
   "cell_type": "code",
   "execution_count": 99,
   "id": "e2abfe20-ff95-4afd-b290-0dd69622f4e8",
   "metadata": {
    "id": "e2abfe20-ff95-4afd-b290-0dd69622f4e8"
   },
   "outputs": [],
   "source": [
    "s={3,4,54,6,6,43,3,3,3,5,5,6}"
   ]
  },
  {
   "cell_type": "code",
   "execution_count": 100,
   "id": "a811ede4",
   "metadata": {},
   "outputs": [
    {
     "data": {
      "text/plain": [
       "{3, 4, 5, 6, 43, 54}"
      ]
     },
     "execution_count": 100,
     "metadata": {},
     "output_type": "execute_result"
    }
   ],
   "source": [
    "s"
   ]
  },
  {
   "cell_type": "code",
   "execution_count": 101,
   "id": "84f9f43f-816b-4923-9003-f4df3912da2d",
   "metadata": {
    "id": "84f9f43f-816b-4923-9003-f4df3912da2d",
    "outputId": "bc9a7c4e-35ae-4966-8be3-d949a6335021"
   },
   "outputs": [
    {
     "data": {
      "text/plain": [
       "set"
      ]
     },
     "execution_count": 101,
     "metadata": {},
     "output_type": "execute_result"
    }
   ],
   "source": [
    "type(s)"
   ]
  },
  {
   "cell_type": "code",
   "execution_count": 103,
   "id": "1b2b4610",
   "metadata": {},
   "outputs": [
    {
     "data": {
      "text/plain": [
       "[]"
      ]
     },
     "execution_count": 103,
     "metadata": {},
     "output_type": "execute_result"
    }
   ],
   "source": [
    "l1"
   ]
  },
  {
   "cell_type": "code",
   "execution_count": 105,
   "id": "18ac403c-a0eb-4022-9d80-8458cdb834a9",
   "metadata": {
    "id": "18ac403c-a0eb-4022-9d80-8458cdb834a9",
    "outputId": "059ad229-0642-4097-ed53-e3689f7ed227"
   },
   "outputs": [
    {
     "data": {
      "text/plain": [
       "{3, 4, 5, 6, 43, 54}"
      ]
     },
     "execution_count": 105,
     "metadata": {},
     "output_type": "execute_result"
    }
   ],
   "source": [
    "s"
   ]
  },
  {
   "cell_type": "code",
   "execution_count": 106,
   "id": "0656a088-722c-42e2-8523-0cedb1b83a86",
   "metadata": {
    "id": "0656a088-722c-42e2-8523-0cedb1b83a86"
   },
   "outputs": [],
   "source": [
    "s.add(40)"
   ]
  },
  {
   "cell_type": "code",
   "execution_count": 107,
   "id": "e5d55e06",
   "metadata": {},
   "outputs": [
    {
     "data": {
      "text/plain": [
       "{3, 4, 5, 6, 40, 43, 54}"
      ]
     },
     "execution_count": 107,
     "metadata": {},
     "output_type": "execute_result"
    }
   ],
   "source": [
    "s"
   ]
  },
  {
   "cell_type": "code",
   "execution_count": 108,
   "id": "a0a6143f-6edf-4d4b-8ca0-6a5e575c78ae",
   "metadata": {
    "id": "a0a6143f-6edf-4d4b-8ca0-6a5e575c78ae"
   },
   "outputs": [],
   "source": [
    "s.discard(40)"
   ]
  },
  {
   "cell_type": "code",
   "execution_count": 109,
   "id": "b0f6fdd0-0b64-4029-8e4e-4c0d57cb1c75",
   "metadata": {
    "id": "b0f6fdd0-0b64-4029-8e4e-4c0d57cb1c75",
    "outputId": "e217aac0-69bc-4798-f7e2-7cd8b1f6be5d"
   },
   "outputs": [
    {
     "data": {
      "text/plain": [
       "{3, 4, 5, 6, 43, 54}"
      ]
     },
     "execution_count": 109,
     "metadata": {},
     "output_type": "execute_result"
    }
   ],
   "source": [
    "s"
   ]
  },
  {
   "cell_type": "code",
   "execution_count": 110,
   "id": "958222e7-2099-4540-8d2f-fed31547da57",
   "metadata": {
    "id": "958222e7-2099-4540-8d2f-fed31547da57",
    "outputId": "9b897709-da0f-4934-ce4c-51f3530b48cc",
    "scrolled": true
   },
   "outputs": [
    {
     "data": {
      "text/plain": [
       "3"
      ]
     },
     "execution_count": 110,
     "metadata": {},
     "output_type": "execute_result"
    }
   ],
   "source": [
    "s.pop()"
   ]
  },
  {
   "cell_type": "code",
   "execution_count": 111,
   "id": "ec249ca6-2793-4406-b933-81eb29e229c3",
   "metadata": {
    "id": "ec249ca6-2793-4406-b933-81eb29e229c3",
    "outputId": "f9b65736-a44b-46b1-aa3c-24044101c858"
   },
   "outputs": [
    {
     "data": {
      "text/plain": [
       "4"
      ]
     },
     "execution_count": 111,
     "metadata": {},
     "output_type": "execute_result"
    }
   ],
   "source": [
    "s.pop()"
   ]
  },
  {
   "cell_type": "code",
   "execution_count": 112,
   "id": "a61c4e64-7867-4169-b282-3fc2f96b5999",
   "metadata": {
    "id": "a61c4e64-7867-4169-b282-3fc2f96b5999",
    "outputId": "3870fa52-db28-4968-b744-95e6b8717660"
   },
   "outputs": [
    {
     "data": {
      "text/plain": [
       "5"
      ]
     },
     "execution_count": 112,
     "metadata": {},
     "output_type": "execute_result"
    }
   ],
   "source": [
    "s.pop()"
   ]
  },
  {
   "cell_type": "code",
   "execution_count": 113,
   "id": "a8b7e22c",
   "metadata": {},
   "outputs": [
    {
     "data": {
      "text/plain": [
       "{6, 43, 54}"
      ]
     },
     "execution_count": 113,
     "metadata": {},
     "output_type": "execute_result"
    }
   ],
   "source": [
    "s"
   ]
  },
  {
   "cell_type": "code",
   "execution_count": 114,
   "id": "66649867-49f9-4463-b074-bbb35bf315b3",
   "metadata": {
    "id": "66649867-49f9-4463-b074-bbb35bf315b3"
   },
   "outputs": [],
   "source": [
    "s.remove(54)"
   ]
  },
  {
   "cell_type": "code",
   "execution_count": 115,
   "id": "7138fc21-668b-4865-a899-3ad9566a4d92",
   "metadata": {
    "id": "7138fc21-668b-4865-a899-3ad9566a4d92",
    "outputId": "2825db00-cb6f-4c19-aae9-ce75145f9240"
   },
   "outputs": [
    {
     "data": {
      "text/plain": [
       "{6, 43}"
      ]
     },
     "execution_count": 115,
     "metadata": {},
     "output_type": "execute_result"
    }
   ],
   "source": [
    "s"
   ]
  },
  {
   "cell_type": "markdown",
   "id": "a92d3f47",
   "metadata": {},
   "source": [
    "# Dict Functions"
   ]
  },
  {
   "cell_type": "code",
   "execution_count": 116,
   "id": "257f1f6e-a805-473e-8df2-a90db87f8492",
   "metadata": {
    "id": "257f1f6e-a805-473e-8df2-a90db87f8492",
    "outputId": "98cc1b16-ab8f-41c4-fcd1-a414e247b5b0"
   },
   "outputs": [],
   "source": [
    "d1 = {'name': 'Gaurav',\n",
    " 'subject': ['data science ', 'big data ', 'data analytics'],\n",
    " 'number': 43242424}"
   ]
  },
  {
   "cell_type": "code",
   "execution_count": 117,
   "id": "dcf55d87-11d7-4e2e-88b0-84626bed8c9e",
   "metadata": {
    "id": "dcf55d87-11d7-4e2e-88b0-84626bed8c9e",
    "outputId": "e7170a08-4c34-45cb-9f33-ac7c1c7a4bbc"
   },
   "outputs": [
    {
     "data": {
      "text/plain": [
       "{'name': 'Gaurav',\n",
       " 'subject': ['data science ', 'big data ', 'data analytics'],\n",
       " 'number': 43242424}"
      ]
     },
     "execution_count": 117,
     "metadata": {},
     "output_type": "execute_result"
    }
   ],
   "source": [
    "d1"
   ]
  },
  {
   "cell_type": "code",
   "execution_count": 118,
   "id": "5d36af63",
   "metadata": {},
   "outputs": [
    {
     "data": {
      "text/plain": [
       "['name', 'subject', 'number']"
      ]
     },
     "execution_count": 118,
     "metadata": {},
     "output_type": "execute_result"
    }
   ],
   "source": [
    "list(d1)"
   ]
  },
  {
   "cell_type": "code",
   "execution_count": 119,
   "id": "9bb636a4",
   "metadata": {},
   "outputs": [
    {
     "data": {
      "text/plain": [
       "['data science ', 'big data ', 'data analytics']"
      ]
     },
     "execution_count": 119,
     "metadata": {},
     "output_type": "execute_result"
    }
   ],
   "source": [
    "d1['subject']"
   ]
  },
  {
   "cell_type": "code",
   "execution_count": 128,
   "id": "573e5141",
   "metadata": {},
   "outputs": [
    {
     "data": {
      "text/plain": [
       "{'name': 'Gaurav',\n",
       " 'subject': ['data science ', 'big data ', 'data analytics'],\n",
       " 'number': 43242424}"
      ]
     },
     "execution_count": 128,
     "metadata": {},
     "output_type": "execute_result"
    }
   ],
   "source": [
    "d1"
   ]
  },
  {
   "cell_type": "code",
   "execution_count": 120,
   "id": "f9b4504a",
   "metadata": {},
   "outputs": [
    {
     "data": {
      "text/plain": [
       "dict_keys(['name', 'subject', 'number'])"
      ]
     },
     "execution_count": 120,
     "metadata": {},
     "output_type": "execute_result"
    }
   ],
   "source": [
    "d1.keys()"
   ]
  },
  {
   "cell_type": "code",
   "execution_count": 121,
   "id": "1bf018c2-17dc-4606-9f1b-f66ae7af2310",
   "metadata": {
    "id": "1bf018c2-17dc-4606-9f1b-f66ae7af2310",
    "outputId": "33dd89bf-72e5-475f-d760-0bf6098d5d01"
   },
   "outputs": [
    {
     "data": {
      "text/plain": [
       "['name', 'subject', 'number']"
      ]
     },
     "execution_count": 121,
     "metadata": {},
     "output_type": "execute_result"
    }
   ],
   "source": [
    "list(d1.keys())"
   ]
  },
  {
   "cell_type": "code",
   "execution_count": 122,
   "id": "16765e8e-edb4-455a-a946-d78ccfb76112",
   "metadata": {
    "id": "16765e8e-edb4-455a-a946-d78ccfb76112",
    "outputId": "064ff97e-f96f-4a99-cbb6-d4a36c267b01"
   },
   "outputs": [
    {
     "data": {
      "text/plain": [
       "dict_values(['Gaurav', ['data science ', 'big data ', 'data analytics'], 43242424])"
      ]
     },
     "execution_count": 122,
     "metadata": {},
     "output_type": "execute_result"
    }
   ],
   "source": [
    "d1.values()"
   ]
  },
  {
   "cell_type": "code",
   "execution_count": 126,
   "id": "f4511bbf-36d1-447e-b1bb-c14e190ae37c",
   "metadata": {
    "id": "f4511bbf-36d1-447e-b1bb-c14e190ae37c",
    "outputId": "76f39113-9d1a-4cef-b64f-911478d102c2"
   },
   "outputs": [
    {
     "data": {
      "text/plain": [
       "dict_items([('name', 'Gaurav'), ('subject', ['data science ', 'big data ', 'data analytics']), ('number', 43242424)])"
      ]
     },
     "execution_count": 126,
     "metadata": {},
     "output_type": "execute_result"
    }
   ],
   "source": [
    "d1.items()"
   ]
  },
  {
   "cell_type": "code",
   "execution_count": 127,
   "id": "6d94c34e",
   "metadata": {},
   "outputs": [
    {
     "data": {
      "text/plain": [
       "{'name': 'Gaurav',\n",
       " 'subject': ['data science ', 'big data ', 'data analytics'],\n",
       " 'number': 43242424}"
      ]
     },
     "execution_count": 127,
     "metadata": {},
     "output_type": "execute_result"
    }
   ],
   "source": [
    "d1"
   ]
  },
  {
   "cell_type": "code",
   "execution_count": 128,
   "id": "c6e6959c-91e5-46e5-9b07-4d9e7b0fdc6b",
   "metadata": {
    "id": "c6e6959c-91e5-46e5-9b07-4d9e7b0fdc6b",
    "outputId": "0583a5b7-701d-4571-b225-0c36a130b1e2"
   },
   "outputs": [
    {
     "data": {
      "text/plain": [
       "['data science ', 'big data ', 'data analytics']"
      ]
     },
     "execution_count": 128,
     "metadata": {},
     "output_type": "execute_result"
    }
   ],
   "source": [
    "d1['subject']"
   ]
  },
  {
   "cell_type": "code",
   "execution_count": 132,
   "id": "9ffac501-808f-4f58-9524-00c63c8b0903",
   "metadata": {
    "id": "9ffac501-808f-4f58-9524-00c63c8b0903",
    "outputId": "ee11fe87-ad17-4320-9620-3ef76d5a52c5"
   },
   "outputs": [
    {
     "data": {
      "text/plain": [
       "'Gaurav'"
      ]
     },
     "execution_count": 132,
     "metadata": {},
     "output_type": "execute_result"
    }
   ],
   "source": [
    "d1.pop('name')"
   ]
  },
  {
   "cell_type": "code",
   "execution_count": 133,
   "id": "9438b578",
   "metadata": {},
   "outputs": [
    {
     "data": {
      "text/plain": [
       "{'number': 43242424}"
      ]
     },
     "execution_count": 133,
     "metadata": {},
     "output_type": "execute_result"
    }
   ],
   "source": [
    "d1"
   ]
  },
  {
   "cell_type": "code",
   "execution_count": 134,
   "id": "73874b8b-49be-40c9-9c49-9a0d85ab75b6",
   "metadata": {
    "id": "73874b8b-49be-40c9-9c49-9a0d85ab75b6"
   },
   "outputs": [],
   "source": [
    "d1['test'] = 785421"
   ]
  },
  {
   "cell_type": "code",
   "execution_count": 135,
   "id": "6babb8a9-34aa-4990-b490-95f9ba3104c5",
   "metadata": {
    "id": "6babb8a9-34aa-4990-b490-95f9ba3104c5",
    "outputId": "a7df4cd4-675a-4d97-e2b2-aee1d071cd17"
   },
   "outputs": [
    {
     "data": {
      "text/plain": [
       "{'number': 43242424, 'test': 785421}"
      ]
     },
     "execution_count": 135,
     "metadata": {},
     "output_type": "execute_result"
    }
   ],
   "source": [
    "d1"
   ]
  },
  {
   "cell_type": "code",
   "execution_count": 136,
   "id": "dbbe8722-e8be-45ee-bb4d-03eaf9cf48af",
   "metadata": {
    "id": "dbbe8722-e8be-45ee-bb4d-03eaf9cf48af",
    "outputId": "03bb2500-3288-46e2-eb1e-6462798c4533"
   },
   "outputs": [
    {
     "data": {
      "text/plain": [
       "'547210asdf'"
      ]
     },
     "execution_count": 136,
     "metadata": {},
     "output_type": "execute_result"
    }
   ],
   "source": [
    "s1"
   ]
  },
  {
   "cell_type": "code",
   "execution_count": 137,
   "id": "a2e80670-c53f-4d98-9de1-f9e83d8374dd",
   "metadata": {
    "id": "a2e80670-c53f-4d98-9de1-f9e83d8374dd",
    "outputId": "3167eaa3-5d93-45a7-a0db-f7339009c573"
   },
   "outputs": [
    {
     "data": {
      "text/plain": [
       "{6, 43}"
      ]
     },
     "execution_count": 137,
     "metadata": {},
     "output_type": "execute_result"
    }
   ],
   "source": [
    "s"
   ]
  },
  {
   "cell_type": "code",
   "execution_count": 138,
   "id": "23d10023-0618-4c27-a071-d378d9e75a5d",
   "metadata": {
    "id": "23d10023-0618-4c27-a071-d378d9e75a5d",
    "outputId": "91d18888-69cc-4658-f01a-96dec8e4d7b2"
   },
   "outputs": [
    {
     "data": {
      "text/plain": [
       "(6, 43)"
      ]
     },
     "execution_count": 138,
     "metadata": {},
     "output_type": "execute_result"
    }
   ],
   "source": [
    "tuple(s)"
   ]
  },
  {
   "cell_type": "code",
   "execution_count": 139,
   "id": "529273ba-55ed-4113-9eb9-509940198d10",
   "metadata": {
    "id": "529273ba-55ed-4113-9eb9-509940198d10",
    "outputId": "da4c76b6-b18a-4646-e1df-56ebfdac8fcb"
   },
   "outputs": [
    {
     "data": {
      "text/plain": [
       "'547210asdf'"
      ]
     },
     "execution_count": 139,
     "metadata": {},
     "output_type": "execute_result"
    }
   ],
   "source": [
    "s1"
   ]
  },
  {
   "cell_type": "code",
   "execution_count": 140,
   "id": "ded2efb8-1840-4112-bb4e-c122d4b33522",
   "metadata": {
    "id": "ded2efb8-1840-4112-bb4e-c122d4b33522",
    "outputId": "bfa123e2-b514-48b6-d083-2a125d97f2a3"
   },
   "outputs": [
    {
     "ename": "NameError",
     "evalue": "name 'd' is not defined",
     "output_type": "error",
     "traceback": [
      "\u001b[1;31m---------------------------------------------------------------------------\u001b[0m",
      "\u001b[1;31mNameError\u001b[0m                                 Traceback (most recent call last)",
      "\u001b[1;32m~\\AppData\\Local\\Temp\\ipykernel_15028\\3161387801.py\u001b[0m in \u001b[0;36m<module>\u001b[1;34m\u001b[0m\n\u001b[1;32m----> 1\u001b[1;33m \u001b[0md\u001b[0m\u001b[1;33m\u001b[0m\u001b[1;33m\u001b[0m\u001b[0m\n\u001b[0m",
      "\u001b[1;31mNameError\u001b[0m: name 'd' is not defined"
     ]
    }
   ],
   "source": [
    "d"
   ]
  },
  {
   "cell_type": "code",
   "execution_count": 141,
   "id": "25463d01-bd56-4708-9b97-5f7cbc7eb271",
   "metadata": {
    "id": "25463d01-bd56-4708-9b97-5f7cbc7eb271",
    "outputId": "115863e3-fb12-4760-f4c8-703557c1a515"
   },
   "outputs": [
    {
     "data": {
      "text/plain": [
       "{'number': 43242424, 'test': 785421}"
      ]
     },
     "execution_count": 141,
     "metadata": {},
     "output_type": "execute_result"
    }
   ],
   "source": [
    "d1"
   ]
  },
  {
   "cell_type": "code",
   "execution_count": 142,
   "id": "410f3cdc-95e6-41a3-aae3-30fa6c0972b8",
   "metadata": {
    "id": "410f3cdc-95e6-41a3-aae3-30fa6c0972b8",
    "outputId": "0a08abd6-d8c7-4cc8-c93f-b859d5d8a2be"
   },
   "outputs": [],
   "source": [
    "d4 = {'course': ['dsa', 'java', 'webdev', 'blockchain', 'cloud'],\n",
    " 'mentor': ('gaurav', 'krishna', 'aditiya', 'vinay', 'sunny '),\n",
    " 'price': {3500, 11000, 15000, 20000},\n",
    " 'duration': 1,\n",
    " 'access year': 1,\n",
    " 'syllabus': {'python': ['core python',\n",
    "   'oops',\n",
    "   'pandas',\n",
    "   'numpy',\n",
    "   'db',\n",
    "   'mongodb'],\n",
    "  'ml': ['supervised', 'unsupervised', 'semisupervised']},\n",
    " 'course ': ['dsa', 'java', 'webdev', 'blockchain', 'cloud', 'python']}"
   ]
  },
  {
   "cell_type": "code",
   "execution_count": 144,
   "id": "b5d97918-7d26-4004-bc44-0a4e97a31f18",
   "metadata": {
    "id": "b5d97918-7d26-4004-bc44-0a4e97a31f18"
   },
   "outputs": [],
   "source": [
    "d4['course'] = ['dsa', 'java', 'webdev', 'blockchain', 'cloud' , 'python']"
   ]
  },
  {
   "cell_type": "code",
   "execution_count": 155,
   "id": "0227c64f",
   "metadata": {},
   "outputs": [
    {
     "data": {
      "text/plain": [
       "{'course': ['dsa', 'java', 'oops', 'webdev', 'blockchain', 'cloud'],\n",
       " 'mentor': ('gaurav', 'krishna', 'aditiya', 'vinay', 'sunny '),\n",
       " 'price': {3500, 11000, 15000, 20000},\n",
       " 'duration': 1,\n",
       " 'access year': 1,\n",
       " 'syllabus': {'python': ['core python',\n",
       "   'oops',\n",
       "   'pandas',\n",
       "   'numpy',\n",
       "   'db',\n",
       "   'mongodb'],\n",
       "  'ml': ['supervised', 'unsupervised', 'semisupervised']},\n",
       " 'course ': ['dsa', 'java', 'webdev', 'blockchain', 'cloud', 'python']}"
      ]
     },
     "execution_count": 155,
     "metadata": {},
     "output_type": "execute_result"
    }
   ],
   "source": [
    "d4"
   ]
  },
  {
   "cell_type": "code",
   "execution_count": 145,
   "id": "9ca17bec-d656-4b3e-9d46-18daadd148d4",
   "metadata": {
    "id": "9ca17bec-d656-4b3e-9d46-18daadd148d4",
    "outputId": "1534b716-c9ab-4840-8bf2-91f0df42a7f3"
   },
   "outputs": [
    {
     "data": {
      "text/plain": [
       "{'course': ['dsa', 'java', 'webdev', 'blockchain', 'cloud', 'python'],\n",
       " 'mentor': ('gaurav', 'krishna', 'aditiya', 'vinay', 'sunny '),\n",
       " 'price': {3500, 11000, 15000, 20000},\n",
       " 'duration': 1,\n",
       " 'access year': 1,\n",
       " 'syllabus': {'python': ['core python',\n",
       "   'oops',\n",
       "   'pandas',\n",
       "   'numpy',\n",
       "   'db',\n",
       "   'mongodb'],\n",
       "  'ml': ['supervised', 'unsupervised', 'semisupervised']},\n",
       " 'course ': ['dsa', 'java', 'webdev', 'blockchain', 'cloud', 'python']}"
      ]
     },
     "execution_count": 145,
     "metadata": {},
     "output_type": "execute_result"
    }
   ],
   "source": [
    "d4"
   ]
  },
  {
   "cell_type": "code",
   "execution_count": null,
   "id": "3e7b0e39",
   "metadata": {},
   "outputs": [],
   "source": []
  },
  {
   "cell_type": "code",
   "execution_count": 154,
   "id": "bfdf1104-0678-488c-a7db-45750192f18e",
   "metadata": {
    "id": "bfdf1104-0678-488c-a7db-45750192f18e"
   },
   "outputs": [],
   "source": [
    "d4['key1'] = \"values\""
   ]
  },
  {
   "cell_type": "code",
   "execution_count": 155,
   "id": "3203c3ec-e29f-46c4-825b-7863731f6cfb",
   "metadata": {
    "id": "3203c3ec-e29f-46c4-825b-7863731f6cfb",
    "outputId": "a03d3c79-daaf-4dea-a00f-f988b6695bb2"
   },
   "outputs": [
    {
     "data": {
      "text/plain": [
       "{'course': ['dsa', 'java', 'webdev', 'blockchain', 'cloud', 'python'],\n",
       " 'mentor': ('gaurav', 'krishna', 'aditiya', 'vinay', 'sunny '),\n",
       " 'price': {3500, 11000, 15000, 20000},\n",
       " 'duration': 1,\n",
       " 'access year': 1,\n",
       " 'syllabus': {'python': ['core python',\n",
       "   'oops',\n",
       "   'pandas',\n",
       "   'numpy',\n",
       "   'db',\n",
       "   'mongodb'],\n",
       "  'ml': ['supervised', 'unsupervised', 'semisupervised']},\n",
       " 'course ': ['dsa', 'java', 'webdev', 'blockchain', 'cloud', 'python'],\n",
       " 'key1': 'values'}"
      ]
     },
     "execution_count": 155,
     "metadata": {},
     "output_type": "execute_result"
    }
   ],
   "source": [
    "d4"
   ]
  },
  {
   "cell_type": "code",
   "execution_count": null,
   "id": "c809bdd6",
   "metadata": {},
   "outputs": [],
   "source": []
  },
  {
   "cell_type": "code",
   "execution_count": null,
   "id": "94ef7736",
   "metadata": {},
   "outputs": [],
   "source": []
  },
  {
   "cell_type": "code",
   "execution_count": null,
   "id": "df40ec83",
   "metadata": {},
   "outputs": [],
   "source": []
  }
 ],
 "metadata": {
  "colab": {
   "provenance": []
  },
  "kernelspec": {
   "display_name": "Python 3 (ipykernel)",
   "language": "python",
   "name": "python3"
  },
  "language_info": {
   "codemirror_mode": {
    "name": "ipython",
    "version": 3
   },
   "file_extension": ".py",
   "mimetype": "text/x-python",
   "name": "python",
   "nbconvert_exporter": "python",
   "pygments_lexer": "ipython3",
   "version": "3.9.13"
  }
 },
 "nbformat": 4,
 "nbformat_minor": 5
}
