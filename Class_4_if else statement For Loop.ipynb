{
 "cells": [
  {
   "cell_type": "raw",
   "id": "f589f451",
   "metadata": {},
   "source": [
    "if condition:\n",
    "    code\n",
    "else:\n",
    "    code()"
   ]
  },
  {
   "cell_type": "raw",
   "id": "046d51f5",
   "metadata": {},
   "source": [
    "if condition:\n",
    "    code\n",
    "elif condition:\n",
    "    code\n",
    "elif condition:\n",
    "    code\n",
    "else:\n",
    "    code\n",
    "    \n"
   ]
  },
  {
   "cell_type": "code",
   "execution_count": 8,
   "id": "f62f4062",
   "metadata": {},
   "outputs": [],
   "source": [
    "salary = 1000000"
   ]
  },
  {
   "cell_type": "code",
   "execution_count": 9,
   "id": "757dd7dc",
   "metadata": {},
   "outputs": [
    {
     "name": "stdout",
     "output_type": "stream",
     "text": [
      "good\n"
     ]
    }
   ],
   "source": [
    "if salary >= 1000000:\n",
    "    \n",
    "    print('good')\n",
    "else:\n",
    "    print('ok')\n"
   ]
  },
  {
   "cell_type": "code",
   "execution_count": 13,
   "id": "daa9bcc9",
   "metadata": {},
   "outputs": [
    {
     "name": "stdout",
     "output_type": "stream",
     "text": [
      "ok\n"
     ]
    }
   ],
   "source": [
    "salary = 250000\n",
    "if salary >= 5000000:\n",
    "    print('good')\n",
    "    \n",
    "elif salary < 5000000 and salary >1100000:\n",
    "    print('avg')\n",
    "    \n",
    "else:\n",
    "    print('ok')"
   ]
  },
  {
   "cell_type": "code",
   "execution_count": null,
   "id": "31bfc0cb",
   "metadata": {},
   "outputs": [],
   "source": []
  },
  {
   "cell_type": "code",
   "execution_count": null,
   "id": "bccc4c4a",
   "metadata": {},
   "outputs": [],
   "source": []
  },
  {
   "cell_type": "code",
   "execution_count": 19,
   "id": "081e7a01",
   "metadata": {
    "scrolled": true
   },
   "outputs": [
    {
     "name": "stdout",
     "output_type": "stream",
     "text": [
      "enter your age:50\n",
      "you are allowed to drive\n"
     ]
    }
   ],
   "source": [
    "age=int(input('enter your age:'))\n",
    "if age>80:\n",
    "    print(\"you are not allowed for driving\")\n",
    "elif age < 18:\n",
    "    print(\"you are not allowed for driving\")\n",
    "else :\n",
    "    print(\"you are allowed to drive\")"
   ]
  },
  {
   "cell_type": "code",
   "execution_count": 21,
   "id": "73a47689-c829-4352-8c74-45f10dd56020",
   "metadata": {
    "id": "73a47689-c829-4352-8c74-45f10dd56020"
   },
   "outputs": [
    {
     "name": "stdout",
     "output_type": "stream",
     "text": [
      "874\n",
      "asdf\n"
     ]
    }
   ],
   "source": [
    "x=int(input())\n",
    "\n",
    "if x==23:\n",
    "    print(\"your are inside the if block\")\n",
    "else:\n",
    "    print('asdf')\n"
   ]
  },
  {
   "cell_type": "code",
   "execution_count": 31,
   "id": "cb9bc683-3a30-4e5e-b491-60addbe37b00",
   "metadata": {
    "id": "cb9bc683-3a30-4e5e-b491-60addbe37b00",
    "outputId": "6bbc262d-7f94-4362-ffa3-464b91466f4c"
   },
   "outputs": [
    {
     "name": "stdout",
     "output_type": "stream",
     "text": [
      "excellent performance your grade is A+\n",
      "excellent performance your grade is A\n",
      "excellent performance your grade is C\n"
     ]
    }
   ],
   "source": [
    "score=75\n",
    "\n",
    "if score >=90:\n",
    "    print(\"excellent performance your grade is A+\")\n",
    "elif score >=80:\n",
    "    print(\"excellent performance your grade is A\")\n",
    "elif score >=70:\n",
    "    print(\"excellent performance your grade is B\")\n",
    "else:\n",
    "    print(\"excellent performance your grade is C\")\n"
   ]
  },
  {
   "cell_type": "code",
   "execution_count": 38,
   "id": "fdb4cee1-35c8-45d1-b490-78f47cfc95c7",
   "metadata": {
    "id": "fdb4cee1-35c8-45d1-b490-78f47cfc95c7",
    "outputId": "b9898b1a-5299-427a-be89-28bde1f8f12e",
    "scrolled": true
   },
   "outputs": [
    {
     "name": "stdout",
     "output_type": "stream",
     "text": [
      "Please enter the time 16\n",
      "Afternoon\n"
     ]
    }
   ],
   "source": [
    "time = int(input(\"Please enter the time \"))\n",
    "\n",
    "if time < 0:\n",
    "        print(\"Invalid\")\n",
    "elif 0 <= time <= 5:\n",
    "        print(\"Night\")\n",
    "elif 6<= time <= 11:\n",
    "        print(\"Morning\")\n",
    "elif 12 <= time <= 16:\n",
    "        print(\"Afternoon\")\n",
    "elif 17 <= time <= 23:\n",
    "        print(\"Evening\")\n",
    "else:\n",
    "        print(\"Invalid\")\n"
   ]
  },
  {
   "cell_type": "code",
   "execution_count": 25,
   "id": "4ae956c8-ff4e-4b99-9d9a-3c20a46daa37",
   "metadata": {
    "id": "4ae956c8-ff4e-4b99-9d9a-3c20a46daa37"
   },
   "outputs": [],
   "source": [
    "# find largest number from 3 given numbers"
   ]
  },
  {
   "cell_type": "code",
   "execution_count": 40,
   "id": "412cdcc1-ff77-429b-b6d5-def1422c9704",
   "metadata": {
    "id": "412cdcc1-ff77-429b-b6d5-def1422c9704",
    "outputId": "6c89d42e-a8e8-481b-87c0-3623466fb019"
   },
   "outputs": [
    {
     "name": "stdout",
     "output_type": "stream",
     "text": [
      "largest number is 300\n"
     ]
    }
   ],
   "source": [
    "num1=100\n",
    "num2=200\n",
    "num3=300\n",
    "\n",
    "if num1 == num2 and num1 == num3:\n",
    "    print(\"All are same\")\n",
    "\n",
    "elif (num1>=num2) and (num1>=num3):\n",
    "    largest=num1\n",
    "    print(\"largest number is\",largest)\n",
    "elif (num2>=num1) and (num2>=num3):\n",
    "    largest=num2\n",
    "    print(\"largest number is\",largest)\n",
    "else:\n",
    "    largest=num3\n",
    "    \n",
    "    print(\"largest number is\",largest)"
   ]
  },
  {
   "cell_type": "code",
   "execution_count": 40,
   "id": "d6a42446-f19e-4955-9429-e9bb2b868550",
   "metadata": {
    "id": "d6a42446-f19e-4955-9429-e9bb2b868550",
    "outputId": "52a1b12b-fe21-4afd-e453-e8dbe3687a7f"
   },
   "outputs": [
    {
     "name": "stdout",
     "output_type": "stream",
     "text": [
      "enter first number :- 7\n",
      "enter operator (+,-,*,/,%) :- =\n",
      "enter second number :- 4\n",
      "invalid operation\n"
     ]
    }
   ],
   "source": [
    "first = int(input(\"enter first number :- \"))\n",
    "operator = input(\"enter operator (+,-,*,/,%) :- \")\n",
    "second = int(input(\"enter second number :- \"))\n",
    "\n",
    "\n",
    "if operator ==  \"+\":\n",
    "    print(first+second)\n",
    "elif operator == \"-\":\n",
    "    print(first-second)\n",
    "elif operator == \"*\":\n",
    "    print(first*second)\n",
    "elif operator == \"/\":\n",
    "    print(first/second)\n",
    "elif operator == \"%\":\n",
    "    print(first%second)\n",
    "else:\n",
    "    print(\"invalid operation\")\n"
   ]
  },
  {
   "cell_type": "code",
   "execution_count": 37,
   "id": "294d881e-48e5-4520-a14a-f2d1c688697a",
   "metadata": {
    "id": "294d881e-48e5-4520-a14a-f2d1c688697a",
    "outputId": "08ab3619-ab95-4ece-9baf-aadc629d94c4"
   },
   "outputs": [
    {
     "name": "stdout",
     "output_type": "stream",
     "text": [
      "number is 0\n"
     ]
    }
   ],
   "source": [
    "num = 0\n",
    "\n",
    "if (num <= 0):\n",
    "    if num == 0:\n",
    "        print(\"number is 0\")\n",
    "    else:\n",
    "        print(\"number is negative\")\n",
    "else:\n",
    "    print(\"number is positive\")"
   ]
  },
  {
   "cell_type": "code",
   "execution_count": 6,
   "id": "7ebe6231",
   "metadata": {},
   "outputs": [
    {
     "data": {
      "text/plain": [
       "range(0, 10)"
      ]
     },
     "execution_count": 6,
     "metadata": {},
     "output_type": "execute_result"
    }
   ],
   "source": [
    "range(10)"
   ]
  },
  {
   "cell_type": "code",
   "execution_count": 9,
   "id": "97833c61",
   "metadata": {},
   "outputs": [
    {
     "data": {
      "text/plain": [
       "{0, 1, 2, 3, 4, 5, 6, 7, 8, 9}"
      ]
     },
     "execution_count": 9,
     "metadata": {},
     "output_type": "execute_result"
    }
   ],
   "source": [
    "set(range(10))"
   ]
  },
  {
   "cell_type": "code",
   "execution_count": 14,
   "id": "26b01efc",
   "metadata": {
    "scrolled": true
   },
   "outputs": [
    {
     "data": {
      "text/plain": [
       "[200, 160, 120, 80, 40]"
      ]
     },
     "execution_count": 14,
     "metadata": {},
     "output_type": "execute_result"
    }
   ],
   "source": [
    "list(range(200,20,-40))"
   ]
  },
  {
   "cell_type": "code",
   "execution_count": 15,
   "id": "d80600bc-cc1a-4058-9aa3-417132401fbf",
   "metadata": {
    "id": "d80600bc-cc1a-4058-9aa3-417132401fbf",
    "outputId": "6f9405c3-0d31-47f2-9977-ce8dfd58573f"
   },
   "outputs": [
    {
     "data": {
      "text/plain": [
       "range(10, 100, 10)"
      ]
     },
     "execution_count": 15,
     "metadata": {},
     "output_type": "execute_result"
    }
   ],
   "source": [
    "range(10,100,10)\n",
    "#range(start,stop,step)"
   ]
  },
  {
   "cell_type": "code",
   "execution_count": 16,
   "id": "7766a9a8",
   "metadata": {},
   "outputs": [
    {
     "data": {
      "text/plain": [
       "[10, 20, 30, 40, 50, 60, 70, 80, 90]"
      ]
     },
     "execution_count": 16,
     "metadata": {},
     "output_type": "execute_result"
    }
   ],
   "source": [
    "list(range(10, 100, 10))"
   ]
  },
  {
   "cell_type": "code",
   "execution_count": 17,
   "id": "396e279d-47a4-4719-b16d-fe598bfac07f",
   "metadata": {
    "id": "396e279d-47a4-4719-b16d-fe598bfac07f",
    "outputId": "82144c2d-13a8-4fb7-89d6-a9faa9803873"
   },
   "outputs": [
    {
     "data": {
      "text/plain": [
       "range(10, 100, 10)"
      ]
     },
     "execution_count": 17,
     "metadata": {},
     "output_type": "execute_result"
    }
   ],
   "source": [
    "range(10,100,10)"
   ]
  },
  {
   "cell_type": "code",
   "execution_count": 18,
   "id": "a75a0931-3c29-45c4-af9c-e65ca4892971",
   "metadata": {
    "id": "a75a0931-3c29-45c4-af9c-e65ca4892971",
    "outputId": "85c7062d-5180-4b2a-bdba-12296f5db1ed"
   },
   "outputs": [
    {
     "data": {
      "text/plain": [
       "[0, 1, 2, 3, 4, 5, 6, 7, 8, 9]"
      ]
     },
     "execution_count": 18,
     "metadata": {},
     "output_type": "execute_result"
    }
   ],
   "source": [
    "list(range(10))"
   ]
  },
  {
   "cell_type": "code",
   "execution_count": 19,
   "id": "ac797714-2419-445e-b49c-78304249b25a",
   "metadata": {
    "id": "ac797714-2419-445e-b49c-78304249b25a",
    "outputId": "15a85c31-dec2-4528-af58-c71f6c321354",
    "scrolled": true
   },
   "outputs": [
    {
     "data": {
      "text/plain": [
       "[100, 200, 300, 400, 500, 600, 700, 800, 900]"
      ]
     },
     "execution_count": 19,
     "metadata": {},
     "output_type": "execute_result"
    }
   ],
   "source": [
    "list(range(100,1000,100))"
   ]
  },
  {
   "cell_type": "code",
   "execution_count": 20,
   "id": "7cab6206-7fbe-4cd2-8f1e-7666de58001d",
   "metadata": {
    "id": "7cab6206-7fbe-4cd2-8f1e-7666de58001d"
   },
   "outputs": [],
   "source": [
    "#list(range(45,78))"
   ]
  },
  {
   "cell_type": "code",
   "execution_count": 21,
   "id": "176eeffc",
   "metadata": {},
   "outputs": [
    {
     "data": {
      "text/plain": [
       "[0, -1, -2, -3, -4, -5, -6, -7, -8, -9]"
      ]
     },
     "execution_count": 21,
     "metadata": {},
     "output_type": "execute_result"
    }
   ],
   "source": [
    "list(range(0,-10,-1))"
   ]
  },
  {
   "cell_type": "code",
   "execution_count": null,
   "id": "30ba9a0d",
   "metadata": {},
   "outputs": [],
   "source": []
  },
  {
   "cell_type": "code",
   "execution_count": null,
   "id": "c393eb3d",
   "metadata": {},
   "outputs": [],
   "source": []
  },
  {
   "cell_type": "code",
   "execution_count": 22,
   "id": "915e7e73-266a-4fff-840a-6630c9a95988",
   "metadata": {
    "id": "915e7e73-266a-4fff-840a-6630c9a95988",
    "outputId": "126a4fe2-8d47-4467-d399-a399d3ead2ae"
   },
   "outputs": [
    {
     "data": {
      "text/plain": [
       "[2, 4, 6, 8, 10]"
      ]
     },
     "execution_count": 22,
     "metadata": {},
     "output_type": "execute_result"
    }
   ],
   "source": [
    "list(range(2,12,2))"
   ]
  },
  {
   "cell_type": "raw",
   "id": "cc631bb9",
   "metadata": {},
   "source": [
    "for anyvalue in (range or iterate_value):\n",
    "    code"
   ]
  },
  {
   "cell_type": "code",
   "execution_count": 25,
   "id": "c548e808-0462-493a-ba93-fc3ea345d87b",
   "metadata": {
    "id": "c548e808-0462-493a-ba93-fc3ea345d87b",
    "outputId": "6c656b76-0ed2-4d3e-9fcf-a1670db6c85f",
    "scrolled": true
   },
   "outputs": [
    {
     "name": "stdout",
     "output_type": "stream",
     "text": [
      "0\n",
      "1\n",
      "2\n",
      "3\n",
      "4\n",
      "5\n",
      "6\n",
      "7\n",
      "8\n",
      "9\n"
     ]
    }
   ],
   "source": [
    "for i in range(10):\n",
    "    print(i)"
   ]
  },
  {
   "cell_type": "code",
   "execution_count": null,
   "id": "c953b408",
   "metadata": {},
   "outputs": [],
   "source": []
  },
  {
   "cell_type": "code",
   "execution_count": 30,
   "id": "fed4c5c7-759a-4ca5-add2-ad96f3a6ac1f",
   "metadata": {
    "id": "fed4c5c7-759a-4ca5-add2-ad96f3a6ac1f",
    "outputId": "9a9863b7-07d2-44aa-dff3-c59aeec8a2f9"
   },
   "outputs": [
    {
     "name": "stdout",
     "output_type": "stream",
     "text": [
      "a\n",
      "b\n",
      "c\n"
     ]
    }
   ],
   "source": [
    "for l in [\"a\",\"b\",\"c\"]:\n",
    "    print(l)\n",
    "    "
   ]
  },
  {
   "cell_type": "code",
   "execution_count": 42,
   "id": "c93f7876",
   "metadata": {},
   "outputs": [
    {
     "name": "stdout",
     "output_type": "stream",
     "text": [
      "Soumya\n",
      "Soumya\n",
      "Soumya\n",
      "Soumya\n",
      "Soumya\n",
      "Soumya\n",
      "Soumya\n",
      "Soumya\n",
      "Soumya\n",
      "Soumya\n"
     ]
    }
   ],
   "source": [
    "for z in range(10):\n",
    "    print(\"Soumya\")"
   ]
  },
  {
   "cell_type": "code",
   "execution_count": 44,
   "id": "62eaa8f1-9847-4ea9-ac78-990717088e74",
   "metadata": {
    "id": "62eaa8f1-9847-4ea9-ac78-990717088e74",
    "outputId": "934171df-4512-4d88-f92f-bb7128701775"
   },
   "outputs": [
    {
     "name": "stdout",
     "output_type": "stream",
     "text": [
      "s\n",
      "o\n",
      "f\n",
      "t\n",
      "c\n",
      "r\n",
      "a\n",
      "y\n",
      "o\n",
      "n\n",
      "s\n"
     ]
    }
   ],
   "source": [
    "for i in \"softcrayons\":\n",
    "    print(i)"
   ]
  },
  {
   "cell_type": "code",
   "execution_count": null,
   "id": "2208faae",
   "metadata": {},
   "outputs": [],
   "source": []
  },
  {
   "cell_type": "code",
   "execution_count": 46,
   "id": "ca4893f5-4d1e-4af8-b12b-73433e0e8c51",
   "metadata": {
    "id": "ca4893f5-4d1e-4af8-b12b-73433e0e8c51",
    "outputId": "7715f187-e7e1-40b1-934c-0f17dddf935b"
   },
   "outputs": [
    {
     "name": "stdout",
     "output_type": "stream",
     "text": [
      "j\n",
      "j\n",
      "j\n",
      "j\n",
      "j\n"
     ]
    }
   ],
   "source": [
    "for i in {1,2,6,8,7}:\n",
    "    print('j')"
   ]
  },
  {
   "cell_type": "code",
   "execution_count": 47,
   "id": "0bec29c2-917b-4b94-863a-2f0fc58adc43",
   "metadata": {
    "id": "0bec29c2-917b-4b94-863a-2f0fc58adc43"
   },
   "outputs": [],
   "source": [
    "x={\"name\":\"gaurav\",\"city\":\"bangalore\"}"
   ]
  },
  {
   "cell_type": "code",
   "execution_count": 48,
   "id": "ba28c36d",
   "metadata": {},
   "outputs": [
    {
     "data": {
      "text/plain": [
       "{'name': 'gaurav', 'city': 'bangalore'}"
      ]
     },
     "execution_count": 48,
     "metadata": {},
     "output_type": "execute_result"
    }
   ],
   "source": [
    "x"
   ]
  },
  {
   "cell_type": "code",
   "execution_count": 49,
   "id": "acc7498f",
   "metadata": {},
   "outputs": [
    {
     "data": {
      "text/plain": [
       "'gaurav'"
      ]
     },
     "execution_count": 49,
     "metadata": {},
     "output_type": "execute_result"
    }
   ],
   "source": [
    "x['name']"
   ]
  },
  {
   "cell_type": "code",
   "execution_count": 31,
   "id": "111a66af",
   "metadata": {},
   "outputs": [
    {
     "data": {
      "text/plain": [
       "['name', 'city']"
      ]
     },
     "execution_count": 31,
     "metadata": {},
     "output_type": "execute_result"
    }
   ],
   "source": [
    "list(x)"
   ]
  },
  {
   "cell_type": "code",
   "execution_count": 32,
   "id": "bb714b02",
   "metadata": {},
   "outputs": [
    {
     "name": "stdout",
     "output_type": "stream",
     "text": [
      "name\n",
      "city\n"
     ]
    }
   ],
   "source": [
    "for i in x:\n",
    "    print(i)"
   ]
  },
  {
   "cell_type": "code",
   "execution_count": 50,
   "id": "abff7043-509b-434b-b21d-8b64f4a03631",
   "metadata": {
    "id": "abff7043-509b-434b-b21d-8b64f4a03631",
    "outputId": "ce33360d-23fb-4be1-9200-3eb9ec2a300b"
   },
   "outputs": [
    {
     "name": "stdout",
     "output_type": "stream",
     "text": [
      "gaurav\n",
      "bangalore\n"
     ]
    }
   ],
   "source": [
    "for i in x.values():\n",
    "    print(i)"
   ]
  },
  {
   "cell_type": "code",
   "execution_count": 35,
   "id": "472022b9",
   "metadata": {},
   "outputs": [
    {
     "data": {
      "text/plain": [
       "dict_items([('name', 'gaurav'), ('city', 'bangalore')])"
      ]
     },
     "execution_count": 35,
     "metadata": {},
     "output_type": "execute_result"
    }
   ],
   "source": [
    "x.items()"
   ]
  },
  {
   "cell_type": "code",
   "execution_count": 54,
   "id": "670a1980-d280-4690-ad10-6da705cf6408",
   "metadata": {
    "id": "670a1980-d280-4690-ad10-6da705cf6408"
   },
   "outputs": [
    {
     "name": "stdout",
     "output_type": "stream",
     "text": [
      "name gaurav\n",
      "city bangalore\n"
     ]
    }
   ],
   "source": [
    "for i,j in x.items():\n",
    "    print(i,j)"
   ]
  },
  {
   "cell_type": "code",
   "execution_count": 55,
   "id": "ff9390ab-14b7-4e2d-b217-d5c4c9d1954b",
   "metadata": {
    "id": "ff9390ab-14b7-4e2d-b217-d5c4c9d1954b",
    "outputId": "eff7599b-899f-40f8-b55f-ba6a1536df95"
   },
   "outputs": [
    {
     "data": {
      "text/plain": [
       "[2, 3, 4]"
      ]
     },
     "execution_count": 55,
     "metadata": {},
     "output_type": "execute_result"
    }
   ],
   "source": [
    "list(range(2,5))"
   ]
  },
  {
   "cell_type": "code",
   "execution_count": 56,
   "id": "5f1ef7e5-ea29-49de-83fc-321d365b362c",
   "metadata": {
    "id": "5f1ef7e5-ea29-49de-83fc-321d365b362c",
    "outputId": "0218df3f-b847-4b80-9a60-5d40d802ac20"
   },
   "outputs": [
    {
     "name": "stdout",
     "output_type": "stream",
     "text": [
      "2\n",
      "5\n",
      "8\n"
     ]
    }
   ],
   "source": [
    "for i in range(2,9,3):\n",
    "    print(i)"
   ]
  },
  {
   "cell_type": "code",
   "execution_count": 57,
   "id": "8ca1de14-8d99-405e-90c1-5792ffe79a22",
   "metadata": {
    "id": "8ca1de14-8d99-405e-90c1-5792ffe79a22",
    "outputId": "33b36c07-1f26-42ac-854d-ae4eeee6ae0a"
   },
   "outputs": [
    {
     "name": "stdout",
     "output_type": "stream",
     "text": [
      "india\n",
      "uk\n",
      "germany\n"
     ]
    }
   ],
   "source": [
    "country=[\"india\",\"uk\",\"germany\"]\n",
    "\n",
    "for i in country:\n",
    "    print(i)"
   ]
  },
  {
   "cell_type": "code",
   "execution_count": 58,
   "id": "f75f29e7",
   "metadata": {},
   "outputs": [
    {
     "data": {
      "text/plain": [
       "'germany'"
      ]
     },
     "execution_count": 58,
     "metadata": {},
     "output_type": "execute_result"
    }
   ],
   "source": [
    "country[2]"
   ]
  },
  {
   "cell_type": "code",
   "execution_count": 59,
   "id": "c66e9600-8deb-4ab1-9271-30aa66df5d8f",
   "metadata": {
    "id": "c66e9600-8deb-4ab1-9271-30aa66df5d8f"
   },
   "outputs": [],
   "source": [
    "dict1={\"x1\":1,\"x2\":2,\"x3\":3}"
   ]
  },
  {
   "cell_type": "code",
   "execution_count": 60,
   "id": "79d6e811-45e4-4fce-93da-5493f21c008b",
   "metadata": {
    "id": "79d6e811-45e4-4fce-93da-5493f21c008b",
    "outputId": "0b3696e8-eae2-4666-e6bb-a39894eee35b"
   },
   "outputs": [
    {
     "data": {
      "text/plain": [
       "dict_keys(['x1', 'x2', 'x3'])"
      ]
     },
     "execution_count": 60,
     "metadata": {},
     "output_type": "execute_result"
    }
   ],
   "source": [
    "dict1.keys()"
   ]
  },
  {
   "cell_type": "code",
   "execution_count": 61,
   "id": "95d28630-d2b2-4d8e-ae42-ee67671aa7eb",
   "metadata": {
    "id": "95d28630-d2b2-4d8e-ae42-ee67671aa7eb",
    "outputId": "e6a8410c-7683-4d75-bb4b-0dd3c23b71cb"
   },
   "outputs": [
    {
     "data": {
      "text/plain": [
       "dict_values([1, 2, 3])"
      ]
     },
     "execution_count": 61,
     "metadata": {},
     "output_type": "execute_result"
    }
   ],
   "source": [
    "dict1.values()"
   ]
  },
  {
   "cell_type": "code",
   "execution_count": 62,
   "id": "46ace5cc",
   "metadata": {},
   "outputs": [
    {
     "data": {
      "text/plain": [
       "{'x1': 1, 'x2': 2, 'x3': 3}"
      ]
     },
     "execution_count": 62,
     "metadata": {},
     "output_type": "execute_result"
    }
   ],
   "source": [
    "dict1"
   ]
  },
  {
   "cell_type": "code",
   "execution_count": 74,
   "id": "c5c7480f-fbc9-4b8a-bae1-3606b9306936",
   "metadata": {
    "id": "c5c7480f-fbc9-4b8a-bae1-3606b9306936",
    "outputId": "89813e23-5fa0-4539-b2e1-5eeb3b42f953"
   },
   "outputs": [
    {
     "name": "stdout",
     "output_type": "stream",
     "text": [
      "x1-1 x2-2 x3-3 "
     ]
    }
   ],
   "source": [
    "for key,value in dict1.items():\n",
    "    print(key,value,end = \" \",sep = \"-\")"
   ]
  },
  {
   "cell_type": "code",
   "execution_count": 75,
   "id": "65bdaba0",
   "metadata": {},
   "outputs": [
    {
     "name": "stdout",
     "output_type": "stream",
     "text": [
      "dhariya /* Yash\n"
     ]
    }
   ],
   "source": [
    "print('dhariya','Yash',sep = \" /* \")"
   ]
  },
  {
   "cell_type": "code",
   "execution_count": 76,
   "id": "b9866ea5-b546-4ed8-a29e-e8954cbabb60",
   "metadata": {
    "id": "b9866ea5-b546-4ed8-a29e-e8954cbabb60",
    "outputId": "2e744448-fd25-48ea-bb2d-e2a48a224781"
   },
   "outputs": [
    {
     "data": {
      "text/plain": [
       "1"
      ]
     },
     "execution_count": 76,
     "metadata": {},
     "output_type": "execute_result"
    }
   ],
   "source": [
    "dict1['x1']"
   ]
  },
  {
   "cell_type": "code",
   "execution_count": 77,
   "id": "faea5ae0-6072-4a20-bbf6-1f078d068aa8",
   "metadata": {
    "id": "faea5ae0-6072-4a20-bbf6-1f078d068aa8",
    "outputId": "dc81e36b-dcc9-4546-eef8-f725fb8c3bc9"
   },
   "outputs": [
    {
     "name": "stdout",
     "output_type": "stream",
     "text": [
      "1\n",
      "2\n",
      "3\n"
     ]
    }
   ],
   "source": [
    "for i in (1,2,3):\n",
    "    print(i)"
   ]
  },
  {
   "cell_type": "code",
   "execution_count": 79,
   "id": "4199586d-4fd1-42bf-a493-1f95ad5ebeb4",
   "metadata": {
    "id": "4199586d-4fd1-42bf-a493-1f95ad5ebeb4",
    "outputId": "86e212a7-ab93-4389-f214-d27df290150a"
   },
   "outputs": [
    {
     "name": "stdout",
     "output_type": "stream",
     "text": [
      "1🥳2🥳3🥳"
     ]
    }
   ],
   "source": [
    "for i in {1,2,3}:\n",
    "    print(i,end = '🥳')\n",
    "    "
   ]
  },
  {
   "cell_type": "code",
   "execution_count": 80,
   "id": "57997b4b",
   "metadata": {},
   "outputs": [
    {
     "name": "stdout",
     "output_type": "stream",
     "text": [
      "gaurav narwalAditya\n",
      "monu * abhay\n"
     ]
    }
   ],
   "source": [
    "print('gaurav narwal',end = '')\n",
    "print('Aditya')\n",
    "print('monu','abhay',sep = ' * ')"
   ]
  },
  {
   "cell_type": "code",
   "execution_count": 81,
   "id": "394de535-ba1b-4f8f-bcf7-3aa82879e5e5",
   "metadata": {
    "id": "394de535-ba1b-4f8f-bcf7-3aa82879e5e5",
    "outputId": "5cc0a58d-abf1-4fab-d7b5-68f662715ff1"
   },
   "outputs": [
    {
     "name": "stdout",
     "output_type": "stream",
     "text": [
      "hi @SoftCrayons@ \n",
      "\n",
      "Gaurav @abhay @"
     ]
    }
   ],
   "source": [
    "print(\"hi\",end = ' @' )\n",
    "print(\"SoftCrayons\", end='@ ')\n",
    "print()\n",
    "print()\n",
    "print(\"Gaurav\",end = ' @')\n",
    "print(\"abhay\",end=' @')\n"
   ]
  },
  {
   "cell_type": "code",
   "execution_count": 85,
   "id": "20230d8c-522f-4893-a2cd-062c457d6f6c",
   "metadata": {
    "id": "20230d8c-522f-4893-a2cd-062c457d6f6c",
    "outputId": "cbd18ae0-9357-47dd-c0a1-96d9dfcb61a0"
   },
   "outputs": [
    {
     "name": "stdout",
     "output_type": "stream",
     "text": [
      "Soumya Soumya Soumya Soumya Soumya Soumya Soumya Soumya Soumya Soumya Soumya Soumya Soumya Soumya Soumya Soumya Soumya Soumya Soumya Soumya Soumya Soumya Soumya Soumya Soumya Soumya Soumya Soumya Soumya Soumya Soumya Soumya Soumya Soumya Soumya Soumya Soumya Soumya Soumya Soumya Soumya Soumya Soumya Soumya Soumya Soumya Soumya Soumya Soumya Soumya Soumya Soumya Soumya Soumya Soumya Soumya Soumya Soumya Soumya Soumya Soumya Soumya Soumya Soumya Soumya Soumya Soumya Soumya Soumya Soumya Soumya Soumya Soumya Soumya Soumya Soumya Soumya Soumya Soumya Soumya Soumya Soumya Soumya Soumya Soumya Soumya Soumya Soumya Soumya Soumya Soumya Soumya Soumya Soumya Soumya Soumya Soumya Soumya Soumya Soumya "
     ]
    }
   ],
   "source": [
    "for i in range(100):\n",
    "    print(\"Soumya\",end = ' ')"
   ]
  },
  {
   "cell_type": "code",
   "execution_count": null,
   "id": "c763474f",
   "metadata": {},
   "outputs": [],
   "source": []
  },
  {
   "cell_type": "code",
   "execution_count": 98,
   "id": "6accf05f",
   "metadata": {},
   "outputs": [
    {
     "name": "stdout",
     "output_type": "stream",
     "text": [
      "😍 \n",
      "😍 😍 \n",
      "😍 😍 😍 \n",
      "😍 😍 😍 😍 \n"
     ]
    }
   ],
   "source": [
    "for i in range(1,5):\n",
    "    for j in range(i):\n",
    "        print('😍',end = ' ')\n",
    "        \n",
    "    print()"
   ]
  },
  {
   "cell_type": "code",
   "execution_count": 99,
   "id": "91b101cc",
   "metadata": {},
   "outputs": [
    {
     "name": "stdout",
     "output_type": "stream",
     "text": [
      "🥳\n",
      "🥳🥳\n",
      "🥳🥳🥳\n",
      "🥳🥳🥳🥳\n",
      "🥳🥳🥳🥳🥳\n"
     ]
    }
   ],
   "source": [
    "for i in range(1,6):\n",
    "    print(\"🥳\" * i)"
   ]
  },
  {
   "cell_type": "code",
   "execution_count": null,
   "id": "bc83366c",
   "metadata": {},
   "outputs": [],
   "source": []
  },
  {
   "cell_type": "code",
   "execution_count": null,
   "id": "05b5c0c7",
   "metadata": {},
   "outputs": [],
   "source": []
  },
  {
   "cell_type": "code",
   "execution_count": null,
   "id": "b51b72ed",
   "metadata": {},
   "outputs": [],
   "source": []
  },
  {
   "cell_type": "code",
   "execution_count": 5,
   "id": "ed78ff01",
   "metadata": {},
   "outputs": [
    {
     "name": "stdout",
     "output_type": "stream",
     "text": [
      "* \n",
      "* * \n",
      "* * * \n",
      "* * * * \n",
      "* * * * * \n"
     ]
    }
   ],
   "source": [
    "for i in range(5):\n",
    "    for j in range(i+1):\n",
    "        print('*',end = \" \")\n",
    "    print()"
   ]
  },
  {
   "cell_type": "code",
   "execution_count": 84,
   "id": "eac453b6",
   "metadata": {},
   "outputs": [
    {
     "name": "stdout",
     "output_type": "stream",
     "text": [
      "😍\n",
      "😍😍\n",
      "😍😍😍\n",
      "😍😍😍😍\n"
     ]
    }
   ],
   "source": [
    "for i in range(1,5):\n",
    "    print(\"😍\" * i)"
   ]
  },
  {
   "cell_type": "code",
   "execution_count": null,
   "id": "8609b345",
   "metadata": {},
   "outputs": [],
   "source": []
  },
  {
   "cell_type": "code",
   "execution_count": 110,
   "id": "de9aab55",
   "metadata": {},
   "outputs": [
    {
     "name": "stdout",
     "output_type": "stream",
     "text": [
      "how many lines you want :- 6\n",
      "        *\n",
      "       * *\n",
      "      * * *\n",
      "     * * * *\n",
      "    * * * * *\n",
      "   * * * * * *\n"
     ]
    }
   ],
   "source": [
    "star = \" *\"\n",
    "space = \" \"\n",
    "\n",
    "lines = int(input(\"how many lines you want :- \"))\n",
    "\n",
    "for i in range(lines):\n",
    "    s = lines - i\n",
    "    print(s * space,star * (i+1))"
   ]
  },
  {
   "cell_type": "raw",
   "id": "94b9876f",
   "metadata": {},
   "source": [
    "            *\n",
    "           * *\n",
    "          * * *\n",
    "         * * * *"
   ]
  },
  {
   "cell_type": "code",
   "execution_count": null,
   "id": "43c10363",
   "metadata": {},
   "outputs": [],
   "source": [
    "star = \" *\"\n",
    "space = \" \"\n",
    "\n",
    "lines = int(input(\"how many lines you want :- \"))\n",
    "\n",
    "for i in range(lines):\n",
    "    s = lines - i\n",
    "    print(s * space,star * (i+1))"
   ]
  },
  {
   "cell_type": "code",
   "execution_count": null,
   "id": "a042974d",
   "metadata": {},
   "outputs": [],
   "source": []
  },
  {
   "cell_type": "code",
   "execution_count": null,
   "id": "642b2565",
   "metadata": {},
   "outputs": [],
   "source": []
  },
  {
   "cell_type": "code",
   "execution_count": null,
   "id": "56d11471",
   "metadata": {},
   "outputs": [],
   "source": []
  },
  {
   "cell_type": "code",
   "execution_count": null,
   "id": "6c7dcbba",
   "metadata": {},
   "outputs": [],
   "source": []
  },
  {
   "cell_type": "code",
   "execution_count": 85,
   "id": "8e8bb205",
   "metadata": {},
   "outputs": [
    {
     "name": "stdout",
     "output_type": "stream",
     "text": [
      "😍\n",
      "😍😍\n",
      "😍😍😍\n",
      "😍😍😍😍\n",
      "😍😍😍😍😍\n"
     ]
    }
   ],
   "source": [
    "for i in range(1,6):\n",
    "    print(\"😍\"*i)"
   ]
  },
  {
   "cell_type": "code",
   "execution_count": 86,
   "id": "434d7627-cde9-4136-b0e2-bed3824f191f",
   "metadata": {
    "id": "434d7627-cde9-4136-b0e2-bed3824f191f",
    "outputId": "a9eeb954-4c6d-4198-a1e4-e60f0945ac08"
   },
   "outputs": [
    {
     "name": "stdout",
     "output_type": "stream",
     "text": [
      "* * * * * \n",
      "* * * * \n",
      "* * * \n",
      "* * \n",
      "* \n"
     ]
    }
   ],
   "source": [
    "for i in range(5,0,-1):\n",
    "    for j in range(i):\n",
    "        print('*',end = ' ')\n",
    "    print()"
   ]
  },
  {
   "cell_type": "code",
   "execution_count": null,
   "id": "eea476e2",
   "metadata": {},
   "outputs": [],
   "source": []
  },
  {
   "cell_type": "code",
   "execution_count": 87,
   "id": "fcaca9a8",
   "metadata": {},
   "outputs": [
    {
     "name": "stdout",
     "output_type": "stream",
     "text": [
      "* \n",
      "* * \n",
      "* * * \n",
      "* * * * \n",
      "* * * * * \n",
      "* * * * \n",
      "* * * \n",
      "* * \n",
      "* \n"
     ]
    }
   ],
   "source": [
    "for i in range(4):\n",
    "    for j in range(i+1):\n",
    "        print('*',end = ' ')\n",
    "    print()\n",
    "\n",
    "    \n",
    "    \n",
    "for i in range(5,0,-1):\n",
    "    for j in range(i):\n",
    "        print('*',end = \" \")\n",
    "    print()"
   ]
  },
  {
   "cell_type": "code",
   "execution_count": 92,
   "id": "46ac2872",
   "metadata": {},
   "outputs": [
    {
     "name": "stdout",
     "output_type": "stream",
     "text": [
      "Enter5\n",
      "  * * * * *\n",
      "   * * * *\n",
      "    * * *\n",
      "     * *\n",
      "      *\n"
     ]
    }
   ],
   "source": [
    "space=\" \"\n",
    "star=\" *\"\n",
    "\n",
    "\n",
    "s = int(input('Enter'))\n",
    "for i in range(s):\n",
    "    q=s-i\n",
    "    print(i*space,q*star)"
   ]
  },
  {
   "cell_type": "code",
   "execution_count": 93,
   "id": "905f794e",
   "metadata": {},
   "outputs": [
    {
     "name": "stdout",
     "output_type": "stream",
     "text": [
      "  * * * * *\n",
      "   * * * *\n",
      "    * * *\n",
      "     * *\n",
      "      *\n"
     ]
    }
   ],
   "source": [
    "x = ' '\n",
    "y = ' *'\n",
    "\n",
    "for i in range(5):\n",
    "    p = 5 - i\n",
    "    print(x * i,y * p)"
   ]
  },
  {
   "cell_type": "code",
   "execution_count": null,
   "id": "d9b81f02",
   "metadata": {},
   "outputs": [],
   "source": []
  },
  {
   "cell_type": "code",
   "execution_count": null,
   "id": "10e5f551",
   "metadata": {},
   "outputs": [],
   "source": []
  },
  {
   "cell_type": "code",
   "execution_count": 94,
   "id": "40e923e6",
   "metadata": {},
   "outputs": [
    {
     "name": "stdout",
     "output_type": "stream",
     "text": [
      "        *\n",
      "       * *\n",
      "      * * *\n",
      "     * * * *\n",
      "    * * * * *\n",
      "   * * * * * *\n",
      "    * * * * *\n",
      "     * * * *\n",
      "      * * *\n",
      "       * *\n",
      "        *\n"
     ]
    }
   ],
   "source": [
    "x=\" \"\n",
    "y=\" *\"\n",
    "\n",
    "for i in range(1,7-1):\n",
    "    j=7-i\n",
    "    print(x*j,y*i)\n",
    "for p in range(1,7):\n",
    "    q=7-p\n",
    "    print(p*x,q*y)"
   ]
  },
  {
   "cell_type": "code",
   "execution_count": 95,
   "id": "15f09757",
   "metadata": {},
   "outputs": [
    {
     "name": "stdout",
     "output_type": "stream",
     "text": [
      "Enter how many stars you want5\n",
      "  * * * * *\n",
      "   * * * *\n",
      "    * * *\n",
      "     * *\n",
      "      *\n"
     ]
    }
   ],
   "source": [
    "space = ' '\n",
    "star = ' *'\n",
    "\n",
    "number = int(input(\"Enter how many stars you want\"))\n",
    "\n",
    "for i in range(number):\n",
    "    x = number - i\n",
    "    print(space * i,star * x)"
   ]
  },
  {
   "cell_type": "code",
   "execution_count": 11,
   "id": "4988e320",
   "metadata": {},
   "outputs": [
    {
     "name": "stdout",
     "output_type": "stream",
     "text": [
      "* * * * * \n",
      " * * * * \n",
      "  * * * \n",
      "   * * \n",
      "    * \n"
     ]
    }
   ],
   "source": [
    "for i in range(5,0,-1):\n",
    "    for j in range(5-i):\n",
    "        print(' ',end = '')\n",
    "        \n",
    "    for k in range(i):\n",
    "        print('* ',end = '')\n",
    "    print()"
   ]
  },
  {
   "cell_type": "code",
   "execution_count": null,
   "id": "8151e203",
   "metadata": {},
   "outputs": [],
   "source": []
  },
  {
   "cell_type": "code",
   "execution_count": null,
   "id": "1bc5b016",
   "metadata": {},
   "outputs": [],
   "source": []
  },
  {
   "cell_type": "code",
   "execution_count": null,
   "id": "6f2f9e1d",
   "metadata": {},
   "outputs": [],
   "source": []
  },
  {
   "cell_type": "code",
   "execution_count": null,
   "id": "d0dfebf2",
   "metadata": {},
   "outputs": [],
   "source": []
  }
 ],
 "metadata": {
  "colab": {
   "provenance": []
  },
  "kernelspec": {
   "display_name": "Python 3 (ipykernel)",
   "language": "python",
   "name": "python3"
  },
  "language_info": {
   "codemirror_mode": {
    "name": "ipython",
    "version": 3
   },
   "file_extension": ".py",
   "mimetype": "text/x-python",
   "name": "python",
   "nbconvert_exporter": "python",
   "pygments_lexer": "ipython3",
   "version": "3.9.13"
  }
 },
 "nbformat": 4,
 "nbformat_minor": 5
}
