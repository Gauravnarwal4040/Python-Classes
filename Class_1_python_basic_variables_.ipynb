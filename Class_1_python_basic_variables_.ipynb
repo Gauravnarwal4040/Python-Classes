{
 "cells": [
  {
   "cell_type": "code",
   "execution_count": 1,
   "id": "ef6624c5",
   "metadata": {},
   "outputs": [],
   "source": [
    "name = 'Anuj'"
   ]
  },
  {
   "cell_type": "code",
   "execution_count": 2,
   "id": "ad36d431",
   "metadata": {},
   "outputs": [
    {
     "data": {
      "text/plain": [
       "'Anuj'"
      ]
     },
     "execution_count": 2,
     "metadata": {},
     "output_type": "execute_result"
    }
   ],
   "source": [
    "name"
   ]
  },
  {
   "cell_type": "code",
   "execution_count": 3,
   "id": "7d0f9305",
   "metadata": {},
   "outputs": [
    {
     "name": "stdout",
     "output_type": "stream",
     "text": [
      "Anuj\n"
     ]
    }
   ],
   "source": [
    "print(name)"
   ]
  },
  {
   "cell_type": "code",
   "execution_count": 10,
   "id": "e311cf3f",
   "metadata": {},
   "outputs": [
    {
     "data": {
      "text/plain": [
       "str"
      ]
     },
     "execution_count": 10,
     "metadata": {},
     "output_type": "execute_result"
    }
   ],
   "source": [
    "type(name)"
   ]
  },
  {
   "cell_type": "code",
   "execution_count": 13,
   "id": "ffb609e1",
   "metadata": {},
   "outputs": [],
   "source": [
    "a = \"this is my first python class\""
   ]
  },
  {
   "cell_type": "code",
   "execution_count": 14,
   "id": "60fc0b3a",
   "metadata": {
    "scrolled": true
   },
   "outputs": [
    {
     "name": "stdout",
     "output_type": "stream",
     "text": [
      "this is my first python class\n"
     ]
    }
   ],
   "source": [
    "print(a)"
   ]
  },
  {
   "cell_type": "code",
   "execution_count": 15,
   "id": "1bff3800",
   "metadata": {},
   "outputs": [
    {
     "data": {
      "text/plain": [
       "'Sanjeev'"
      ]
     },
     "execution_count": 15,
     "metadata": {},
     "output_type": "execute_result"
    }
   ],
   "source": [
    "a = 'Sanjeev'\n",
    "a"
   ]
  },
  {
   "cell_type": "code",
   "execution_count": 16,
   "id": "e5fbabef",
   "metadata": {},
   "outputs": [
    {
     "data": {
      "text/plain": [
       "'Sanjeev'"
      ]
     },
     "execution_count": 16,
     "metadata": {},
     "output_type": "execute_result"
    }
   ],
   "source": [
    "a"
   ]
  },
  {
   "cell_type": "code",
   "execution_count": 17,
   "id": "jMASDfAEjtqz",
   "metadata": {
    "colab": {
     "base_uri": "https://localhost:8080/"
    },
    "id": "jMASDfAEjtqz",
    "outputId": "3d49ad34-7865-4856-f45e-24947bb632c2"
   },
   "outputs": [
    {
     "name": "stdout",
     "output_type": "stream",
     "text": [
      "Piyush\n"
     ]
    }
   ],
   "source": [
    "A = 'Piyush'\n",
    "print(A)"
   ]
  },
  {
   "cell_type": "code",
   "execution_count": 18,
   "id": "0577e69e",
   "metadata": {},
   "outputs": [
    {
     "name": "stdout",
     "output_type": "stream",
     "text": [
      "Piyush\n",
      "Sanjeev\n"
     ]
    }
   ],
   "source": [
    "print(A)\n",
    "print(a)"
   ]
  },
  {
   "cell_type": "code",
   "execution_count": 19,
   "id": "fd16dbc2",
   "metadata": {},
   "outputs": [],
   "source": [
    "a = 14"
   ]
  },
  {
   "cell_type": "code",
   "execution_count": 20,
   "id": "9b25884d",
   "metadata": {},
   "outputs": [
    {
     "data": {
      "text/plain": [
       "14"
      ]
     },
     "execution_count": 20,
     "metadata": {},
     "output_type": "execute_result"
    }
   ],
   "source": [
    "a"
   ]
  },
  {
   "cell_type": "code",
   "execution_count": 21,
   "id": "25889c20",
   "metadata": {
    "scrolled": true
   },
   "outputs": [
    {
     "name": "stdout",
     "output_type": "stream",
     "text": [
      "14\n"
     ]
    }
   ],
   "source": [
    "print(a)"
   ]
  },
  {
   "cell_type": "code",
   "execution_count": 22,
   "id": "09248615",
   "metadata": {},
   "outputs": [],
   "source": [
    "a = \"Gaurav\""
   ]
  },
  {
   "cell_type": "code",
   "execution_count": 14,
   "id": "d86940d1",
   "metadata": {
    "scrolled": true
   },
   "outputs": [
    {
     "name": "stdout",
     "output_type": "stream",
     "text": [
      "Gaurav\n"
     ]
    }
   ],
   "source": [
    "print(a)"
   ]
  },
  {
   "cell_type": "markdown",
   "id": "c9a47599",
   "metadata": {},
   "source": [
    "##### A variable name must start with a letter or the underscore character\n",
    "##### A variable name cannot start with a number\n",
    "##### A variable name can only contain alpha-numeric characters and underscores (A-z, 0-9, and _ )\n",
    "##### Variable names are case-sensitive (age, Age and AGE are three different variables)\n",
    "##### A variable name cannot be any of the Python keywords."
   ]
  },
  {
   "cell_type": "code",
   "execution_count": 23,
   "id": "dd4d9b02",
   "metadata": {},
   "outputs": [
    {
     "ename": "SyntaxError",
     "evalue": "invalid syntax (3039934606.py, line 1)",
     "output_type": "error",
     "traceback": [
      "\u001b[1;36m  File \u001b[1;32m\"C:\\Users\\gaura\\AppData\\Local\\Temp\\ipykernel_16860\\3039934606.py\"\u001b[1;36m, line \u001b[1;32m1\u001b[0m\n\u001b[1;33m    for = 5\u001b[0m\n\u001b[1;37m        ^\u001b[0m\n\u001b[1;31mSyntaxError\u001b[0m\u001b[1;31m:\u001b[0m invalid syntax\n"
     ]
    }
   ],
   "source": [
    "for = 5"
   ]
  },
  {
   "cell_type": "code",
   "execution_count": 31,
   "id": "f5f800fd",
   "metadata": {
    "scrolled": true
   },
   "outputs": [],
   "source": [
    "y8 = 8"
   ]
  },
  {
   "cell_type": "code",
   "execution_count": 32,
   "id": "b46d85e8",
   "metadata": {
    "scrolled": true
   },
   "outputs": [
    {
     "ename": "SyntaxError",
     "evalue": "invalid syntax (963416919.py, line 1)",
     "output_type": "error",
     "traceback": [
      "\u001b[1;36m  File \u001b[1;32m\"C:\\Users\\gaura\\AppData\\Local\\Temp\\ipykernel_16860\\963416919.py\"\u001b[1;36m, line \u001b[1;32m1\u001b[0m\n\u001b[1;33m    1y5 = 8\u001b[0m\n\u001b[1;37m     ^\u001b[0m\n\u001b[1;31mSyntaxError\u001b[0m\u001b[1;31m:\u001b[0m invalid syntax\n"
     ]
    }
   ],
   "source": [
    "1y5 = 8"
   ]
  },
  {
   "cell_type": "code",
   "execution_count": 33,
   "id": "c1d53e16",
   "metadata": {},
   "outputs": [],
   "source": [
    "g10as = 97412"
   ]
  },
  {
   "cell_type": "code",
   "execution_count": 34,
   "id": "f0352b8a",
   "metadata": {},
   "outputs": [],
   "source": [
    "b5 = 9"
   ]
  },
  {
   "cell_type": "code",
   "execution_count": 35,
   "id": "2c6f4514",
   "metadata": {},
   "outputs": [],
   "source": [
    "b_ = 7"
   ]
  },
  {
   "cell_type": "code",
   "execution_count": 36,
   "id": "0aa2cb6d",
   "metadata": {},
   "outputs": [
    {
     "name": "stdout",
     "output_type": "stream",
     "text": [
      "Sanjeev\n"
     ]
    }
   ],
   "source": [
    "print('Sanjeev')"
   ]
  },
  {
   "cell_type": "code",
   "execution_count": 37,
   "id": "3a9e6c20",
   "metadata": {},
   "outputs": [
    {
     "ename": "SyntaxError",
     "evalue": "invalid syntax (50881085.py, line 1)",
     "output_type": "error",
     "traceback": [
      "\u001b[1;36m  File \u001b[1;32m\"C:\\Users\\gaura\\AppData\\Local\\Temp\\ipykernel_16860\\50881085.py\"\u001b[1;36m, line \u001b[1;32m1\u001b[0m\n\u001b[1;33m    for = 52\u001b[0m\n\u001b[1;37m        ^\u001b[0m\n\u001b[1;31mSyntaxError\u001b[0m\u001b[1;31m:\u001b[0m invalid syntax\n"
     ]
    }
   ],
   "source": [
    "for = 52"
   ]
  },
  {
   "cell_type": "code",
   "execution_count": 38,
   "id": "e67a7abe",
   "metadata": {
    "scrolled": true
   },
   "outputs": [],
   "source": [
    "this_is_my_variable = 10"
   ]
  },
  {
   "cell_type": "code",
   "execution_count": 39,
   "id": "88117b38",
   "metadata": {},
   "outputs": [
    {
     "data": {
      "text/plain": [
       "10"
      ]
     },
     "execution_count": 39,
     "metadata": {},
     "output_type": "execute_result"
    }
   ],
   "source": [
    "this_is_my_variable"
   ]
  },
  {
   "cell_type": "code",
   "execution_count": 40,
   "id": "cbe8c2d2",
   "metadata": {},
   "outputs": [],
   "source": [
    "D5abc = 52"
   ]
  },
  {
   "cell_type": "code",
   "execution_count": 41,
   "id": "ab80d958",
   "metadata": {},
   "outputs": [],
   "source": [
    "_ab = 7"
   ]
  },
  {
   "cell_type": "code",
   "execution_count": null,
   "id": "133b93af",
   "metadata": {},
   "outputs": [],
   "source": []
  },
  {
   "cell_type": "code",
   "execution_count": null,
   "id": "d22cb083",
   "metadata": {},
   "outputs": [],
   "source": []
  },
  {
   "cell_type": "code",
   "execution_count": 42,
   "id": "f97d8ddd",
   "metadata": {},
   "outputs": [
    {
     "name": "stdout",
     "output_type": "stream",
     "text": [
      "7\n"
     ]
    }
   ],
   "source": [
    "print(_ab)"
   ]
  },
  {
   "cell_type": "code",
   "execution_count": 43,
   "id": "c992810b",
   "metadata": {},
   "outputs": [
    {
     "data": {
      "text/plain": [
       "4"
      ]
     },
     "execution_count": 43,
     "metadata": {},
     "output_type": "execute_result"
    }
   ],
   "source": [
    "x = 4\n",
    "x"
   ]
  },
  {
   "cell_type": "code",
   "execution_count": 47,
   "id": "Nm5ftQwZkEqq",
   "metadata": {
    "colab": {
     "base_uri": "https://localhost:8080/",
     "height": 141
    },
    "id": "Nm5ftQwZkEqq",
    "outputId": "f162a233-51a7-43a7-bea7-af4a5f629725"
   },
   "outputs": [
    {
     "name": "stdout",
     "output_type": "stream",
     "text": [
      "10\n"
     ]
    }
   ],
   "source": [
    "v-ar = 10\n",
    "Print(v-ar)"
   ]
  },
  {
   "cell_type": "code",
   "execution_count": 29,
   "id": "tP4hVYFskUQq",
   "metadata": {
    "colab": {
     "base_uri": "https://localhost:8080/"
    },
    "id": "tP4hVYFskUQq",
    "outputId": "44ce1de6-3388-4f5a-91f1-c241e6f36cc2"
   },
   "outputs": [
    {
     "name": "stdout",
     "output_type": "stream",
     "text": [
      "My name is Ankur and my age is 20\n"
     ]
    }
   ],
   "source": [
    "name = \"Ankur\"\n",
    "age = 20\n",
    "\n",
    "print('My name is',name,'and my age is',age)"
   ]
  },
  {
   "cell_type": "code",
   "execution_count": 30,
   "id": "58869bff",
   "metadata": {},
   "outputs": [
    {
     "name": "stdout",
     "output_type": "stream",
     "text": [
      "my name is {name} and my age is {age}\n"
     ]
    }
   ],
   "source": [
    "print(\"my name is {name} and my age is {age}\")"
   ]
  },
  {
   "cell_type": "code",
   "execution_count": 31,
   "id": "9f328848",
   "metadata": {},
   "outputs": [
    {
     "name": "stdout",
     "output_type": "stream",
     "text": [
      "my name is Ankur and i am 20\n"
     ]
    }
   ],
   "source": [
    "print(f'my name is {name} and i am {age}')"
   ]
  },
  {
   "cell_type": "raw",
   "id": "9c9bdcb2",
   "metadata": {},
   "source": [
    "bool value ---------> True and False"
   ]
  },
  {
   "cell_type": "code",
   "execution_count": 32,
   "id": "aac20f75-01ff-4b88-b97f-03508238d070",
   "metadata": {
    "id": "aac20f75-01ff-4b88-b97f-03508238d070"
   },
   "outputs": [],
   "source": [
    "b1 = True  #1"
   ]
  },
  {
   "cell_type": "code",
   "execution_count": 33,
   "id": "d080827c-c72c-416e-b6fb-6787247807eb",
   "metadata": {
    "id": "d080827c-c72c-416e-b6fb-6787247807eb"
   },
   "outputs": [],
   "source": [
    "b2 = False #0"
   ]
  },
  {
   "cell_type": "code",
   "execution_count": 34,
   "id": "b7e36683-d268-4a47-8990-b051470f03fb",
   "metadata": {
    "id": "b7e36683-d268-4a47-8990-b051470f03fb",
    "outputId": "92487f6a-7d70-48fc-aefc-402fe91dda54"
   },
   "outputs": [
    {
     "data": {
      "text/plain": [
       "1"
      ]
     },
     "execution_count": 34,
     "metadata": {},
     "output_type": "execute_result"
    }
   ],
   "source": [
    "b1 - b2"
   ]
  },
  {
   "cell_type": "code",
   "execution_count": 35,
   "id": "fcdbe490",
   "metadata": {},
   "outputs": [
    {
     "data": {
      "text/plain": [
       "0"
      ]
     },
     "execution_count": 35,
     "metadata": {},
     "output_type": "execute_result"
    }
   ],
   "source": [
    "b1 * b2"
   ]
  },
  {
   "cell_type": "code",
   "execution_count": 36,
   "id": "f82662bd-cf7c-45a4-93f1-b22d3a8cf9eb",
   "metadata": {
    "id": "f82662bd-cf7c-45a4-93f1-b22d3a8cf9eb",
    "outputId": "70e78469-a736-4fa4-b12f-13e86031885b"
   },
   "outputs": [
    {
     "data": {
      "text/plain": [
       "1"
      ]
     },
     "execution_count": 36,
     "metadata": {},
     "output_type": "execute_result"
    }
   ],
   "source": [
    "b1*b1"
   ]
  },
  {
   "cell_type": "code",
   "execution_count": 37,
   "id": "2e85ce23-9ef8-4183-b0f0-79436d312525",
   "metadata": {
    "id": "2e85ce23-9ef8-4183-b0f0-79436d312525",
    "outputId": "a47672fc-20f9-40f6-87da-d77c2ce46011"
   },
   "outputs": [
    {
     "ename": "ZeroDivisionError",
     "evalue": "division by zero",
     "output_type": "error",
     "traceback": [
      "\u001b[1;31m---------------------------------------------------------------------------\u001b[0m",
      "\u001b[1;31mZeroDivisionError\u001b[0m                         Traceback (most recent call last)",
      "\u001b[1;32m~\\AppData\\Local\\Temp\\ipykernel_19140\\415746683.py\u001b[0m in \u001b[0;36m<module>\u001b[1;34m\u001b[0m\n\u001b[1;32m----> 1\u001b[1;33m \u001b[0mb1\u001b[0m\u001b[1;33m/\u001b[0m\u001b[0mb2\u001b[0m\u001b[1;33m\u001b[0m\u001b[1;33m\u001b[0m\u001b[0m\n\u001b[0m",
      "\u001b[1;31mZeroDivisionError\u001b[0m: division by zero"
     ]
    }
   ],
   "source": [
    "b1/b2"
   ]
  },
  {
   "cell_type": "code",
   "execution_count": null,
   "id": "a4383fc3-6c7b-4780-8816-f5eeeddcebac",
   "metadata": {
    "id": "a4383fc3-6c7b-4780-8816-f5eeeddcebac"
   },
   "outputs": [],
   "source": [
    "#  Define String \n",
    "\n",
    "\n",
    "s3='this is my first python class'   \n",
    "print(s3)  # display s3"
   ]
  },
  {
   "cell_type": "code",
   "execution_count": 38,
   "id": "44cfdaa3-7b10-4091-bd10-c361a1f0d578",
   "metadata": {
    "id": "44cfdaa3-7b10-4091-bd10-c361a1f0d578"
   },
   "outputs": [],
   "source": [
    "s1 = \"ankit\""
   ]
  },
  {
   "cell_type": "code",
   "execution_count": 39,
   "id": "74d85a0a-2883-44a2-b542-05121f115c8c",
   "metadata": {
    "id": "74d85a0a-2883-44a2-b542-05121f115c8c"
   },
   "outputs": [],
   "source": [
    "a = 10"
   ]
  },
  {
   "cell_type": "code",
   "execution_count": 40,
   "id": "318056cc",
   "metadata": {},
   "outputs": [
    {
     "ename": "TypeError",
     "evalue": "can only concatenate str (not \"int\") to str",
     "output_type": "error",
     "traceback": [
      "\u001b[1;31m---------------------------------------------------------------------------\u001b[0m",
      "\u001b[1;31mTypeError\u001b[0m                                 Traceback (most recent call last)",
      "\u001b[1;32m~\\AppData\\Local\\Temp\\ipykernel_19140\\289151167.py\u001b[0m in \u001b[0;36m<module>\u001b[1;34m\u001b[0m\n\u001b[1;32m----> 1\u001b[1;33m \u001b[0ms1\u001b[0m \u001b[1;33m+\u001b[0m \u001b[0ma\u001b[0m\u001b[1;33m\u001b[0m\u001b[1;33m\u001b[0m\u001b[0m\n\u001b[0m",
      "\u001b[1;31mTypeError\u001b[0m: can only concatenate str (not \"int\") to str"
     ]
    }
   ],
   "source": [
    "s1 + a"
   ]
  },
  {
   "cell_type": "code",
   "execution_count": 41,
   "id": "5f023dab",
   "metadata": {},
   "outputs": [
    {
     "data": {
      "text/plain": [
       "'10'"
      ]
     },
     "execution_count": 41,
     "metadata": {},
     "output_type": "execute_result"
    }
   ],
   "source": [
    "str(a)"
   ]
  },
  {
   "cell_type": "code",
   "execution_count": 42,
   "id": "6c7fed3a",
   "metadata": {},
   "outputs": [
    {
     "data": {
      "text/plain": [
       "'ankit10'"
      ]
     },
     "execution_count": 42,
     "metadata": {},
     "output_type": "execute_result"
    }
   ],
   "source": [
    "s1 + str(a)"
   ]
  },
  {
   "cell_type": "code",
   "execution_count": 43,
   "id": "98d85abe-eba1-4e9b-a1a4-4b7577900b03",
   "metadata": {
    "id": "98d85abe-eba1-4e9b-a1a4-4b7577900b03",
    "outputId": "e8c03e0f-7e1d-4e9e-e1ef-4fc8acabb83b"
   },
   "outputs": [
    {
     "data": {
      "text/plain": [
       "10"
      ]
     },
     "execution_count": 43,
     "metadata": {},
     "output_type": "execute_result"
    }
   ],
   "source": [
    "a"
   ]
  },
  {
   "cell_type": "code",
   "execution_count": 44,
   "id": "2945b85f-87a8-4261-b1d0-9a4378652a2c",
   "metadata": {
    "id": "2945b85f-87a8-4261-b1d0-9a4378652a2c",
    "outputId": "7e714f8d-8e1b-4c8c-f4bf-1824601bf891"
   },
   "outputs": [
    {
     "data": {
      "text/plain": [
       "int"
      ]
     },
     "execution_count": 44,
     "metadata": {},
     "output_type": "execute_result"
    }
   ],
   "source": [
    "type(a)"
   ]
  },
  {
   "cell_type": "code",
   "execution_count": 45,
   "id": "c8add096-ab4e-40fe-a745-31780d904259",
   "metadata": {
    "id": "c8add096-ab4e-40fe-a745-31780d904259",
    "outputId": "e9b695e3-f6ba-47ec-b5eb-960614983e31"
   },
   "outputs": [
    {
     "data": {
      "text/plain": [
       "str"
      ]
     },
     "execution_count": 45,
     "metadata": {},
     "output_type": "execute_result"
    }
   ],
   "source": [
    "type(str(a))"
   ]
  },
  {
   "cell_type": "code",
   "execution_count": 71,
   "id": "1d4f9509-40fc-4fd6-b8b9-9785f3b42ffe",
   "metadata": {
    "colab": {
     "base_uri": "https://localhost:8080/",
     "height": 35
    },
    "id": "1d4f9509-40fc-4fd6-b8b9-9785f3b42ffe",
    "outputId": "a525fab8-903e-4a2a-b434-161593eb0617"
   },
   "outputs": [
    {
     "data": {
      "text/plain": [
       "'gaurav10'"
      ]
     },
     "execution_count": 71,
     "metadata": {},
     "output_type": "execute_result"
    }
   ],
   "source": [
    "s1 = \"gaurav\"\n",
    "s1 + str(10)"
   ]
  },
  {
   "cell_type": "code",
   "execution_count": 72,
   "id": "675092a0",
   "metadata": {},
   "outputs": [
    {
     "ename": "ValueError",
     "evalue": "invalid literal for int() with base 10: 'gaurav'",
     "output_type": "error",
     "traceback": [
      "\u001b[1;31m---------------------------------------------------------------------------\u001b[0m",
      "\u001b[1;31mValueError\u001b[0m                                Traceback (most recent call last)",
      "\u001b[1;32m~\\AppData\\Local\\Temp\\ipykernel_19140\\1538595944.py\u001b[0m in \u001b[0;36m<module>\u001b[1;34m\u001b[0m\n\u001b[1;32m----> 1\u001b[1;33m \u001b[0mint\u001b[0m\u001b[1;33m(\u001b[0m\u001b[0ms1\u001b[0m\u001b[1;33m)\u001b[0m\u001b[1;33m\u001b[0m\u001b[1;33m\u001b[0m\u001b[0m\n\u001b[0m",
      "\u001b[1;31mValueError\u001b[0m: invalid literal for int() with base 10: 'gaurav'"
     ]
    }
   ],
   "source": [
    "int(s1)"
   ]
  },
  {
   "cell_type": "code",
   "execution_count": 48,
   "id": "09ee1016-4dfb-4a32-b8ac-cd655174795f",
   "metadata": {
    "id": "09ee1016-4dfb-4a32-b8ac-cd655174795f",
    "outputId": "e54b0eb7-9269-4bbc-9927-e94c622e444c"
   },
   "outputs": [
    {
     "data": {
      "text/plain": [
       "10"
      ]
     },
     "execution_count": 48,
     "metadata": {},
     "output_type": "execute_result"
    }
   ],
   "source": [
    "a"
   ]
  },
  {
   "cell_type": "code",
   "execution_count": 49,
   "id": "4e0de3fa",
   "metadata": {},
   "outputs": [
    {
     "data": {
      "text/plain": [
       "'gaurav'"
      ]
     },
     "execution_count": 49,
     "metadata": {},
     "output_type": "execute_result"
    }
   ],
   "source": [
    "s1"
   ]
  },
  {
   "cell_type": "code",
   "execution_count": 78,
   "id": "1c49a3b9",
   "metadata": {},
   "outputs": [
    {
     "data": {
      "text/plain": [
       "'258985574215468586585'"
      ]
     },
     "execution_count": 78,
     "metadata": {},
     "output_type": "execute_result"
    }
   ],
   "source": [
    "b = '258985574215468586585'\n",
    "b"
   ]
  },
  {
   "cell_type": "code",
   "execution_count": 79,
   "id": "c973a624-2067-4a4f-845a-339e81bbb06c",
   "metadata": {
    "id": "c973a624-2067-4a4f-845a-339e81bbb06c",
    "outputId": "6c461565-7c27-4758-fbde-dbae607918ab",
    "scrolled": true
   },
   "outputs": [
    {
     "data": {
      "text/plain": [
       "258985574215468586585"
      ]
     },
     "execution_count": 79,
     "metadata": {},
     "output_type": "execute_result"
    }
   ],
   "source": [
    "int(b)"
   ]
  },
  {
   "cell_type": "code",
   "execution_count": 80,
   "id": "c3524472-45a4-4c54-9cf5-dbfb394cd029",
   "metadata": {
    "id": "c3524472-45a4-4c54-9cf5-dbfb394cd029"
   },
   "outputs": [],
   "source": [
    "s = \"narwal\""
   ]
  },
  {
   "cell_type": "code",
   "execution_count": 81,
   "id": "f02a6294-31c5-430d-9cb8-a3809289f7f9",
   "metadata": {
    "id": "f02a6294-31c5-430d-9cb8-a3809289f7f9",
    "outputId": "76bcd25e-49c3-4ef2-ceaa-877db5fcf2e3"
   },
   "outputs": [
    {
     "ename": "ValueError",
     "evalue": "invalid literal for int() with base 10: 'narwal'",
     "output_type": "error",
     "traceback": [
      "\u001b[1;31m---------------------------------------------------------------------------\u001b[0m",
      "\u001b[1;31mValueError\u001b[0m                                Traceback (most recent call last)",
      "\u001b[1;32m~\\AppData\\Local\\Temp\\ipykernel_19140\\2179186071.py\u001b[0m in \u001b[0;36m<module>\u001b[1;34m\u001b[0m\n\u001b[1;32m----> 1\u001b[1;33m \u001b[0mint\u001b[0m\u001b[1;33m(\u001b[0m\u001b[0ms\u001b[0m\u001b[1;33m)\u001b[0m\u001b[1;33m\u001b[0m\u001b[1;33m\u001b[0m\u001b[0m\n\u001b[0m",
      "\u001b[1;31mValueError\u001b[0m: invalid literal for int() with base 10: 'narwal'"
     ]
    }
   ],
   "source": [
    "int(s)"
   ]
  },
  {
   "cell_type": "code",
   "execution_count": 82,
   "id": "b163363f-b838-4bdd-a29b-4fc930b807ac",
   "metadata": {
    "id": "b163363f-b838-4bdd-a29b-4fc930b807ac"
   },
   "outputs": [],
   "source": [
    "a = 123"
   ]
  },
  {
   "cell_type": "code",
   "execution_count": 83,
   "id": "ee866218",
   "metadata": {},
   "outputs": [
    {
     "name": "stdout",
     "output_type": "stream",
     "text": [
      "85\n"
     ]
    }
   ],
   "source": [
    "x = input()"
   ]
  },
  {
   "cell_type": "code",
   "execution_count": 84,
   "id": "c98ac02f",
   "metadata": {},
   "outputs": [
    {
     "data": {
      "text/plain": [
       "'85'"
      ]
     },
     "execution_count": 84,
     "metadata": {},
     "output_type": "execute_result"
    }
   ],
   "source": [
    "x"
   ]
  },
  {
   "cell_type": "code",
   "execution_count": 86,
   "id": "bcad3072",
   "metadata": {},
   "outputs": [
    {
     "name": "stdout",
     "output_type": "stream",
     "text": [
      "Enter your name 41523\n"
     ]
    }
   ],
   "source": [
    "a = input('Enter your name ')"
   ]
  },
  {
   "cell_type": "code",
   "execution_count": 87,
   "id": "5838e35b",
   "metadata": {},
   "outputs": [
    {
     "data": {
      "text/plain": [
       "'41523'"
      ]
     },
     "execution_count": 87,
     "metadata": {},
     "output_type": "execute_result"
    }
   ],
   "source": [
    "a"
   ]
  },
  {
   "cell_type": "code",
   "execution_count": 88,
   "id": "ba65d59c",
   "metadata": {},
   "outputs": [
    {
     "data": {
      "text/plain": [
       "41523"
      ]
     },
     "execution_count": 88,
     "metadata": {},
     "output_type": "execute_result"
    }
   ],
   "source": [
    "int(a)"
   ]
  },
  {
   "cell_type": "code",
   "execution_count": 89,
   "id": "71fc09d5",
   "metadata": {},
   "outputs": [
    {
     "name": "stdout",
     "output_type": "stream",
     "text": [
      "enter any number :- 86532\n"
     ]
    }
   ],
   "source": [
    "x = int(input('enter any number :- '))"
   ]
  },
  {
   "cell_type": "code",
   "execution_count": 90,
   "id": "2bbdb7b2",
   "metadata": {},
   "outputs": [
    {
     "data": {
      "text/plain": [
       "86532"
      ]
     },
     "execution_count": 90,
     "metadata": {},
     "output_type": "execute_result"
    }
   ],
   "source": [
    "x"
   ]
  },
  {
   "cell_type": "code",
   "execution_count": 91,
   "id": "084fa60e",
   "metadata": {},
   "outputs": [
    {
     "name": "stdout",
     "output_type": "stream",
     "text": [
      "574253\n"
     ]
    }
   ],
   "source": [
    "print(574253)"
   ]
  },
  {
   "cell_type": "code",
   "execution_count": 92,
   "id": "06e01a98",
   "metadata": {},
   "outputs": [
    {
     "data": {
      "text/plain": [
       "int"
      ]
     },
     "execution_count": 92,
     "metadata": {},
     "output_type": "execute_result"
    }
   ],
   "source": [
    "type(x)"
   ]
  },
  {
   "cell_type": "code",
   "execution_count": 98,
   "id": "ab3e1e64-9828-4131-a6a4-7394df4571df",
   "metadata": {
    "id": "ab3e1e64-9828-4131-a6a4-7394df4571df",
    "outputId": "dbdd12db-61a7-418d-96de-f06db52062f9"
   },
   "outputs": [
    {
     "name": "stdout",
     "output_type": "stream",
     "text": [
      "\n"
     ]
    }
   ],
   "source": [
    "b = bool(input())"
   ]
  },
  {
   "cell_type": "code",
   "execution_count": 99,
   "id": "552c1085-d9d5-4957-9911-5800e5b3f7be",
   "metadata": {
    "id": "552c1085-d9d5-4957-9911-5800e5b3f7be",
    "outputId": "4dc24d5b-0c62-478c-bcf7-c6d7ed47b3c1",
    "scrolled": false
   },
   "outputs": [
    {
     "data": {
      "text/plain": [
       "False"
      ]
     },
     "execution_count": 99,
     "metadata": {},
     "output_type": "execute_result"
    }
   ],
   "source": [
    "b"
   ]
  },
  {
   "cell_type": "code",
   "execution_count": 100,
   "id": "42a93666-b92f-4630-852c-38e698873e03",
   "metadata": {
    "id": "42a93666-b92f-4630-852c-38e698873e03",
    "outputId": "d34e4258-415d-4a75-90f9-5f36bd87dda7"
   },
   "outputs": [
    {
     "data": {
      "text/plain": [
       "bool"
      ]
     },
     "execution_count": 100,
     "metadata": {},
     "output_type": "execute_result"
    }
   ],
   "source": [
    "type(b)"
   ]
  },
  {
   "cell_type": "markdown",
   "id": "42e0d41b",
   "metadata": {},
   "source": [
    "## Indexing"
   ]
  },
  {
   "cell_type": "code",
   "execution_count": 102,
   "id": "cdc0a0a0-80f6-415b-bb33-523220a52c88",
   "metadata": {
    "id": "cdc0a0a0-80f6-415b-bb33-523220a52c88"
   },
   "outputs": [],
   "source": [
    "s = \"This is my python class\""
   ]
  },
  {
   "cell_type": "code",
   "execution_count": 107,
   "id": "e5f0fca1-b995-4bd1-907b-fa74ff8a0d85",
   "metadata": {
    "id": "e5f0fca1-b995-4bd1-907b-fa74ff8a0d85",
    "outputId": "7681a3c6-be2d-448a-e363-b07f47f20d12"
   },
   "outputs": [
    {
     "data": {
      "text/plain": [
       "'T'"
      ]
     },
     "execution_count": 107,
     "metadata": {},
     "output_type": "execute_result"
    }
   ],
   "source": [
    "s[-23]"
   ]
  },
  {
   "cell_type": "code",
   "execution_count": 20,
   "id": "3e32240f-805f-4807-adca-a11db76b9e77",
   "metadata": {
    "id": "3e32240f-805f-4807-adca-a11db76b9e77",
    "outputId": "1c96c571-6fd9-4aab-ef6d-147ae4284650"
   },
   "outputs": [
    {
     "data": {
      "text/plain": [
       "'p'"
      ]
     },
     "execution_count": 20,
     "metadata": {},
     "output_type": "execute_result"
    }
   ],
   "source": [
    "s[11]"
   ]
  },
  {
   "cell_type": "code",
   "execution_count": 108,
   "id": "21edb6cb-07ed-4c41-8d76-d550d12210f1",
   "metadata": {
    "id": "21edb6cb-07ed-4c41-8d76-d550d12210f1",
    "outputId": "42195aa9-85af-4cb9-e72b-b7cd0815d298"
   },
   "outputs": [
    {
     "ename": "IndexError",
     "evalue": "string index out of range",
     "output_type": "error",
     "traceback": [
      "\u001b[1;31m---------------------------------------------------------------------------\u001b[0m",
      "\u001b[1;31mIndexError\u001b[0m                                Traceback (most recent call last)",
      "\u001b[1;32m~\\AppData\\Local\\Temp\\ipykernel_19140\\2053966389.py\u001b[0m in \u001b[0;36m<module>\u001b[1;34m\u001b[0m\n\u001b[1;32m----> 1\u001b[1;33m \u001b[0ms\u001b[0m\u001b[1;33m[\u001b[0m\u001b[1;36m203\u001b[0m\u001b[1;33m]\u001b[0m\u001b[1;33m\u001b[0m\u001b[1;33m\u001b[0m\u001b[0m\n\u001b[0m",
      "\u001b[1;31mIndexError\u001b[0m: string index out of range"
     ]
    }
   ],
   "source": [
    "s[203]"
   ]
  },
  {
   "cell_type": "code",
   "execution_count": 26,
   "id": "468b7904-9d03-4514-97ff-fa772af7f2c7",
   "metadata": {
    "id": "468b7904-9d03-4514-97ff-fa772af7f2c7",
    "outputId": "db3e3809-a559-41fd-8054-8d44f93711e9"
   },
   "outputs": [
    {
     "data": {
      "text/plain": [
       "'l'"
      ]
     },
     "execution_count": 26,
     "metadata": {},
     "output_type": "execute_result"
    }
   ],
   "source": [
    "s[-4]"
   ]
  },
  {
   "cell_type": "code",
   "execution_count": 27,
   "id": "58953ec4-36e7-4857-866b-18eb8d64769c",
   "metadata": {
    "id": "58953ec4-36e7-4857-866b-18eb8d64769c",
    "outputId": "806ca58e-697f-4a5d-e2b3-95a6370c246b"
   },
   "outputs": [
    {
     "ename": "IndexError",
     "evalue": "string index out of range",
     "output_type": "error",
     "traceback": [
      "\u001b[1;31m---------------------------------------------------------------------------\u001b[0m",
      "\u001b[1;31mIndexError\u001b[0m                                Traceback (most recent call last)",
      "\u001b[1;32m~\\AppData\\Local\\Temp\\ipykernel_13232\\1125402950.py\u001b[0m in \u001b[0;36m<module>\u001b[1;34m\u001b[0m\n\u001b[1;32m----> 1\u001b[1;33m \u001b[0ms\u001b[0m\u001b[1;33m[\u001b[0m\u001b[1;33m-\u001b[0m\u001b[1;36m345\u001b[0m\u001b[1;33m]\u001b[0m\u001b[1;33m\u001b[0m\u001b[1;33m\u001b[0m\u001b[0m\n\u001b[0m",
      "\u001b[1;31mIndexError\u001b[0m: string index out of range"
     ]
    }
   ],
   "source": [
    "s[-345]"
   ]
  },
  {
   "cell_type": "markdown",
   "id": "913eea3a",
   "metadata": {},
   "source": [
    "# Slicing"
   ]
  },
  {
   "cell_type": "code",
   "execution_count": 110,
   "id": "22e0d1b7-214b-4f2e-bafb-c4673370dbff",
   "metadata": {
    "id": "22e0d1b7-214b-4f2e-bafb-c4673370dbff"
   },
   "outputs": [],
   "source": [
    "s1 = \"This is my python class\""
   ]
  },
  {
   "cell_type": "code",
   "execution_count": 118,
   "id": "1277f43a",
   "metadata": {},
   "outputs": [
    {
     "data": {
      "text/plain": [
       "'nohtyp'"
      ]
     },
     "execution_count": 118,
     "metadata": {},
     "output_type": "execute_result"
    }
   ],
   "source": [
    "s1[-7:-13:-1]"
   ]
  },
  {
   "cell_type": "code",
   "execution_count": 117,
   "id": "3181985d",
   "metadata": {},
   "outputs": [
    {
     "data": {
      "text/plain": [
       "'ssalc nohtyp ym si sihT'"
      ]
     },
     "execution_count": 117,
     "metadata": {},
     "output_type": "execute_result"
    }
   ],
   "source": [
    "s1[::-1]"
   ]
  },
  {
   "cell_type": "code",
   "execution_count": 80,
   "id": "fccae34f",
   "metadata": {},
   "outputs": [
    {
     "data": {
      "text/plain": [
       "'nohtyp'"
      ]
     },
     "execution_count": 80,
     "metadata": {},
     "output_type": "execute_result"
    }
   ],
   "source": [
    "s1[-7:-13:-1]"
   ]
  },
  {
   "cell_type": "code",
   "execution_count": 81,
   "id": "4a801238",
   "metadata": {},
   "outputs": [
    {
     "data": {
      "text/plain": [
       "'This is my python class'"
      ]
     },
     "execution_count": 81,
     "metadata": {},
     "output_type": "execute_result"
    }
   ],
   "source": [
    "s1"
   ]
  },
  {
   "cell_type": "code",
   "execution_count": 82,
   "id": "9e4fe6d3",
   "metadata": {},
   "outputs": [
    {
     "data": {
      "text/plain": [
       "'python'"
      ]
     },
     "execution_count": 82,
     "metadata": {},
     "output_type": "execute_result"
    }
   ],
   "source": [
    "s1[11:17]"
   ]
  },
  {
   "cell_type": "code",
   "execution_count": 83,
   "id": "68d97e81",
   "metadata": {},
   "outputs": [
    {
     "data": {
      "text/plain": [
       "'is m'"
      ]
     },
     "execution_count": 83,
     "metadata": {},
     "output_type": "execute_result"
    }
   ],
   "source": [
    "s1[5:9]"
   ]
  },
  {
   "cell_type": "code",
   "execution_count": 84,
   "id": "76815755",
   "metadata": {},
   "outputs": [
    {
     "data": {
      "text/plain": [
       "'This is my python class'"
      ]
     },
     "execution_count": 84,
     "metadata": {},
     "output_type": "execute_result"
    }
   ],
   "source": [
    "s1"
   ]
  },
  {
   "cell_type": "code",
   "execution_count": 85,
   "id": "fb7ed6bf",
   "metadata": {},
   "outputs": [
    {
     "data": {
      "text/plain": [
       "'hsi y'"
      ]
     },
     "execution_count": 85,
     "metadata": {},
     "output_type": "execute_result"
    }
   ],
   "source": [
    "s1[1:10:2]"
   ]
  },
  {
   "cell_type": "code",
   "execution_count": 86,
   "id": "f7a07440-5c80-41ae-b338-5f526364ae2a",
   "metadata": {
    "id": "f7a07440-5c80-41ae-b338-5f526364ae2a",
    "outputId": "ce8f9bca-de3e-406c-f19d-9f6d9d780287"
   },
   "outputs": [
    {
     "data": {
      "text/plain": [
       "'my'"
      ]
     },
     "execution_count": 86,
     "metadata": {},
     "output_type": "execute_result"
    }
   ],
   "source": [
    "s1[8:10]"
   ]
  },
  {
   "cell_type": "code",
   "execution_count": 87,
   "id": "7cfc0552-edd1-44f7-8cbc-dd6b5c5c1d5a",
   "metadata": {
    "id": "7cfc0552-edd1-44f7-8cbc-dd6b5c5c1d5a",
    "outputId": "dde6570e-cd9a-4d5a-86aa-8c61e131aac5"
   },
   "outputs": [
    {
     "data": {
      "text/plain": [
       "'h   '"
      ]
     },
     "execution_count": 87,
     "metadata": {},
     "output_type": "execute_result"
    }
   ],
   "source": [
    "s1[1:12:3]"
   ]
  },
  {
   "cell_type": "code",
   "execution_count": 88,
   "id": "9c737062",
   "metadata": {},
   "outputs": [
    {
     "data": {
      "text/plain": [
       "'i s'"
      ]
     },
     "execution_count": 88,
     "metadata": {},
     "output_type": "execute_result"
    }
   ],
   "source": [
    "s1[2:7:2]"
   ]
  },
  {
   "cell_type": "code",
   "execution_count": 89,
   "id": "df8595ae",
   "metadata": {},
   "outputs": [
    {
     "ename": "IndexError",
     "evalue": "string index out of range",
     "output_type": "error",
     "traceback": [
      "\u001b[1;31m---------------------------------------------------------------------------\u001b[0m",
      "\u001b[1;31mIndexError\u001b[0m                                Traceback (most recent call last)",
      "\u001b[1;32m~\\AppData\\Local\\Temp\\ipykernel_13232\\3730972577.py\u001b[0m in \u001b[0;36m<module>\u001b[1;34m\u001b[0m\n\u001b[1;32m----> 1\u001b[1;33m \u001b[0ms1\u001b[0m\u001b[1;33m[\u001b[0m\u001b[1;36m90\u001b[0m\u001b[1;33m]\u001b[0m\u001b[1;33m\u001b[0m\u001b[1;33m\u001b[0m\u001b[0m\n\u001b[0m",
      "\u001b[1;31mIndexError\u001b[0m: string index out of range"
     ]
    }
   ],
   "source": [
    "s1[90]"
   ]
  },
  {
   "cell_type": "code",
   "execution_count": 90,
   "id": "0658b969-44d2-4ab2-a154-e6d935b01672",
   "metadata": {
    "id": "0658b969-44d2-4ab2-a154-e6d935b01672",
    "outputId": "033566c2-3e1b-447a-cca0-1cb2a688ae79"
   },
   "outputs": [
    {
     "data": {
      "text/plain": [
       "'is is my python class'"
      ]
     },
     "execution_count": 90,
     "metadata": {},
     "output_type": "execute_result"
    }
   ],
   "source": [
    "s1[2:8000]"
   ]
  },
  {
   "cell_type": "code",
   "execution_count": 91,
   "id": "f9b7a294",
   "metadata": {},
   "outputs": [
    {
     "data": {
      "text/plain": [
       "'This is my python class'"
      ]
     },
     "execution_count": 91,
     "metadata": {},
     "output_type": "execute_result"
    }
   ],
   "source": [
    "s1[::]"
   ]
  },
  {
   "cell_type": "code",
   "execution_count": 92,
   "id": "4985e0a3",
   "metadata": {},
   "outputs": [
    {
     "data": {
      "text/plain": [
       "'This is my python class'"
      ]
     },
     "execution_count": 92,
     "metadata": {},
     "output_type": "execute_result"
    }
   ],
   "source": [
    "s1"
   ]
  },
  {
   "cell_type": "code",
   "execution_count": 93,
   "id": "c461312f",
   "metadata": {},
   "outputs": [
    {
     "data": {
      "text/plain": [
       "'nohtyp'"
      ]
     },
     "execution_count": 93,
     "metadata": {},
     "output_type": "execute_result"
    }
   ],
   "source": [
    "s1[-7:-13:-1]"
   ]
  },
  {
   "cell_type": "code",
   "execution_count": 27,
   "id": "1d007975",
   "metadata": {},
   "outputs": [
    {
     "data": {
      "text/plain": [
       "'ssalc nohtyp ym si sihT'"
      ]
     },
     "execution_count": 27,
     "metadata": {},
     "output_type": "execute_result"
    }
   ],
   "source": [
    "s1[::-1]"
   ]
  },
  {
   "cell_type": "code",
   "execution_count": null,
   "id": "e0b923d0-985d-4391-bf57-e38842f205ad",
   "metadata": {
    "id": "e0b923d0-985d-4391-bf57-e38842f205ad",
    "outputId": "38c40659-523c-4603-dd82-a4f38c2d0756"
   },
   "outputs": [],
   "source": [
    "s1[2::0]"
   ]
  },
  {
   "cell_type": "code",
   "execution_count": null,
   "id": "f4dcb483",
   "metadata": {},
   "outputs": [],
   "source": [
    "s1"
   ]
  },
  {
   "cell_type": "code",
   "execution_count": null,
   "id": "f658bcdc-33b2-4d41-92cb-47c4155fa674",
   "metadata": {
    "id": "f658bcdc-33b2-4d41-92cb-47c4155fa674",
    "outputId": "1f301a8f-1abc-49dc-ef05-3579ca121866"
   },
   "outputs": [],
   "source": [
    "s1[::2]"
   ]
  },
  {
   "cell_type": "code",
   "execution_count": null,
   "id": "25b68cd9-9ea5-45b0-9b74-941c28f4a649",
   "metadata": {
    "id": "25b68cd9-9ea5-45b0-9b74-941c28f4a649",
    "outputId": "4aa7b470-95fa-4035-ea5b-c432017b4551"
   },
   "outputs": [],
   "source": [
    "s1"
   ]
  },
  {
   "cell_type": "code",
   "execution_count": null,
   "id": "236832ed",
   "metadata": {
    "scrolled": true
   },
   "outputs": [],
   "source": [
    "s1[::-2]"
   ]
  },
  {
   "cell_type": "code",
   "execution_count": null,
   "id": "b20c587b",
   "metadata": {},
   "outputs": [],
   "source": [
    "s1"
   ]
  },
  {
   "cell_type": "code",
   "execution_count": null,
   "id": "a7960ea3-e10c-4b6b-95fa-f5eec61ef3a0",
   "metadata": {
    "id": "a7960ea3-e10c-4b6b-95fa-f5eec61ef3a0",
    "outputId": "8375dd27-c9fc-4517-dcfb-ebb19b580870"
   },
   "outputs": [],
   "source": [
    "s1[3:7]"
   ]
  },
  {
   "cell_type": "code",
   "execution_count": null,
   "id": "bc7ce33b",
   "metadata": {},
   "outputs": [],
   "source": [
    "s1"
   ]
  },
  {
   "cell_type": "code",
   "execution_count": 224,
   "id": "7fde8563",
   "metadata": {},
   "outputs": [
    {
     "data": {
      "text/plain": [
       "'This is my python class'"
      ]
     },
     "execution_count": 224,
     "metadata": {},
     "output_type": "execute_result"
    }
   ],
   "source": [
    "s1"
   ]
  },
  {
   "cell_type": "code",
   "execution_count": 226,
   "id": "8ec0e17e-dae8-43b3-8762-351553e38c53",
   "metadata": {
    "id": "8ec0e17e-dae8-43b3-8762-351553e38c53",
    "outputId": "719ae0f0-4d57-4a6a-dfb0-9de30c4f9859",
    "scrolled": true
   },
   "outputs": [
    {
     "data": {
      "text/plain": [
       "'his is my python '"
      ]
     },
     "execution_count": 226,
     "metadata": {},
     "output_type": "execute_result"
    }
   ],
   "source": [
    "s1[1:-5:1]"
   ]
  },
  {
   "cell_type": "code",
   "execution_count": null,
   "id": "bcf3be35",
   "metadata": {},
   "outputs": [],
   "source": [
    "s1"
   ]
  },
  {
   "cell_type": "code",
   "execution_count": null,
   "id": "9f520c72-9fb3-4484-abf2-f46ee4c01b6a",
   "metadata": {
    "id": "9f520c72-9fb3-4484-abf2-f46ee4c01b6a",
    "outputId": "ca6e6fb9-fb9a-42a6-c2ca-cc3de8c7aa77"
   },
   "outputs": [],
   "source": [
    "s1[::-1]"
   ]
  },
  {
   "cell_type": "code",
   "execution_count": 212,
   "id": "4A6y0TLlkwm2",
   "metadata": {
    "colab": {
     "base_uri": "https://localhost:8080/"
    },
    "id": "4A6y0TLlkwm2",
    "outputId": "1798758a-e26a-49c1-dad0-14199321120e"
   },
   "outputs": [
    {
     "name": "stdout",
     "output_type": "stream",
     "text": [
      "t\n"
     ]
    }
   ],
   "source": [
    "word = \"Python\"\n",
    "\n",
    "print(word[2])"
   ]
  },
  {
   "cell_type": "code",
   "execution_count": 235,
   "id": "698c343c",
   "metadata": {},
   "outputs": [],
   "source": [
    "a = 's','r','e'"
   ]
  },
  {
   "cell_type": "code",
   "execution_count": 236,
   "id": "c2b10c0e",
   "metadata": {},
   "outputs": [
    {
     "data": {
      "text/plain": [
       "tuple"
      ]
     },
     "execution_count": 236,
     "metadata": {},
     "output_type": "execute_result"
    }
   ],
   "source": [
    "type(a)"
   ]
  },
  {
   "cell_type": "code",
   "execution_count": 237,
   "id": "ba664c0c",
   "metadata": {},
   "outputs": [
    {
     "data": {
      "text/plain": [
       "('s', 'r', 'e')"
      ]
     },
     "execution_count": 237,
     "metadata": {},
     "output_type": "execute_result"
    }
   ],
   "source": [
    "a"
   ]
  },
  {
   "cell_type": "code",
   "execution_count": null,
   "id": "96da195c",
   "metadata": {},
   "outputs": [],
   "source": []
  }
 ],
 "metadata": {
  "colab": {
   "provenance": []
  },
  "kernelspec": {
   "display_name": "Python 3 (ipykernel)",
   "language": "python",
   "name": "python3"
  },
  "language_info": {
   "codemirror_mode": {
    "name": "ipython",
    "version": 3
   },
   "file_extension": ".py",
   "mimetype": "text/x-python",
   "name": "python",
   "nbconvert_exporter": "python",
   "pygments_lexer": "ipython3",
   "version": "3.9.13"
  }
 },
 "nbformat": 4,
 "nbformat_minor": 5
}
